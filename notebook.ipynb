{
  "cells": [
    {
      "cell_type": "markdown",
      "metadata": {
        "id": "H9wADwK78DCz"
      },
      "source": [
        "# **Proyek Analisis Data: Bike Sharing**\n",
        "- **Nama:** Muhammad Irsyad Fikri Azhar\n",
        "- **Email:** irsyadfkrz10@gmail.com\n",
        "- **ID Dicoding:** irsyadfkrz"
      ]
    },
    {
      "cell_type": "markdown",
      "metadata": {
        "id": "eE0raob58DC0"
      },
      "source": [
        "## Menentukan Pertanyaan Bisnis"
      ]
    },
    {
      "cell_type": "markdown",
      "metadata": {
        "id": "GmQeQ5YF8DC0"
      },
      "source": [
        "- Bagaimana pola penggunaan penyewaan sepeda pada hari kerja dibandingkan dengan hari libur?\n",
        "- Apakah penggunaan meningkat saat cuaca cerah atau menurun saat hujan?"
      ]
    },
    {
      "cell_type": "markdown",
      "metadata": {
        "id": "H-z4QGlO8DC1"
      },
      "source": [
        "## Import Semua Packages/Library yang Digunakan"
      ]
    },
    {
      "cell_type": "code",
      "execution_count": 750,
      "metadata": {
        "id": "FVYwaObI8DC1"
      },
      "outputs": [],
      "source": [
        "import numpy as np\n",
        "import pandas as pd\n",
        "import matplotlib.pyplot as plt\n",
        "import seaborn as sns"
      ]
    },
    {
      "cell_type": "markdown",
      "metadata": {
        "id": "h_Sh51Xy8DC1"
      },
      "source": [
        "## Data Wrangling"
      ]
    },
    {
      "cell_type": "markdown",
      "metadata": {
        "id": "sXU2GBYu8DC1"
      },
      "source": [
        "### Gathering Data"
      ]
    },
    {
      "cell_type": "code",
      "execution_count": 615,
      "metadata": {
        "colab": {
          "base_uri": "https://localhost:8080/",
          "height": 206
        },
        "id": "zjCBk1BI8DC1",
        "outputId": "1e8f3cab-cf6a-4bb2-f80b-6335805a2418"
      },
      "outputs": [
        {
          "data": {
            "text/html": [
              "<div>\n",
              "<style scoped>\n",
              "    .dataframe tbody tr th:only-of-type {\n",
              "        vertical-align: middle;\n",
              "    }\n",
              "\n",
              "    .dataframe tbody tr th {\n",
              "        vertical-align: top;\n",
              "    }\n",
              "\n",
              "    .dataframe thead th {\n",
              "        text-align: right;\n",
              "    }\n",
              "</style>\n",
              "<table border=\"1\" class=\"dataframe\">\n",
              "  <thead>\n",
              "    <tr style=\"text-align: right;\">\n",
              "      <th></th>\n",
              "      <th>instant</th>\n",
              "      <th>dteday</th>\n",
              "      <th>season</th>\n",
              "      <th>yr</th>\n",
              "      <th>mnth</th>\n",
              "      <th>holiday</th>\n",
              "      <th>weekday</th>\n",
              "      <th>workingday</th>\n",
              "      <th>weathersit</th>\n",
              "      <th>temp</th>\n",
              "      <th>atemp</th>\n",
              "      <th>hum</th>\n",
              "      <th>windspeed</th>\n",
              "      <th>casual</th>\n",
              "      <th>registered</th>\n",
              "      <th>cnt</th>\n",
              "    </tr>\n",
              "  </thead>\n",
              "  <tbody>\n",
              "    <tr>\n",
              "      <th>0</th>\n",
              "      <td>1</td>\n",
              "      <td>2011-01-01</td>\n",
              "      <td>1</td>\n",
              "      <td>0</td>\n",
              "      <td>1</td>\n",
              "      <td>0</td>\n",
              "      <td>6</td>\n",
              "      <td>0</td>\n",
              "      <td>2</td>\n",
              "      <td>0.344167</td>\n",
              "      <td>0.363625</td>\n",
              "      <td>0.805833</td>\n",
              "      <td>0.160446</td>\n",
              "      <td>331</td>\n",
              "      <td>654</td>\n",
              "      <td>985</td>\n",
              "    </tr>\n",
              "    <tr>\n",
              "      <th>1</th>\n",
              "      <td>2</td>\n",
              "      <td>2011-01-02</td>\n",
              "      <td>1</td>\n",
              "      <td>0</td>\n",
              "      <td>1</td>\n",
              "      <td>0</td>\n",
              "      <td>0</td>\n",
              "      <td>0</td>\n",
              "      <td>2</td>\n",
              "      <td>0.363478</td>\n",
              "      <td>0.353739</td>\n",
              "      <td>0.696087</td>\n",
              "      <td>0.248539</td>\n",
              "      <td>131</td>\n",
              "      <td>670</td>\n",
              "      <td>801</td>\n",
              "    </tr>\n",
              "    <tr>\n",
              "      <th>2</th>\n",
              "      <td>3</td>\n",
              "      <td>2011-01-03</td>\n",
              "      <td>1</td>\n",
              "      <td>0</td>\n",
              "      <td>1</td>\n",
              "      <td>0</td>\n",
              "      <td>1</td>\n",
              "      <td>1</td>\n",
              "      <td>1</td>\n",
              "      <td>0.196364</td>\n",
              "      <td>0.189405</td>\n",
              "      <td>0.437273</td>\n",
              "      <td>0.248309</td>\n",
              "      <td>120</td>\n",
              "      <td>1229</td>\n",
              "      <td>1349</td>\n",
              "    </tr>\n",
              "    <tr>\n",
              "      <th>3</th>\n",
              "      <td>4</td>\n",
              "      <td>2011-01-04</td>\n",
              "      <td>1</td>\n",
              "      <td>0</td>\n",
              "      <td>1</td>\n",
              "      <td>0</td>\n",
              "      <td>2</td>\n",
              "      <td>1</td>\n",
              "      <td>1</td>\n",
              "      <td>0.200000</td>\n",
              "      <td>0.212122</td>\n",
              "      <td>0.590435</td>\n",
              "      <td>0.160296</td>\n",
              "      <td>108</td>\n",
              "      <td>1454</td>\n",
              "      <td>1562</td>\n",
              "    </tr>\n",
              "    <tr>\n",
              "      <th>4</th>\n",
              "      <td>5</td>\n",
              "      <td>2011-01-05</td>\n",
              "      <td>1</td>\n",
              "      <td>0</td>\n",
              "      <td>1</td>\n",
              "      <td>0</td>\n",
              "      <td>3</td>\n",
              "      <td>1</td>\n",
              "      <td>1</td>\n",
              "      <td>0.226957</td>\n",
              "      <td>0.229270</td>\n",
              "      <td>0.436957</td>\n",
              "      <td>0.186900</td>\n",
              "      <td>82</td>\n",
              "      <td>1518</td>\n",
              "      <td>1600</td>\n",
              "    </tr>\n",
              "  </tbody>\n",
              "</table>\n",
              "</div>"
            ],
            "text/plain": [
              "   instant      dteday  season  yr  mnth  holiday  weekday  workingday  \\\n",
              "0        1  2011-01-01       1   0     1        0        6           0   \n",
              "1        2  2011-01-02       1   0     1        0        0           0   \n",
              "2        3  2011-01-03       1   0     1        0        1           1   \n",
              "3        4  2011-01-04       1   0     1        0        2           1   \n",
              "4        5  2011-01-05       1   0     1        0        3           1   \n",
              "\n",
              "   weathersit      temp     atemp       hum  windspeed  casual  registered  \\\n",
              "0           2  0.344167  0.363625  0.805833   0.160446     331         654   \n",
              "1           2  0.363478  0.353739  0.696087   0.248539     131         670   \n",
              "2           1  0.196364  0.189405  0.437273   0.248309     120        1229   \n",
              "3           1  0.200000  0.212122  0.590435   0.160296     108        1454   \n",
              "4           1  0.226957  0.229270  0.436957   0.186900      82        1518   \n",
              "\n",
              "    cnt  \n",
              "0   985  \n",
              "1   801  \n",
              "2  1349  \n",
              "3  1562  \n",
              "4  1600  "
            ]
          },
          "execution_count": 615,
          "metadata": {},
          "output_type": "execute_result"
        }
      ],
      "source": [
        "day_df = pd.read_csv(\"data/day.csv\")\n",
        "day_df.head()"
      ]
    },
    {
      "cell_type": "code",
      "execution_count": 616,
      "metadata": {
        "colab": {
          "base_uri": "https://localhost:8080/",
          "height": 206
        },
        "id": "V-ph39-iOYO0",
        "outputId": "254c9e35-dc0a-4771-b1e9-23e7c23c35e3"
      },
      "outputs": [
        {
          "data": {
            "text/html": [
              "<div>\n",
              "<style scoped>\n",
              "    .dataframe tbody tr th:only-of-type {\n",
              "        vertical-align: middle;\n",
              "    }\n",
              "\n",
              "    .dataframe tbody tr th {\n",
              "        vertical-align: top;\n",
              "    }\n",
              "\n",
              "    .dataframe thead th {\n",
              "        text-align: right;\n",
              "    }\n",
              "</style>\n",
              "<table border=\"1\" class=\"dataframe\">\n",
              "  <thead>\n",
              "    <tr style=\"text-align: right;\">\n",
              "      <th></th>\n",
              "      <th>instant</th>\n",
              "      <th>dteday</th>\n",
              "      <th>season</th>\n",
              "      <th>yr</th>\n",
              "      <th>mnth</th>\n",
              "      <th>hr</th>\n",
              "      <th>holiday</th>\n",
              "      <th>weekday</th>\n",
              "      <th>workingday</th>\n",
              "      <th>weathersit</th>\n",
              "      <th>temp</th>\n",
              "      <th>atemp</th>\n",
              "      <th>hum</th>\n",
              "      <th>windspeed</th>\n",
              "      <th>casual</th>\n",
              "      <th>registered</th>\n",
              "      <th>cnt</th>\n",
              "    </tr>\n",
              "  </thead>\n",
              "  <tbody>\n",
              "    <tr>\n",
              "      <th>0</th>\n",
              "      <td>1</td>\n",
              "      <td>2011-01-01</td>\n",
              "      <td>1</td>\n",
              "      <td>0</td>\n",
              "      <td>1</td>\n",
              "      <td>0</td>\n",
              "      <td>0</td>\n",
              "      <td>6</td>\n",
              "      <td>0</td>\n",
              "      <td>1</td>\n",
              "      <td>0.24</td>\n",
              "      <td>0.2879</td>\n",
              "      <td>0.81</td>\n",
              "      <td>0.0</td>\n",
              "      <td>3</td>\n",
              "      <td>13</td>\n",
              "      <td>16</td>\n",
              "    </tr>\n",
              "    <tr>\n",
              "      <th>1</th>\n",
              "      <td>2</td>\n",
              "      <td>2011-01-01</td>\n",
              "      <td>1</td>\n",
              "      <td>0</td>\n",
              "      <td>1</td>\n",
              "      <td>1</td>\n",
              "      <td>0</td>\n",
              "      <td>6</td>\n",
              "      <td>0</td>\n",
              "      <td>1</td>\n",
              "      <td>0.22</td>\n",
              "      <td>0.2727</td>\n",
              "      <td>0.80</td>\n",
              "      <td>0.0</td>\n",
              "      <td>8</td>\n",
              "      <td>32</td>\n",
              "      <td>40</td>\n",
              "    </tr>\n",
              "    <tr>\n",
              "      <th>2</th>\n",
              "      <td>3</td>\n",
              "      <td>2011-01-01</td>\n",
              "      <td>1</td>\n",
              "      <td>0</td>\n",
              "      <td>1</td>\n",
              "      <td>2</td>\n",
              "      <td>0</td>\n",
              "      <td>6</td>\n",
              "      <td>0</td>\n",
              "      <td>1</td>\n",
              "      <td>0.22</td>\n",
              "      <td>0.2727</td>\n",
              "      <td>0.80</td>\n",
              "      <td>0.0</td>\n",
              "      <td>5</td>\n",
              "      <td>27</td>\n",
              "      <td>32</td>\n",
              "    </tr>\n",
              "    <tr>\n",
              "      <th>3</th>\n",
              "      <td>4</td>\n",
              "      <td>2011-01-01</td>\n",
              "      <td>1</td>\n",
              "      <td>0</td>\n",
              "      <td>1</td>\n",
              "      <td>3</td>\n",
              "      <td>0</td>\n",
              "      <td>6</td>\n",
              "      <td>0</td>\n",
              "      <td>1</td>\n",
              "      <td>0.24</td>\n",
              "      <td>0.2879</td>\n",
              "      <td>0.75</td>\n",
              "      <td>0.0</td>\n",
              "      <td>3</td>\n",
              "      <td>10</td>\n",
              "      <td>13</td>\n",
              "    </tr>\n",
              "    <tr>\n",
              "      <th>4</th>\n",
              "      <td>5</td>\n",
              "      <td>2011-01-01</td>\n",
              "      <td>1</td>\n",
              "      <td>0</td>\n",
              "      <td>1</td>\n",
              "      <td>4</td>\n",
              "      <td>0</td>\n",
              "      <td>6</td>\n",
              "      <td>0</td>\n",
              "      <td>1</td>\n",
              "      <td>0.24</td>\n",
              "      <td>0.2879</td>\n",
              "      <td>0.75</td>\n",
              "      <td>0.0</td>\n",
              "      <td>0</td>\n",
              "      <td>1</td>\n",
              "      <td>1</td>\n",
              "    </tr>\n",
              "  </tbody>\n",
              "</table>\n",
              "</div>"
            ],
            "text/plain": [
              "   instant      dteday  season  yr  mnth  hr  holiday  weekday  workingday  \\\n",
              "0        1  2011-01-01       1   0     1   0        0        6           0   \n",
              "1        2  2011-01-01       1   0     1   1        0        6           0   \n",
              "2        3  2011-01-01       1   0     1   2        0        6           0   \n",
              "3        4  2011-01-01       1   0     1   3        0        6           0   \n",
              "4        5  2011-01-01       1   0     1   4        0        6           0   \n",
              "\n",
              "   weathersit  temp   atemp   hum  windspeed  casual  registered  cnt  \n",
              "0           1  0.24  0.2879  0.81        0.0       3          13   16  \n",
              "1           1  0.22  0.2727  0.80        0.0       8          32   40  \n",
              "2           1  0.22  0.2727  0.80        0.0       5          27   32  \n",
              "3           1  0.24  0.2879  0.75        0.0       3          10   13  \n",
              "4           1  0.24  0.2879  0.75        0.0       0           1    1  "
            ]
          },
          "execution_count": 616,
          "metadata": {},
          "output_type": "execute_result"
        }
      ],
      "source": [
        "hour_df = pd.read_csv(\"data/hour.csv\")\n",
        "hour_df.head()"
      ]
    },
    {
      "cell_type": "markdown",
      "metadata": {
        "id": "FHSiqaZp8DC1"
      },
      "source": [
        "### Assessing Data"
      ]
    },
    {
      "cell_type": "markdown",
      "metadata": {
        "id": "Ic0O0e2MThrk"
      },
      "source": [
        "#### Assesing day_df"
      ]
    },
    {
      "cell_type": "code",
      "execution_count": 617,
      "metadata": {
        "colab": {
          "base_uri": "https://localhost:8080/"
        },
        "id": "ax-3tEjc9Cj1",
        "outputId": "2745a903-799a-4659-fd61-b32535671ea5"
      },
      "outputs": [
        {
          "name": "stdout",
          "output_type": "stream",
          "text": [
            "<class 'pandas.core.frame.DataFrame'>\n",
            "RangeIndex: 731 entries, 0 to 730\n",
            "Data columns (total 16 columns):\n",
            " #   Column      Non-Null Count  Dtype  \n",
            "---  ------      --------------  -----  \n",
            " 0   instant     731 non-null    int64  \n",
            " 1   dteday      731 non-null    object \n",
            " 2   season      731 non-null    int64  \n",
            " 3   yr          731 non-null    int64  \n",
            " 4   mnth        731 non-null    int64  \n",
            " 5   holiday     731 non-null    int64  \n",
            " 6   weekday     731 non-null    int64  \n",
            " 7   workingday  731 non-null    int64  \n",
            " 8   weathersit  731 non-null    int64  \n",
            " 9   temp        731 non-null    float64\n",
            " 10  atemp       731 non-null    float64\n",
            " 11  hum         731 non-null    float64\n",
            " 12  windspeed   731 non-null    float64\n",
            " 13  casual      731 non-null    int64  \n",
            " 14  registered  731 non-null    int64  \n",
            " 15  cnt         731 non-null    int64  \n",
            "dtypes: float64(4), int64(11), object(1)\n",
            "memory usage: 91.5+ KB\n"
          ]
        }
      ],
      "source": [
        "day_df.info()"
      ]
    },
    {
      "cell_type": "code",
      "execution_count": 618,
      "metadata": {
        "colab": {
          "base_uri": "https://localhost:8080/"
        },
        "id": "Muovg-SKP8OI",
        "outputId": "f4d29952-ad51-46fc-fd40-18de5e7367bd"
      },
      "outputs": [
        {
          "data": {
            "text/plain": [
              "instant       0\n",
              "dteday        0\n",
              "season        0\n",
              "yr            0\n",
              "mnth          0\n",
              "holiday       0\n",
              "weekday       0\n",
              "workingday    0\n",
              "weathersit    0\n",
              "temp          0\n",
              "atemp         0\n",
              "hum           0\n",
              "windspeed     0\n",
              "casual        0\n",
              "registered    0\n",
              "cnt           0\n",
              "dtype: int64"
            ]
          },
          "execution_count": 618,
          "metadata": {},
          "output_type": "execute_result"
        }
      ],
      "source": [
        "day_df.isna().sum()"
      ]
    },
    {
      "cell_type": "code",
      "execution_count": 619,
      "metadata": {
        "colab": {
          "base_uri": "https://localhost:8080/"
        },
        "id": "7r8H7mnYPZ1p",
        "outputId": "72aef444-6e6d-40cd-f077-a02ddd3070d8"
      },
      "outputs": [
        {
          "name": "stdout",
          "output_type": "stream",
          "text": [
            "instant                int64\n",
            "dteday        datetime64[ns]\n",
            "season                 int64\n",
            "yr                     int64\n",
            "mnth                   int64\n",
            "holiday                int64\n",
            "weekday                int64\n",
            "workingday             int64\n",
            "weathersit             int64\n",
            "temp                 float64\n",
            "atemp                float64\n",
            "hum                  float64\n",
            "windspeed            float64\n",
            "casual                 int64\n",
            "registered             int64\n",
            "cnt                    int64\n",
            "dtype: object\n"
          ]
        }
      ],
      "source": [
        "# Mengubah Tipe data Dteday menjadi Datetime pada Day_df\n",
        "day_df['dteday'] = pd.to_datetime(day_df['dteday'], format='%Y-%m-%d')\n",
        "print(day_df.dtypes)"
      ]
    },
    {
      "cell_type": "code",
      "execution_count": 620,
      "metadata": {
        "colab": {
          "base_uri": "https://localhost:8080/"
        },
        "id": "Gnkd7v5nQMp3",
        "outputId": "29055c06-db7a-4555-a30c-6dad1569d278"
      },
      "outputs": [
        {
          "name": "stdout",
          "output_type": "stream",
          "text": [
            "Jumlah duplikasi:  0\n"
          ]
        }
      ],
      "source": [
        "print(\"Jumlah duplikasi: \", day_df.duplicated().sum())"
      ]
    },
    {
      "cell_type": "code",
      "execution_count": 621,
      "metadata": {
        "colab": {
          "base_uri": "https://localhost:8080/",
          "height": 320
        },
        "id": "gOc7bAdqQeJr",
        "outputId": "9bf19f84-b7c2-4f59-9602-92357a50b1fd"
      },
      "outputs": [
        {
          "data": {
            "text/html": [
              "<div>\n",
              "<style scoped>\n",
              "    .dataframe tbody tr th:only-of-type {\n",
              "        vertical-align: middle;\n",
              "    }\n",
              "\n",
              "    .dataframe tbody tr th {\n",
              "        vertical-align: top;\n",
              "    }\n",
              "\n",
              "    .dataframe thead th {\n",
              "        text-align: right;\n",
              "    }\n",
              "</style>\n",
              "<table border=\"1\" class=\"dataframe\">\n",
              "  <thead>\n",
              "    <tr style=\"text-align: right;\">\n",
              "      <th></th>\n",
              "      <th>instant</th>\n",
              "      <th>season</th>\n",
              "      <th>yr</th>\n",
              "      <th>mnth</th>\n",
              "      <th>holiday</th>\n",
              "      <th>weekday</th>\n",
              "      <th>workingday</th>\n",
              "      <th>weathersit</th>\n",
              "      <th>temp</th>\n",
              "      <th>atemp</th>\n",
              "      <th>hum</th>\n",
              "      <th>windspeed</th>\n",
              "      <th>casual</th>\n",
              "      <th>registered</th>\n",
              "      <th>cnt</th>\n",
              "    </tr>\n",
              "  </thead>\n",
              "  <tbody>\n",
              "    <tr>\n",
              "      <th>count</th>\n",
              "      <td>731.000000</td>\n",
              "      <td>731.000000</td>\n",
              "      <td>731.000000</td>\n",
              "      <td>731.000000</td>\n",
              "      <td>731.000000</td>\n",
              "      <td>731.000000</td>\n",
              "      <td>731.000000</td>\n",
              "      <td>731.000000</td>\n",
              "      <td>731.000000</td>\n",
              "      <td>731.000000</td>\n",
              "      <td>731.000000</td>\n",
              "      <td>731.000000</td>\n",
              "      <td>731.000000</td>\n",
              "      <td>731.000000</td>\n",
              "      <td>731.000000</td>\n",
              "    </tr>\n",
              "    <tr>\n",
              "      <th>mean</th>\n",
              "      <td>366.000000</td>\n",
              "      <td>2.496580</td>\n",
              "      <td>0.500684</td>\n",
              "      <td>6.519836</td>\n",
              "      <td>0.028728</td>\n",
              "      <td>2.997264</td>\n",
              "      <td>0.683995</td>\n",
              "      <td>1.395349</td>\n",
              "      <td>0.495385</td>\n",
              "      <td>0.474354</td>\n",
              "      <td>0.627894</td>\n",
              "      <td>0.190486</td>\n",
              "      <td>848.176471</td>\n",
              "      <td>3656.172367</td>\n",
              "      <td>4504.348837</td>\n",
              "    </tr>\n",
              "    <tr>\n",
              "      <th>std</th>\n",
              "      <td>211.165812</td>\n",
              "      <td>1.110807</td>\n",
              "      <td>0.500342</td>\n",
              "      <td>3.451913</td>\n",
              "      <td>0.167155</td>\n",
              "      <td>2.004787</td>\n",
              "      <td>0.465233</td>\n",
              "      <td>0.544894</td>\n",
              "      <td>0.183051</td>\n",
              "      <td>0.162961</td>\n",
              "      <td>0.142429</td>\n",
              "      <td>0.077498</td>\n",
              "      <td>686.622488</td>\n",
              "      <td>1560.256377</td>\n",
              "      <td>1937.211452</td>\n",
              "    </tr>\n",
              "    <tr>\n",
              "      <th>min</th>\n",
              "      <td>1.000000</td>\n",
              "      <td>1.000000</td>\n",
              "      <td>0.000000</td>\n",
              "      <td>1.000000</td>\n",
              "      <td>0.000000</td>\n",
              "      <td>0.000000</td>\n",
              "      <td>0.000000</td>\n",
              "      <td>1.000000</td>\n",
              "      <td>0.059130</td>\n",
              "      <td>0.079070</td>\n",
              "      <td>0.000000</td>\n",
              "      <td>0.022392</td>\n",
              "      <td>2.000000</td>\n",
              "      <td>20.000000</td>\n",
              "      <td>22.000000</td>\n",
              "    </tr>\n",
              "    <tr>\n",
              "      <th>25%</th>\n",
              "      <td>183.500000</td>\n",
              "      <td>2.000000</td>\n",
              "      <td>0.000000</td>\n",
              "      <td>4.000000</td>\n",
              "      <td>0.000000</td>\n",
              "      <td>1.000000</td>\n",
              "      <td>0.000000</td>\n",
              "      <td>1.000000</td>\n",
              "      <td>0.337083</td>\n",
              "      <td>0.337842</td>\n",
              "      <td>0.520000</td>\n",
              "      <td>0.134950</td>\n",
              "      <td>315.500000</td>\n",
              "      <td>2497.000000</td>\n",
              "      <td>3152.000000</td>\n",
              "    </tr>\n",
              "    <tr>\n",
              "      <th>50%</th>\n",
              "      <td>366.000000</td>\n",
              "      <td>3.000000</td>\n",
              "      <td>1.000000</td>\n",
              "      <td>7.000000</td>\n",
              "      <td>0.000000</td>\n",
              "      <td>3.000000</td>\n",
              "      <td>1.000000</td>\n",
              "      <td>1.000000</td>\n",
              "      <td>0.498333</td>\n",
              "      <td>0.486733</td>\n",
              "      <td>0.626667</td>\n",
              "      <td>0.180975</td>\n",
              "      <td>713.000000</td>\n",
              "      <td>3662.000000</td>\n",
              "      <td>4548.000000</td>\n",
              "    </tr>\n",
              "    <tr>\n",
              "      <th>75%</th>\n",
              "      <td>548.500000</td>\n",
              "      <td>3.000000</td>\n",
              "      <td>1.000000</td>\n",
              "      <td>10.000000</td>\n",
              "      <td>0.000000</td>\n",
              "      <td>5.000000</td>\n",
              "      <td>1.000000</td>\n",
              "      <td>2.000000</td>\n",
              "      <td>0.655417</td>\n",
              "      <td>0.608602</td>\n",
              "      <td>0.730209</td>\n",
              "      <td>0.233214</td>\n",
              "      <td>1096.000000</td>\n",
              "      <td>4776.500000</td>\n",
              "      <td>5956.000000</td>\n",
              "    </tr>\n",
              "    <tr>\n",
              "      <th>max</th>\n",
              "      <td>731.000000</td>\n",
              "      <td>4.000000</td>\n",
              "      <td>1.000000</td>\n",
              "      <td>12.000000</td>\n",
              "      <td>1.000000</td>\n",
              "      <td>6.000000</td>\n",
              "      <td>1.000000</td>\n",
              "      <td>3.000000</td>\n",
              "      <td>0.861667</td>\n",
              "      <td>0.840896</td>\n",
              "      <td>0.972500</td>\n",
              "      <td>0.507463</td>\n",
              "      <td>3410.000000</td>\n",
              "      <td>6946.000000</td>\n",
              "      <td>8714.000000</td>\n",
              "    </tr>\n",
              "  </tbody>\n",
              "</table>\n",
              "</div>"
            ],
            "text/plain": [
              "          instant      season          yr        mnth     holiday     weekday  \\\n",
              "count  731.000000  731.000000  731.000000  731.000000  731.000000  731.000000   \n",
              "mean   366.000000    2.496580    0.500684    6.519836    0.028728    2.997264   \n",
              "std    211.165812    1.110807    0.500342    3.451913    0.167155    2.004787   \n",
              "min      1.000000    1.000000    0.000000    1.000000    0.000000    0.000000   \n",
              "25%    183.500000    2.000000    0.000000    4.000000    0.000000    1.000000   \n",
              "50%    366.000000    3.000000    1.000000    7.000000    0.000000    3.000000   \n",
              "75%    548.500000    3.000000    1.000000   10.000000    0.000000    5.000000   \n",
              "max    731.000000    4.000000    1.000000   12.000000    1.000000    6.000000   \n",
              "\n",
              "       workingday  weathersit        temp       atemp         hum   windspeed  \\\n",
              "count  731.000000  731.000000  731.000000  731.000000  731.000000  731.000000   \n",
              "mean     0.683995    1.395349    0.495385    0.474354    0.627894    0.190486   \n",
              "std      0.465233    0.544894    0.183051    0.162961    0.142429    0.077498   \n",
              "min      0.000000    1.000000    0.059130    0.079070    0.000000    0.022392   \n",
              "25%      0.000000    1.000000    0.337083    0.337842    0.520000    0.134950   \n",
              "50%      1.000000    1.000000    0.498333    0.486733    0.626667    0.180975   \n",
              "75%      1.000000    2.000000    0.655417    0.608602    0.730209    0.233214   \n",
              "max      1.000000    3.000000    0.861667    0.840896    0.972500    0.507463   \n",
              "\n",
              "            casual   registered          cnt  \n",
              "count   731.000000   731.000000   731.000000  \n",
              "mean    848.176471  3656.172367  4504.348837  \n",
              "std     686.622488  1560.256377  1937.211452  \n",
              "min       2.000000    20.000000    22.000000  \n",
              "25%     315.500000  2497.000000  3152.000000  \n",
              "50%     713.000000  3662.000000  4548.000000  \n",
              "75%    1096.000000  4776.500000  5956.000000  \n",
              "max    3410.000000  6946.000000  8714.000000  "
            ]
          },
          "execution_count": 621,
          "metadata": {},
          "output_type": "execute_result"
        }
      ],
      "source": [
        "day_df.describe()"
      ]
    },
    {
      "cell_type": "code",
      "execution_count": 622,
      "metadata": {
        "colab": {
          "base_uri": "https://localhost:8080/"
        },
        "id": "A0b2huu0bH-N",
        "outputId": "c4cb4af7-2f63-4d16-fbcb-826ccfe3bbc3"
      },
      "outputs": [
        {
          "data": {
            "text/plain": [
              "yr              2\n",
              "holiday         2\n",
              "workingday      2\n",
              "weathersit      3\n",
              "season          4\n",
              "weekday         7\n",
              "mnth           12\n",
              "temp          499\n",
              "hum           595\n",
              "casual        606\n",
              "windspeed     650\n",
              "registered    679\n",
              "atemp         690\n",
              "cnt           696\n",
              "instant       731\n",
              "dteday        731\n",
              "dtype: int64"
            ]
          },
          "execution_count": 622,
          "metadata": {},
          "output_type": "execute_result"
        }
      ],
      "source": [
        "# Memeriksa jumlah baris unik dalam setiap fitur\n",
        "day_df.nunique().sort_values()"
      ]
    },
    {
      "cell_type": "markdown",
      "metadata": {
        "id": "d8pUUZxJQRUv"
      },
      "source": [
        "#### Assesing Hour_df"
      ]
    },
    {
      "cell_type": "code",
      "execution_count": 623,
      "metadata": {
        "colab": {
          "base_uri": "https://localhost:8080/"
        },
        "id": "pB3mS3ZEPM7U",
        "outputId": "fc917909-5987-463f-f98b-c1ba30ac5b3b"
      },
      "outputs": [
        {
          "name": "stdout",
          "output_type": "stream",
          "text": [
            "<class 'pandas.core.frame.DataFrame'>\n",
            "RangeIndex: 17379 entries, 0 to 17378\n",
            "Data columns (total 17 columns):\n",
            " #   Column      Non-Null Count  Dtype  \n",
            "---  ------      --------------  -----  \n",
            " 0   instant     17379 non-null  int64  \n",
            " 1   dteday      17379 non-null  object \n",
            " 2   season      17379 non-null  int64  \n",
            " 3   yr          17379 non-null  int64  \n",
            " 4   mnth        17379 non-null  int64  \n",
            " 5   hr          17379 non-null  int64  \n",
            " 6   holiday     17379 non-null  int64  \n",
            " 7   weekday     17379 non-null  int64  \n",
            " 8   workingday  17379 non-null  int64  \n",
            " 9   weathersit  17379 non-null  int64  \n",
            " 10  temp        17379 non-null  float64\n",
            " 11  atemp       17379 non-null  float64\n",
            " 12  hum         17379 non-null  float64\n",
            " 13  windspeed   17379 non-null  float64\n",
            " 14  casual      17379 non-null  int64  \n",
            " 15  registered  17379 non-null  int64  \n",
            " 16  cnt         17379 non-null  int64  \n",
            "dtypes: float64(4), int64(12), object(1)\n",
            "memory usage: 2.3+ MB\n"
          ]
        }
      ],
      "source": [
        "hour_df.info()"
      ]
    },
    {
      "cell_type": "code",
      "execution_count": 624,
      "metadata": {
        "colab": {
          "base_uri": "https://localhost:8080/"
        },
        "id": "9WBx9NhjPaGN",
        "outputId": "1b60aedf-ecdf-45e2-d2f9-93ef2cf45505"
      },
      "outputs": [
        {
          "name": "stdout",
          "output_type": "stream",
          "text": [
            "Jumlah duplikasi:  0\n"
          ]
        }
      ],
      "source": [
        "print(\"Jumlah duplikasi: \", hour_df.duplicated().sum())"
      ]
    },
    {
      "cell_type": "code",
      "execution_count": 625,
      "metadata": {
        "colab": {
          "base_uri": "https://localhost:8080/"
        },
        "id": "EMP77MFAPaBx",
        "outputId": "54e10646-6fd1-4e01-8652-3e4364aa235c"
      },
      "outputs": [
        {
          "data": {
            "text/plain": [
              "instant       0\n",
              "dteday        0\n",
              "season        0\n",
              "yr            0\n",
              "mnth          0\n",
              "hr            0\n",
              "holiday       0\n",
              "weekday       0\n",
              "workingday    0\n",
              "weathersit    0\n",
              "temp          0\n",
              "atemp         0\n",
              "hum           0\n",
              "windspeed     0\n",
              "casual        0\n",
              "registered    0\n",
              "cnt           0\n",
              "dtype: int64"
            ]
          },
          "execution_count": 625,
          "metadata": {},
          "output_type": "execute_result"
        }
      ],
      "source": [
        "hour_df.isna().sum()"
      ]
    },
    {
      "cell_type": "code",
      "execution_count": 626,
      "metadata": {
        "colab": {
          "base_uri": "https://localhost:8080/",
          "height": 320
        },
        "id": "isBy_fzGPaJk",
        "outputId": "90941ee4-aa6c-4d6a-f0cd-30eed8a38eea"
      },
      "outputs": [
        {
          "data": {
            "text/html": [
              "<div>\n",
              "<style scoped>\n",
              "    .dataframe tbody tr th:only-of-type {\n",
              "        vertical-align: middle;\n",
              "    }\n",
              "\n",
              "    .dataframe tbody tr th {\n",
              "        vertical-align: top;\n",
              "    }\n",
              "\n",
              "    .dataframe thead th {\n",
              "        text-align: right;\n",
              "    }\n",
              "</style>\n",
              "<table border=\"1\" class=\"dataframe\">\n",
              "  <thead>\n",
              "    <tr style=\"text-align: right;\">\n",
              "      <th></th>\n",
              "      <th>instant</th>\n",
              "      <th>season</th>\n",
              "      <th>yr</th>\n",
              "      <th>mnth</th>\n",
              "      <th>hr</th>\n",
              "      <th>holiday</th>\n",
              "      <th>weekday</th>\n",
              "      <th>workingday</th>\n",
              "      <th>weathersit</th>\n",
              "      <th>temp</th>\n",
              "      <th>atemp</th>\n",
              "      <th>hum</th>\n",
              "      <th>windspeed</th>\n",
              "      <th>casual</th>\n",
              "      <th>registered</th>\n",
              "      <th>cnt</th>\n",
              "    </tr>\n",
              "  </thead>\n",
              "  <tbody>\n",
              "    <tr>\n",
              "      <th>count</th>\n",
              "      <td>17379.0000</td>\n",
              "      <td>17379.000000</td>\n",
              "      <td>17379.000000</td>\n",
              "      <td>17379.000000</td>\n",
              "      <td>17379.000000</td>\n",
              "      <td>17379.000000</td>\n",
              "      <td>17379.000000</td>\n",
              "      <td>17379.000000</td>\n",
              "      <td>17379.000000</td>\n",
              "      <td>17379.000000</td>\n",
              "      <td>17379.000000</td>\n",
              "      <td>17379.000000</td>\n",
              "      <td>17379.000000</td>\n",
              "      <td>17379.000000</td>\n",
              "      <td>17379.000000</td>\n",
              "      <td>17379.000000</td>\n",
              "    </tr>\n",
              "    <tr>\n",
              "      <th>mean</th>\n",
              "      <td>8690.0000</td>\n",
              "      <td>2.501640</td>\n",
              "      <td>0.502561</td>\n",
              "      <td>6.537775</td>\n",
              "      <td>11.546752</td>\n",
              "      <td>0.028770</td>\n",
              "      <td>3.003683</td>\n",
              "      <td>0.682721</td>\n",
              "      <td>1.425283</td>\n",
              "      <td>0.496987</td>\n",
              "      <td>0.475775</td>\n",
              "      <td>0.627229</td>\n",
              "      <td>0.190098</td>\n",
              "      <td>35.676218</td>\n",
              "      <td>153.786869</td>\n",
              "      <td>189.463088</td>\n",
              "    </tr>\n",
              "    <tr>\n",
              "      <th>std</th>\n",
              "      <td>5017.0295</td>\n",
              "      <td>1.106918</td>\n",
              "      <td>0.500008</td>\n",
              "      <td>3.438776</td>\n",
              "      <td>6.914405</td>\n",
              "      <td>0.167165</td>\n",
              "      <td>2.005771</td>\n",
              "      <td>0.465431</td>\n",
              "      <td>0.639357</td>\n",
              "      <td>0.192556</td>\n",
              "      <td>0.171850</td>\n",
              "      <td>0.192930</td>\n",
              "      <td>0.122340</td>\n",
              "      <td>49.305030</td>\n",
              "      <td>151.357286</td>\n",
              "      <td>181.387599</td>\n",
              "    </tr>\n",
              "    <tr>\n",
              "      <th>min</th>\n",
              "      <td>1.0000</td>\n",
              "      <td>1.000000</td>\n",
              "      <td>0.000000</td>\n",
              "      <td>1.000000</td>\n",
              "      <td>0.000000</td>\n",
              "      <td>0.000000</td>\n",
              "      <td>0.000000</td>\n",
              "      <td>0.000000</td>\n",
              "      <td>1.000000</td>\n",
              "      <td>0.020000</td>\n",
              "      <td>0.000000</td>\n",
              "      <td>0.000000</td>\n",
              "      <td>0.000000</td>\n",
              "      <td>0.000000</td>\n",
              "      <td>0.000000</td>\n",
              "      <td>1.000000</td>\n",
              "    </tr>\n",
              "    <tr>\n",
              "      <th>25%</th>\n",
              "      <td>4345.5000</td>\n",
              "      <td>2.000000</td>\n",
              "      <td>0.000000</td>\n",
              "      <td>4.000000</td>\n",
              "      <td>6.000000</td>\n",
              "      <td>0.000000</td>\n",
              "      <td>1.000000</td>\n",
              "      <td>0.000000</td>\n",
              "      <td>1.000000</td>\n",
              "      <td>0.340000</td>\n",
              "      <td>0.333300</td>\n",
              "      <td>0.480000</td>\n",
              "      <td>0.104500</td>\n",
              "      <td>4.000000</td>\n",
              "      <td>34.000000</td>\n",
              "      <td>40.000000</td>\n",
              "    </tr>\n",
              "    <tr>\n",
              "      <th>50%</th>\n",
              "      <td>8690.0000</td>\n",
              "      <td>3.000000</td>\n",
              "      <td>1.000000</td>\n",
              "      <td>7.000000</td>\n",
              "      <td>12.000000</td>\n",
              "      <td>0.000000</td>\n",
              "      <td>3.000000</td>\n",
              "      <td>1.000000</td>\n",
              "      <td>1.000000</td>\n",
              "      <td>0.500000</td>\n",
              "      <td>0.484800</td>\n",
              "      <td>0.630000</td>\n",
              "      <td>0.194000</td>\n",
              "      <td>17.000000</td>\n",
              "      <td>115.000000</td>\n",
              "      <td>142.000000</td>\n",
              "    </tr>\n",
              "    <tr>\n",
              "      <th>75%</th>\n",
              "      <td>13034.5000</td>\n",
              "      <td>3.000000</td>\n",
              "      <td>1.000000</td>\n",
              "      <td>10.000000</td>\n",
              "      <td>18.000000</td>\n",
              "      <td>0.000000</td>\n",
              "      <td>5.000000</td>\n",
              "      <td>1.000000</td>\n",
              "      <td>2.000000</td>\n",
              "      <td>0.660000</td>\n",
              "      <td>0.621200</td>\n",
              "      <td>0.780000</td>\n",
              "      <td>0.253700</td>\n",
              "      <td>48.000000</td>\n",
              "      <td>220.000000</td>\n",
              "      <td>281.000000</td>\n",
              "    </tr>\n",
              "    <tr>\n",
              "      <th>max</th>\n",
              "      <td>17379.0000</td>\n",
              "      <td>4.000000</td>\n",
              "      <td>1.000000</td>\n",
              "      <td>12.000000</td>\n",
              "      <td>23.000000</td>\n",
              "      <td>1.000000</td>\n",
              "      <td>6.000000</td>\n",
              "      <td>1.000000</td>\n",
              "      <td>4.000000</td>\n",
              "      <td>1.000000</td>\n",
              "      <td>1.000000</td>\n",
              "      <td>1.000000</td>\n",
              "      <td>0.850700</td>\n",
              "      <td>367.000000</td>\n",
              "      <td>886.000000</td>\n",
              "      <td>977.000000</td>\n",
              "    </tr>\n",
              "  </tbody>\n",
              "</table>\n",
              "</div>"
            ],
            "text/plain": [
              "          instant        season            yr          mnth            hr  \\\n",
              "count  17379.0000  17379.000000  17379.000000  17379.000000  17379.000000   \n",
              "mean    8690.0000      2.501640      0.502561      6.537775     11.546752   \n",
              "std     5017.0295      1.106918      0.500008      3.438776      6.914405   \n",
              "min        1.0000      1.000000      0.000000      1.000000      0.000000   \n",
              "25%     4345.5000      2.000000      0.000000      4.000000      6.000000   \n",
              "50%     8690.0000      3.000000      1.000000      7.000000     12.000000   \n",
              "75%    13034.5000      3.000000      1.000000     10.000000     18.000000   \n",
              "max    17379.0000      4.000000      1.000000     12.000000     23.000000   \n",
              "\n",
              "            holiday       weekday    workingday    weathersit          temp  \\\n",
              "count  17379.000000  17379.000000  17379.000000  17379.000000  17379.000000   \n",
              "mean       0.028770      3.003683      0.682721      1.425283      0.496987   \n",
              "std        0.167165      2.005771      0.465431      0.639357      0.192556   \n",
              "min        0.000000      0.000000      0.000000      1.000000      0.020000   \n",
              "25%        0.000000      1.000000      0.000000      1.000000      0.340000   \n",
              "50%        0.000000      3.000000      1.000000      1.000000      0.500000   \n",
              "75%        0.000000      5.000000      1.000000      2.000000      0.660000   \n",
              "max        1.000000      6.000000      1.000000      4.000000      1.000000   \n",
              "\n",
              "              atemp           hum     windspeed        casual    registered  \\\n",
              "count  17379.000000  17379.000000  17379.000000  17379.000000  17379.000000   \n",
              "mean       0.475775      0.627229      0.190098     35.676218    153.786869   \n",
              "std        0.171850      0.192930      0.122340     49.305030    151.357286   \n",
              "min        0.000000      0.000000      0.000000      0.000000      0.000000   \n",
              "25%        0.333300      0.480000      0.104500      4.000000     34.000000   \n",
              "50%        0.484800      0.630000      0.194000     17.000000    115.000000   \n",
              "75%        0.621200      0.780000      0.253700     48.000000    220.000000   \n",
              "max        1.000000      1.000000      0.850700    367.000000    886.000000   \n",
              "\n",
              "                cnt  \n",
              "count  17379.000000  \n",
              "mean     189.463088  \n",
              "std      181.387599  \n",
              "min        1.000000  \n",
              "25%       40.000000  \n",
              "50%      142.000000  \n",
              "75%      281.000000  \n",
              "max      977.000000  "
            ]
          },
          "execution_count": 626,
          "metadata": {},
          "output_type": "execute_result"
        }
      ],
      "source": [
        "hour_df.describe()"
      ]
    },
    {
      "cell_type": "code",
      "execution_count": 627,
      "metadata": {
        "colab": {
          "base_uri": "https://localhost:8080/"
        },
        "id": "8Z73b_KzbMk_",
        "outputId": "a33cb4e0-f08a-4fb7-84d0-5f327e8effb4"
      },
      "outputs": [
        {
          "data": {
            "text/plain": [
              "workingday        2\n",
              "yr                2\n",
              "holiday           2\n",
              "season            4\n",
              "weathersit        4\n",
              "weekday           7\n",
              "mnth             12\n",
              "hr               24\n",
              "windspeed        30\n",
              "temp             50\n",
              "atemp            65\n",
              "hum              89\n",
              "casual          322\n",
              "dteday          731\n",
              "registered      776\n",
              "cnt             869\n",
              "instant       17379\n",
              "dtype: int64"
            ]
          },
          "execution_count": 627,
          "metadata": {},
          "output_type": "execute_result"
        }
      ],
      "source": [
        "# Memeriksa jumlah baris unik dalam setiap fitur\n",
        "hour_df.nunique().sort_values()"
      ]
    },
    {
      "cell_type": "markdown",
      "metadata": {
        "id": "EhN5R4hr8DC1"
      },
      "source": [
        "### Cleaning Data"
      ]
    },
    {
      "cell_type": "markdown",
      "metadata": {
        "id": "u7Wi_2qnUiCh"
      },
      "source": [
        "#### Cleaning Day_df"
      ]
    },
    {
      "cell_type": "code",
      "execution_count": 628,
      "metadata": {
        "colab": {
          "base_uri": "https://localhost:8080/"
        },
        "id": "jVnYpprE9Evz",
        "outputId": "eb0386a7-d8e4-4ec1-be8e-8fabb7ef1297"
      },
      "outputs": [
        {
          "name": "stdout",
          "output_type": "stream",
          "text": [
            "instant                int64\n",
            "dteday        datetime64[ns]\n",
            "season                 int64\n",
            "yr                     int64\n",
            "mnth                   int64\n",
            "holiday                int64\n",
            "weekday                int64\n",
            "workingday             int64\n",
            "weathersit             int64\n",
            "temp                 float64\n",
            "atemp                float64\n",
            "hum                  float64\n",
            "windspeed            float64\n",
            "casual                 int64\n",
            "registered             int64\n",
            "cnt                    int64\n",
            "dtype: object\n"
          ]
        }
      ],
      "source": [
        "# Mengubah Tipe data Dteday menjadi Datetime pada Day_df\n",
        "day_df['dteday'] = pd.to_datetime(day_df['dteday'], format='%Y-%m-%d')\n",
        "print(day_df.dtypes)"
      ]
    },
    {
      "cell_type": "code",
      "execution_count": 629,
      "metadata": {
        "colab": {
          "base_uri": "https://localhost:8080/"
        },
        "id": "3Kp3uDzNZeXp",
        "outputId": "c1eb2ec2-a3fa-4e9d-e57a-10158c1502c8"
      },
      "outputs": [
        {
          "name": "stdout",
          "output_type": "stream",
          "text": [
            "<class 'pandas.core.frame.DataFrame'>\n",
            "RangeIndex: 731 entries, 0 to 730\n",
            "Data columns (total 16 columns):\n",
            " #   Column      Non-Null Count  Dtype         \n",
            "---  ------      --------------  -----         \n",
            " 0   instant     731 non-null    int64         \n",
            " 1   dteday      731 non-null    datetime64[ns]\n",
            " 2   season      731 non-null    int64         \n",
            " 3   yr          731 non-null    int64         \n",
            " 4   mnth        731 non-null    int64         \n",
            " 5   holiday     731 non-null    int64         \n",
            " 6   weekday     731 non-null    int64         \n",
            " 7   workingday  731 non-null    int64         \n",
            " 8   weathersit  731 non-null    int64         \n",
            " 9   temp        731 non-null    float64       \n",
            " 10  atemp       731 non-null    float64       \n",
            " 11  hum         731 non-null    float64       \n",
            " 12  windspeed   731 non-null    float64       \n",
            " 13  casual      731 non-null    int64         \n",
            " 14  registered  731 non-null    int64         \n",
            " 15  cnt         731 non-null    int64         \n",
            "dtypes: datetime64[ns](1), float64(4), int64(11)\n",
            "memory usage: 91.5 KB\n"
          ]
        }
      ],
      "source": [
        "day_df.info()"
      ]
    },
    {
      "cell_type": "code",
      "execution_count": 630,
      "metadata": {
        "colab": {
          "base_uri": "https://localhost:8080/",
          "height": 206
        },
        "id": "5lQUhUocc5vK",
        "outputId": "6482fd39-88be-43df-b8a9-8a7a470cb1d5"
      },
      "outputs": [
        {
          "data": {
            "text/html": [
              "<div>\n",
              "<style scoped>\n",
              "    .dataframe tbody tr th:only-of-type {\n",
              "        vertical-align: middle;\n",
              "    }\n",
              "\n",
              "    .dataframe tbody tr th {\n",
              "        vertical-align: top;\n",
              "    }\n",
              "\n",
              "    .dataframe thead th {\n",
              "        text-align: right;\n",
              "    }\n",
              "</style>\n",
              "<table border=\"1\" class=\"dataframe\">\n",
              "  <thead>\n",
              "    <tr style=\"text-align: right;\">\n",
              "      <th></th>\n",
              "      <th>instant</th>\n",
              "      <th>dteday</th>\n",
              "      <th>season</th>\n",
              "      <th>year</th>\n",
              "      <th>month</th>\n",
              "      <th>holiday</th>\n",
              "      <th>weekday</th>\n",
              "      <th>workingday</th>\n",
              "      <th>weathersit</th>\n",
              "      <th>temp</th>\n",
              "      <th>atemp</th>\n",
              "      <th>hum</th>\n",
              "      <th>windspeed</th>\n",
              "      <th>casual</th>\n",
              "      <th>registered</th>\n",
              "      <th>counts</th>\n",
              "    </tr>\n",
              "  </thead>\n",
              "  <tbody>\n",
              "    <tr>\n",
              "      <th>0</th>\n",
              "      <td>1</td>\n",
              "      <td>2011-01-01</td>\n",
              "      <td>1</td>\n",
              "      <td>0</td>\n",
              "      <td>1</td>\n",
              "      <td>0</td>\n",
              "      <td>6</td>\n",
              "      <td>0</td>\n",
              "      <td>2</td>\n",
              "      <td>0.344167</td>\n",
              "      <td>0.363625</td>\n",
              "      <td>0.805833</td>\n",
              "      <td>0.160446</td>\n",
              "      <td>331</td>\n",
              "      <td>654</td>\n",
              "      <td>985</td>\n",
              "    </tr>\n",
              "    <tr>\n",
              "      <th>1</th>\n",
              "      <td>2</td>\n",
              "      <td>2011-01-02</td>\n",
              "      <td>1</td>\n",
              "      <td>0</td>\n",
              "      <td>1</td>\n",
              "      <td>0</td>\n",
              "      <td>0</td>\n",
              "      <td>0</td>\n",
              "      <td>2</td>\n",
              "      <td>0.363478</td>\n",
              "      <td>0.353739</td>\n",
              "      <td>0.696087</td>\n",
              "      <td>0.248539</td>\n",
              "      <td>131</td>\n",
              "      <td>670</td>\n",
              "      <td>801</td>\n",
              "    </tr>\n",
              "    <tr>\n",
              "      <th>2</th>\n",
              "      <td>3</td>\n",
              "      <td>2011-01-03</td>\n",
              "      <td>1</td>\n",
              "      <td>0</td>\n",
              "      <td>1</td>\n",
              "      <td>0</td>\n",
              "      <td>1</td>\n",
              "      <td>1</td>\n",
              "      <td>1</td>\n",
              "      <td>0.196364</td>\n",
              "      <td>0.189405</td>\n",
              "      <td>0.437273</td>\n",
              "      <td>0.248309</td>\n",
              "      <td>120</td>\n",
              "      <td>1229</td>\n",
              "      <td>1349</td>\n",
              "    </tr>\n",
              "    <tr>\n",
              "      <th>3</th>\n",
              "      <td>4</td>\n",
              "      <td>2011-01-04</td>\n",
              "      <td>1</td>\n",
              "      <td>0</td>\n",
              "      <td>1</td>\n",
              "      <td>0</td>\n",
              "      <td>2</td>\n",
              "      <td>1</td>\n",
              "      <td>1</td>\n",
              "      <td>0.200000</td>\n",
              "      <td>0.212122</td>\n",
              "      <td>0.590435</td>\n",
              "      <td>0.160296</td>\n",
              "      <td>108</td>\n",
              "      <td>1454</td>\n",
              "      <td>1562</td>\n",
              "    </tr>\n",
              "    <tr>\n",
              "      <th>4</th>\n",
              "      <td>5</td>\n",
              "      <td>2011-01-05</td>\n",
              "      <td>1</td>\n",
              "      <td>0</td>\n",
              "      <td>1</td>\n",
              "      <td>0</td>\n",
              "      <td>3</td>\n",
              "      <td>1</td>\n",
              "      <td>1</td>\n",
              "      <td>0.226957</td>\n",
              "      <td>0.229270</td>\n",
              "      <td>0.436957</td>\n",
              "      <td>0.186900</td>\n",
              "      <td>82</td>\n",
              "      <td>1518</td>\n",
              "      <td>1600</td>\n",
              "    </tr>\n",
              "  </tbody>\n",
              "</table>\n",
              "</div>"
            ],
            "text/plain": [
              "   instant     dteday  season  year  month  holiday  weekday  workingday  \\\n",
              "0        1 2011-01-01       1     0      1        0        6           0   \n",
              "1        2 2011-01-02       1     0      1        0        0           0   \n",
              "2        3 2011-01-03       1     0      1        0        1           1   \n",
              "3        4 2011-01-04       1     0      1        0        2           1   \n",
              "4        5 2011-01-05       1     0      1        0        3           1   \n",
              "\n",
              "   weathersit      temp     atemp       hum  windspeed  casual  registered  \\\n",
              "0           2  0.344167  0.363625  0.805833   0.160446     331         654   \n",
              "1           2  0.363478  0.353739  0.696087   0.248539     131         670   \n",
              "2           1  0.196364  0.189405  0.437273   0.248309     120        1229   \n",
              "3           1  0.200000  0.212122  0.590435   0.160296     108        1454   \n",
              "4           1  0.226957  0.229270  0.436957   0.186900      82        1518   \n",
              "\n",
              "   counts  \n",
              "0     985  \n",
              "1     801  \n",
              "2    1349  \n",
              "3    1562  \n",
              "4    1600  "
            ]
          },
          "execution_count": 630,
          "metadata": {},
          "output_type": "execute_result"
        }
      ],
      "source": [
        "# Mengubah nama kolom agar mudah dibaca\n",
        "day_df = day_df.rename(columns={'yr':'year', 'mnth':'month', 'cnt': 'counts'})\n",
        "day_df.head()"
      ]
    },
    {
      "cell_type": "code",
      "execution_count": 631,
      "metadata": {
        "colab": {
          "base_uri": "https://localhost:8080/",
          "height": 1000
        },
        "id": "VM9d5dmwYSCy",
        "outputId": "3cca1058-0efa-4675-c6e1-df4d2992b618"
      },
      "outputs": [
        {
          "data": {
            "text/html": [
              "<style  type=\"text/css\" >\n",
              "</style><table id=\"T_77aae89c_d7b0_11ee_8cbf_00155d34d00e\" ><thead>    <tr>        <th class=\"blank level0\" ></th>        <th class=\"col_heading level0 col0\" >instant</th>        <th class=\"col_heading level0 col1\" >dteday</th>        <th class=\"col_heading level0 col2\" >season</th>        <th class=\"col_heading level0 col3\" >year</th>        <th class=\"col_heading level0 col4\" >month</th>        <th class=\"col_heading level0 col5\" >holiday</th>        <th class=\"col_heading level0 col6\" >weekday</th>        <th class=\"col_heading level0 col7\" >workingday</th>        <th class=\"col_heading level0 col8\" >weathersit</th>        <th class=\"col_heading level0 col9\" >temp</th>        <th class=\"col_heading level0 col10\" >atemp</th>        <th class=\"col_heading level0 col11\" >hum</th>        <th class=\"col_heading level0 col12\" >windspeed</th>        <th class=\"col_heading level0 col13\" >casual</th>        <th class=\"col_heading level0 col14\" >registered</th>        <th class=\"col_heading level0 col15\" >counts</th>    </tr></thead><tbody>\n",
              "        </tbody></table>"
            ],
            "text/plain": [
              "<pandas.io.formats.style.Styler at 0x2248fa43e10>"
            ]
          },
          "execution_count": 631,
          "metadata": {},
          "output_type": "execute_result"
        }
      ],
      "source": [
        "Q1 = day_df['counts'].quantile(0.25)\n",
        "Q3 = day_df['counts'].quantile(0.75)\n",
        "IQR = Q3 - Q1\n",
        "\n",
        "# Menentukan batas outlier\n",
        "lower_bound = Q1 - 1.5 * IQR\n",
        "upper_bound = Q3 + 1.5 * IQR\n",
        "\n",
        "# Identifikasi outliers\n",
        "outliers = day_df[(day_df['counts'] < lower_bound) | (day_df['counts'] > upper_bound)]\n",
        "outliers.style.background_gradient(cmap='Greys')"
      ]
    },
    {
      "cell_type": "markdown",
      "metadata": {
        "id": "TMLVSSO-dsNH"
      },
      "source": [
        "##### Season (Musim)"
      ]
    },
    {
      "cell_type": "code",
      "execution_count": 632,
      "metadata": {
        "colab": {
          "base_uri": "https://localhost:8080/"
        },
        "id": "lNjBDvTZdKTH",
        "outputId": "6f2ec70b-2a07-4b92-8a27-308519657896"
      },
      "outputs": [
        {
          "name": "stdout",
          "output_type": "stream",
          "text": [
            "3    188\n",
            "2    184\n",
            "1    181\n",
            "4    178\n",
            "Name: season, dtype: int64\n"
          ]
        }
      ],
      "source": [
        "print(day_df.season.value_counts())"
      ]
    },
    {
      "cell_type": "code",
      "execution_count": 633,
      "metadata": {
        "colab": {
          "base_uri": "https://localhost:8080/"
        },
        "id": "PC0cyB43dfOa",
        "outputId": "14f3c31f-f054-4f23-f2da-fda042060dc7"
      },
      "outputs": [
        {
          "data": {
            "text/plain": [
              "fall      188\n",
              "summer    184\n",
              "spring    181\n",
              "winter    178\n",
              "Name: season, dtype: int64"
            ]
          },
          "execution_count": 633,
          "metadata": {},
          "output_type": "execute_result"
        }
      ],
      "source": [
        "# Mengubah angka 1,2,3,4 agar mudah dibaca\n",
        "day_df.season = day_df.season.map({1:'spring', 2:'summer', 3:'fall', 4:'winter'})\n",
        "day_df.season.value_counts()"
      ]
    },
    {
      "cell_type": "markdown",
      "metadata": {
        "id": "X6imG1xVdz7U"
      },
      "source": [
        "##### Year (Tahun)"
      ]
    },
    {
      "cell_type": "code",
      "execution_count": 634,
      "metadata": {
        "colab": {
          "base_uri": "https://localhost:8080/"
        },
        "id": "yemEeFped2b_",
        "outputId": "cb415a4a-ba17-4ce6-8f18-1e02c50c437a"
      },
      "outputs": [
        {
          "name": "stdout",
          "output_type": "stream",
          "text": [
            "1    366\n",
            "0    365\n",
            "Name: year, dtype: int64\n"
          ]
        }
      ],
      "source": [
        "print( day_df.year.value_counts())"
      ]
    },
    {
      "cell_type": "code",
      "execution_count": 635,
      "metadata": {
        "id": "IsR74Swcd9S0"
      },
      "outputs": [],
      "source": [
        "# Mengubah nama kolom agar mudah dibaca\n",
        "day_df.year = day_df.year.map({0:'2011', 1:'2012'})\n"
      ]
    },
    {
      "cell_type": "markdown",
      "metadata": {
        "id": "cnZqej1jeeA3"
      },
      "source": [
        "##### Month (Bulan)"
      ]
    },
    {
      "cell_type": "code",
      "execution_count": 636,
      "metadata": {
        "colab": {
          "base_uri": "https://localhost:8080/"
        },
        "id": "QlzNQluxelEh",
        "outputId": "b0518725-9e10-48b9-ffdc-f59feb8d8677"
      },
      "outputs": [
        {
          "name": "stdout",
          "output_type": "stream",
          "text": [
            "12    62\n",
            "10    62\n",
            "8     62\n",
            "7     62\n",
            "5     62\n",
            "3     62\n",
            "1     62\n",
            "11    60\n",
            "9     60\n",
            "6     60\n",
            "4     60\n",
            "2     57\n",
            "Name: month, dtype: int64\n"
          ]
        }
      ],
      "source": [
        "print(day_df.month.value_counts())"
      ]
    },
    {
      "cell_type": "code",
      "execution_count": 637,
      "metadata": {
        "id": "qjqoSxAVeqOO"
      },
      "outputs": [],
      "source": [
        "day_df.month = day_df.month.map({1:'Jan', 2:'Feb', 3:'March', 4:'April', 5:'May', 6:'June', 7:'July', 8:'Aug', 9:'Sept', 10:'Oct', 11:'Nov', 12:'Dec'})"
      ]
    },
    {
      "cell_type": "markdown",
      "metadata": {
        "id": "igWnp408baWh"
      },
      "source": [
        "##### Weathersit (Kondisi Cuaca)"
      ]
    },
    {
      "cell_type": "code",
      "execution_count": 638,
      "metadata": {
        "colab": {
          "base_uri": "https://localhost:8080/"
        },
        "id": "fSBaQF5xe51P",
        "outputId": "fae18cbd-baca-4c90-d140-69eb3d77ff4f"
      },
      "outputs": [
        {
          "name": "stdout",
          "output_type": "stream",
          "text": [
            "1    463\n",
            "2    247\n",
            "3     21\n",
            "Name: weathersit, dtype: int64\n"
          ]
        }
      ],
      "source": [
        "print(day_df.weathersit.value_counts())"
      ]
    },
    {
      "cell_type": "code",
      "execution_count": 639,
      "metadata": {
        "id": "kcZa_iMNe1C3"
      },
      "outputs": [],
      "source": [
        "day_df.weathersit = day_df.weathersit.map({1:'Clear', 2:'Cloudy', 3:'Snow/Rain'})"
      ]
    },
    {
      "cell_type": "markdown",
      "metadata": {
        "id": "732DUx93bl4Y"
      },
      "source": [
        "##### Weekday"
      ]
    },
    {
      "cell_type": "code",
      "execution_count": 640,
      "metadata": {
        "colab": {
          "base_uri": "https://localhost:8080/"
        },
        "id": "X2Fw5hPgfl3Y",
        "outputId": "3ec6c740-c28d-4344-9f52-fdad0e0cb740"
      },
      "outputs": [
        {
          "name": "stdout",
          "output_type": "stream",
          "text": [
            "6    105\n",
            "1    105\n",
            "0    105\n",
            "5    104\n",
            "4    104\n",
            "3    104\n",
            "2    104\n",
            "Name: weekday, dtype: int64\n"
          ]
        }
      ],
      "source": [
        "print(day_df.weekday.value_counts())"
      ]
    },
    {
      "cell_type": "code",
      "execution_count": 641,
      "metadata": {
        "id": "x50_Dzj8fomG"
      },
      "outputs": [],
      "source": [
        "day_df.weekday = day_df.weekday.map({0:'Monday', 1:'Tuesday', 2:'Wednesday', 3:'Thursday', 4:'Friday', 5:'Saturday', 6:'Sunday'})\n"
      ]
    },
    {
      "cell_type": "code",
      "execution_count": 642,
      "metadata": {
        "colab": {
          "base_uri": "https://localhost:8080/"
        },
        "id": "FJbHPJtAb3Im",
        "outputId": "8a234dec-4526-46f3-93a6-f2fa72aff690"
      },
      "outputs": [
        {
          "name": "stdout",
          "output_type": "stream",
          "text": [
            "1    500\n",
            "0    231\n",
            "Name: workingday, dtype: int64\n"
          ]
        }
      ],
      "source": [
        "print(day_df.workingday.value_counts())"
      ]
    },
    {
      "cell_type": "code",
      "execution_count": 643,
      "metadata": {
        "id": "76ucU4VAb8y4"
      },
      "outputs": [],
      "source": [
        "day_df.workingday = day_df.workingday.map({0:'Hari Kerja', 1:'Hari Libur',})"
      ]
    },
    {
      "cell_type": "code",
      "execution_count": 644,
      "metadata": {
        "colab": {
          "base_uri": "https://localhost:8080/",
          "height": 206
        },
        "id": "qHYFY1oBgql3",
        "outputId": "c7ff49b9-015d-4a90-b1a0-efa4d6330a0d"
      },
      "outputs": [
        {
          "data": {
            "text/html": [
              "<div>\n",
              "<style scoped>\n",
              "    .dataframe tbody tr th:only-of-type {\n",
              "        vertical-align: middle;\n",
              "    }\n",
              "\n",
              "    .dataframe tbody tr th {\n",
              "        vertical-align: top;\n",
              "    }\n",
              "\n",
              "    .dataframe thead th {\n",
              "        text-align: right;\n",
              "    }\n",
              "</style>\n",
              "<table border=\"1\" class=\"dataframe\">\n",
              "  <thead>\n",
              "    <tr style=\"text-align: right;\">\n",
              "      <th></th>\n",
              "      <th>instant</th>\n",
              "      <th>dteday</th>\n",
              "      <th>season</th>\n",
              "      <th>year</th>\n",
              "      <th>month</th>\n",
              "      <th>holiday</th>\n",
              "      <th>weekday</th>\n",
              "      <th>workingday</th>\n",
              "      <th>weathersit</th>\n",
              "      <th>temp</th>\n",
              "      <th>atemp</th>\n",
              "      <th>hum</th>\n",
              "      <th>windspeed</th>\n",
              "      <th>casual</th>\n",
              "      <th>registered</th>\n",
              "      <th>counts</th>\n",
              "    </tr>\n",
              "  </thead>\n",
              "  <tbody>\n",
              "    <tr>\n",
              "      <th>0</th>\n",
              "      <td>1</td>\n",
              "      <td>2011-01-01</td>\n",
              "      <td>spring</td>\n",
              "      <td>2011</td>\n",
              "      <td>Jan</td>\n",
              "      <td>0</td>\n",
              "      <td>Sunday</td>\n",
              "      <td>Hari Kerja</td>\n",
              "      <td>Cloudy</td>\n",
              "      <td>0.344167</td>\n",
              "      <td>0.363625</td>\n",
              "      <td>0.805833</td>\n",
              "      <td>0.160446</td>\n",
              "      <td>331</td>\n",
              "      <td>654</td>\n",
              "      <td>985</td>\n",
              "    </tr>\n",
              "    <tr>\n",
              "      <th>1</th>\n",
              "      <td>2</td>\n",
              "      <td>2011-01-02</td>\n",
              "      <td>spring</td>\n",
              "      <td>2011</td>\n",
              "      <td>Jan</td>\n",
              "      <td>0</td>\n",
              "      <td>Monday</td>\n",
              "      <td>Hari Kerja</td>\n",
              "      <td>Cloudy</td>\n",
              "      <td>0.363478</td>\n",
              "      <td>0.353739</td>\n",
              "      <td>0.696087</td>\n",
              "      <td>0.248539</td>\n",
              "      <td>131</td>\n",
              "      <td>670</td>\n",
              "      <td>801</td>\n",
              "    </tr>\n",
              "    <tr>\n",
              "      <th>2</th>\n",
              "      <td>3</td>\n",
              "      <td>2011-01-03</td>\n",
              "      <td>spring</td>\n",
              "      <td>2011</td>\n",
              "      <td>Jan</td>\n",
              "      <td>0</td>\n",
              "      <td>Tuesday</td>\n",
              "      <td>Hari Libur</td>\n",
              "      <td>Clear</td>\n",
              "      <td>0.196364</td>\n",
              "      <td>0.189405</td>\n",
              "      <td>0.437273</td>\n",
              "      <td>0.248309</td>\n",
              "      <td>120</td>\n",
              "      <td>1229</td>\n",
              "      <td>1349</td>\n",
              "    </tr>\n",
              "    <tr>\n",
              "      <th>3</th>\n",
              "      <td>4</td>\n",
              "      <td>2011-01-04</td>\n",
              "      <td>spring</td>\n",
              "      <td>2011</td>\n",
              "      <td>Jan</td>\n",
              "      <td>0</td>\n",
              "      <td>Wednesday</td>\n",
              "      <td>Hari Libur</td>\n",
              "      <td>Clear</td>\n",
              "      <td>0.200000</td>\n",
              "      <td>0.212122</td>\n",
              "      <td>0.590435</td>\n",
              "      <td>0.160296</td>\n",
              "      <td>108</td>\n",
              "      <td>1454</td>\n",
              "      <td>1562</td>\n",
              "    </tr>\n",
              "    <tr>\n",
              "      <th>4</th>\n",
              "      <td>5</td>\n",
              "      <td>2011-01-05</td>\n",
              "      <td>spring</td>\n",
              "      <td>2011</td>\n",
              "      <td>Jan</td>\n",
              "      <td>0</td>\n",
              "      <td>Thursday</td>\n",
              "      <td>Hari Libur</td>\n",
              "      <td>Clear</td>\n",
              "      <td>0.226957</td>\n",
              "      <td>0.229270</td>\n",
              "      <td>0.436957</td>\n",
              "      <td>0.186900</td>\n",
              "      <td>82</td>\n",
              "      <td>1518</td>\n",
              "      <td>1600</td>\n",
              "    </tr>\n",
              "  </tbody>\n",
              "</table>\n",
              "</div>"
            ],
            "text/plain": [
              "   instant     dteday  season  year month  holiday    weekday  workingday  \\\n",
              "0        1 2011-01-01  spring  2011   Jan        0     Sunday  Hari Kerja   \n",
              "1        2 2011-01-02  spring  2011   Jan        0     Monday  Hari Kerja   \n",
              "2        3 2011-01-03  spring  2011   Jan        0    Tuesday  Hari Libur   \n",
              "3        4 2011-01-04  spring  2011   Jan        0  Wednesday  Hari Libur   \n",
              "4        5 2011-01-05  spring  2011   Jan        0   Thursday  Hari Libur   \n",
              "\n",
              "  weathersit      temp     atemp       hum  windspeed  casual  registered  \\\n",
              "0     Cloudy  0.344167  0.363625  0.805833   0.160446     331         654   \n",
              "1     Cloudy  0.363478  0.353739  0.696087   0.248539     131         670   \n",
              "2      Clear  0.196364  0.189405  0.437273   0.248309     120        1229   \n",
              "3      Clear  0.200000  0.212122  0.590435   0.160296     108        1454   \n",
              "4      Clear  0.226957  0.229270  0.436957   0.186900      82        1518   \n",
              "\n",
              "   counts  \n",
              "0     985  \n",
              "1     801  \n",
              "2    1349  \n",
              "3    1562  \n",
              "4    1600  "
            ]
          },
          "execution_count": 644,
          "metadata": {},
          "output_type": "execute_result"
        }
      ],
      "source": [
        "day_df.head()"
      ]
    },
    {
      "cell_type": "markdown",
      "metadata": {
        "id": "CRUV3OZ2U2Gc"
      },
      "source": [
        "#### Cleaning Hour_df"
      ]
    },
    {
      "cell_type": "code",
      "execution_count": 645,
      "metadata": {
        "colab": {
          "base_uri": "https://localhost:8080/"
        },
        "id": "1a8-LwazU5OS",
        "outputId": "a82794e2-b3c1-42fd-adee-bd12fe503163"
      },
      "outputs": [
        {
          "name": "stdout",
          "output_type": "stream",
          "text": [
            "instant                int64\n",
            "dteday        datetime64[ns]\n",
            "season                 int64\n",
            "yr                     int64\n",
            "mnth                   int64\n",
            "hr                     int64\n",
            "holiday                int64\n",
            "weekday                int64\n",
            "workingday             int64\n",
            "weathersit             int64\n",
            "temp                 float64\n",
            "atemp                float64\n",
            "hum                  float64\n",
            "windspeed            float64\n",
            "casual                 int64\n",
            "registered             int64\n",
            "cnt                    int64\n",
            "dtype: object\n"
          ]
        }
      ],
      "source": [
        "# Mengubah Tipe data Dteday menjadi Datetime pada Day_df\n",
        "hour_df['dteday'] = pd.to_datetime(hour_df['dteday'], format='%Y-%m-%d')\n",
        "print(hour_df.dtypes)"
      ]
    },
    {
      "cell_type": "code",
      "execution_count": 646,
      "metadata": {},
      "outputs": [
        {
          "data": {
            "text/plain": [
              "16    730\n",
              "17    730\n",
              "15    729\n",
              "13    729\n",
              "14    729\n",
              "22    728\n",
              "18    728\n",
              "19    728\n",
              "20    728\n",
              "21    728\n",
              "23    728\n",
              "12    728\n",
              "7     727\n",
              "8     727\n",
              "9     727\n",
              "10    727\n",
              "11    727\n",
              "0     726\n",
              "6     725\n",
              "1     724\n",
              "5     717\n",
              "2     715\n",
              "4     697\n",
              "3     697\n",
              "Name: hr, dtype: int64"
            ]
          },
          "execution_count": 646,
          "metadata": {},
          "output_type": "execute_result"
        }
      ],
      "source": [
        "hour_df['hr'].value_counts()"
      ]
    },
    {
      "cell_type": "code",
      "execution_count": 647,
      "metadata": {},
      "outputs": [
        {
          "data": {
            "text/html": [
              "<div>\n",
              "<style scoped>\n",
              "    .dataframe tbody tr th:only-of-type {\n",
              "        vertical-align: middle;\n",
              "    }\n",
              "\n",
              "    .dataframe tbody tr th {\n",
              "        vertical-align: top;\n",
              "    }\n",
              "\n",
              "    .dataframe thead th {\n",
              "        text-align: right;\n",
              "    }\n",
              "</style>\n",
              "<table border=\"1\" class=\"dataframe\">\n",
              "  <thead>\n",
              "    <tr style=\"text-align: right;\">\n",
              "      <th></th>\n",
              "      <th>instant</th>\n",
              "      <th>dteday</th>\n",
              "      <th>season</th>\n",
              "      <th>year</th>\n",
              "      <th>month</th>\n",
              "      <th>hour</th>\n",
              "      <th>holiday</th>\n",
              "      <th>weekday</th>\n",
              "      <th>workingday</th>\n",
              "      <th>weathersit</th>\n",
              "      <th>temp</th>\n",
              "      <th>atemp</th>\n",
              "      <th>hum</th>\n",
              "      <th>windspeed</th>\n",
              "      <th>casual</th>\n",
              "      <th>registered</th>\n",
              "      <th>counts</th>\n",
              "    </tr>\n",
              "  </thead>\n",
              "  <tbody>\n",
              "    <tr>\n",
              "      <th>0</th>\n",
              "      <td>1</td>\n",
              "      <td>2011-01-01</td>\n",
              "      <td>1</td>\n",
              "      <td>0</td>\n",
              "      <td>1</td>\n",
              "      <td>0</td>\n",
              "      <td>0</td>\n",
              "      <td>6</td>\n",
              "      <td>0</td>\n",
              "      <td>1</td>\n",
              "      <td>0.24</td>\n",
              "      <td>0.2879</td>\n",
              "      <td>0.81</td>\n",
              "      <td>0.0</td>\n",
              "      <td>3</td>\n",
              "      <td>13</td>\n",
              "      <td>16</td>\n",
              "    </tr>\n",
              "    <tr>\n",
              "      <th>1</th>\n",
              "      <td>2</td>\n",
              "      <td>2011-01-01</td>\n",
              "      <td>1</td>\n",
              "      <td>0</td>\n",
              "      <td>1</td>\n",
              "      <td>1</td>\n",
              "      <td>0</td>\n",
              "      <td>6</td>\n",
              "      <td>0</td>\n",
              "      <td>1</td>\n",
              "      <td>0.22</td>\n",
              "      <td>0.2727</td>\n",
              "      <td>0.80</td>\n",
              "      <td>0.0</td>\n",
              "      <td>8</td>\n",
              "      <td>32</td>\n",
              "      <td>40</td>\n",
              "    </tr>\n",
              "    <tr>\n",
              "      <th>2</th>\n",
              "      <td>3</td>\n",
              "      <td>2011-01-01</td>\n",
              "      <td>1</td>\n",
              "      <td>0</td>\n",
              "      <td>1</td>\n",
              "      <td>2</td>\n",
              "      <td>0</td>\n",
              "      <td>6</td>\n",
              "      <td>0</td>\n",
              "      <td>1</td>\n",
              "      <td>0.22</td>\n",
              "      <td>0.2727</td>\n",
              "      <td>0.80</td>\n",
              "      <td>0.0</td>\n",
              "      <td>5</td>\n",
              "      <td>27</td>\n",
              "      <td>32</td>\n",
              "    </tr>\n",
              "    <tr>\n",
              "      <th>3</th>\n",
              "      <td>4</td>\n",
              "      <td>2011-01-01</td>\n",
              "      <td>1</td>\n",
              "      <td>0</td>\n",
              "      <td>1</td>\n",
              "      <td>3</td>\n",
              "      <td>0</td>\n",
              "      <td>6</td>\n",
              "      <td>0</td>\n",
              "      <td>1</td>\n",
              "      <td>0.24</td>\n",
              "      <td>0.2879</td>\n",
              "      <td>0.75</td>\n",
              "      <td>0.0</td>\n",
              "      <td>3</td>\n",
              "      <td>10</td>\n",
              "      <td>13</td>\n",
              "    </tr>\n",
              "    <tr>\n",
              "      <th>4</th>\n",
              "      <td>5</td>\n",
              "      <td>2011-01-01</td>\n",
              "      <td>1</td>\n",
              "      <td>0</td>\n",
              "      <td>1</td>\n",
              "      <td>4</td>\n",
              "      <td>0</td>\n",
              "      <td>6</td>\n",
              "      <td>0</td>\n",
              "      <td>1</td>\n",
              "      <td>0.24</td>\n",
              "      <td>0.2879</td>\n",
              "      <td>0.75</td>\n",
              "      <td>0.0</td>\n",
              "      <td>0</td>\n",
              "      <td>1</td>\n",
              "      <td>1</td>\n",
              "    </tr>\n",
              "  </tbody>\n",
              "</table>\n",
              "</div>"
            ],
            "text/plain": [
              "   instant     dteday  season  year  month  hour  holiday  weekday  \\\n",
              "0        1 2011-01-01       1     0      1     0        0        6   \n",
              "1        2 2011-01-01       1     0      1     1        0        6   \n",
              "2        3 2011-01-01       1     0      1     2        0        6   \n",
              "3        4 2011-01-01       1     0      1     3        0        6   \n",
              "4        5 2011-01-01       1     0      1     4        0        6   \n",
              "\n",
              "   workingday  weathersit  temp   atemp   hum  windspeed  casual  registered  \\\n",
              "0           0           1  0.24  0.2879  0.81        0.0       3          13   \n",
              "1           0           1  0.22  0.2727  0.80        0.0       8          32   \n",
              "2           0           1  0.22  0.2727  0.80        0.0       5          27   \n",
              "3           0           1  0.24  0.2879  0.75        0.0       3          10   \n",
              "4           0           1  0.24  0.2879  0.75        0.0       0           1   \n",
              "\n",
              "   counts  \n",
              "0      16  \n",
              "1      40  \n",
              "2      32  \n",
              "3      13  \n",
              "4       1  "
            ]
          },
          "execution_count": 647,
          "metadata": {},
          "output_type": "execute_result"
        }
      ],
      "source": [
        "# Mengubah nama kolom agar mudah dibaca\n",
        "hour_df = hour_df.rename(columns={'yr':'year', 'mnth':'month', 'cnt': 'counts', 'hr':'hour'})\n",
        "hour_df.head()"
      ]
    },
    {
      "cell_type": "code",
      "execution_count": 648,
      "metadata": {
        "colab": {
          "base_uri": "https://localhost:8080/",
          "height": 206
        },
        "id": "v0xzA2d6XVJJ",
        "outputId": "3fa1ba4e-1496-418d-b4b4-453a8e03e9f8"
      },
      "outputs": [
        {
          "data": {
            "text/html": [
              "<div>\n",
              "<style scoped>\n",
              "    .dataframe tbody tr th:only-of-type {\n",
              "        vertical-align: middle;\n",
              "    }\n",
              "\n",
              "    .dataframe tbody tr th {\n",
              "        vertical-align: top;\n",
              "    }\n",
              "\n",
              "    .dataframe thead th {\n",
              "        text-align: right;\n",
              "    }\n",
              "</style>\n",
              "<table border=\"1\" class=\"dataframe\">\n",
              "  <thead>\n",
              "    <tr style=\"text-align: right;\">\n",
              "      <th></th>\n",
              "      <th>instant</th>\n",
              "      <th>dteday</th>\n",
              "      <th>season</th>\n",
              "      <th>year</th>\n",
              "      <th>month</th>\n",
              "      <th>hour</th>\n",
              "      <th>holiday</th>\n",
              "      <th>weekday</th>\n",
              "      <th>workingday</th>\n",
              "      <th>weathersit</th>\n",
              "      <th>temp</th>\n",
              "      <th>atemp</th>\n",
              "      <th>hum</th>\n",
              "      <th>windspeed</th>\n",
              "      <th>casual</th>\n",
              "      <th>registered</th>\n",
              "      <th>counts</th>\n",
              "    </tr>\n",
              "  </thead>\n",
              "  <tbody>\n",
              "    <tr>\n",
              "      <th>0</th>\n",
              "      <td>1</td>\n",
              "      <td>2011-01-01</td>\n",
              "      <td>1</td>\n",
              "      <td>0</td>\n",
              "      <td>1</td>\n",
              "      <td>0</td>\n",
              "      <td>0</td>\n",
              "      <td>6</td>\n",
              "      <td>0</td>\n",
              "      <td>1</td>\n",
              "      <td>0.24</td>\n",
              "      <td>0.2879</td>\n",
              "      <td>0.81</td>\n",
              "      <td>0.0</td>\n",
              "      <td>3</td>\n",
              "      <td>13</td>\n",
              "      <td>16</td>\n",
              "    </tr>\n",
              "    <tr>\n",
              "      <th>1</th>\n",
              "      <td>2</td>\n",
              "      <td>2011-01-01</td>\n",
              "      <td>1</td>\n",
              "      <td>0</td>\n",
              "      <td>1</td>\n",
              "      <td>1</td>\n",
              "      <td>0</td>\n",
              "      <td>6</td>\n",
              "      <td>0</td>\n",
              "      <td>1</td>\n",
              "      <td>0.22</td>\n",
              "      <td>0.2727</td>\n",
              "      <td>0.80</td>\n",
              "      <td>0.0</td>\n",
              "      <td>8</td>\n",
              "      <td>32</td>\n",
              "      <td>40</td>\n",
              "    </tr>\n",
              "    <tr>\n",
              "      <th>2</th>\n",
              "      <td>3</td>\n",
              "      <td>2011-01-01</td>\n",
              "      <td>1</td>\n",
              "      <td>0</td>\n",
              "      <td>1</td>\n",
              "      <td>2</td>\n",
              "      <td>0</td>\n",
              "      <td>6</td>\n",
              "      <td>0</td>\n",
              "      <td>1</td>\n",
              "      <td>0.22</td>\n",
              "      <td>0.2727</td>\n",
              "      <td>0.80</td>\n",
              "      <td>0.0</td>\n",
              "      <td>5</td>\n",
              "      <td>27</td>\n",
              "      <td>32</td>\n",
              "    </tr>\n",
              "    <tr>\n",
              "      <th>3</th>\n",
              "      <td>4</td>\n",
              "      <td>2011-01-01</td>\n",
              "      <td>1</td>\n",
              "      <td>0</td>\n",
              "      <td>1</td>\n",
              "      <td>3</td>\n",
              "      <td>0</td>\n",
              "      <td>6</td>\n",
              "      <td>0</td>\n",
              "      <td>1</td>\n",
              "      <td>0.24</td>\n",
              "      <td>0.2879</td>\n",
              "      <td>0.75</td>\n",
              "      <td>0.0</td>\n",
              "      <td>3</td>\n",
              "      <td>10</td>\n",
              "      <td>13</td>\n",
              "    </tr>\n",
              "    <tr>\n",
              "      <th>4</th>\n",
              "      <td>5</td>\n",
              "      <td>2011-01-01</td>\n",
              "      <td>1</td>\n",
              "      <td>0</td>\n",
              "      <td>1</td>\n",
              "      <td>4</td>\n",
              "      <td>0</td>\n",
              "      <td>6</td>\n",
              "      <td>0</td>\n",
              "      <td>1</td>\n",
              "      <td>0.24</td>\n",
              "      <td>0.2879</td>\n",
              "      <td>0.75</td>\n",
              "      <td>0.0</td>\n",
              "      <td>0</td>\n",
              "      <td>1</td>\n",
              "      <td>1</td>\n",
              "    </tr>\n",
              "  </tbody>\n",
              "</table>\n",
              "</div>"
            ],
            "text/plain": [
              "   instant     dteday  season  year  month  hour  holiday  weekday  \\\n",
              "0        1 2011-01-01       1     0      1     0        0        6   \n",
              "1        2 2011-01-01       1     0      1     1        0        6   \n",
              "2        3 2011-01-01       1     0      1     2        0        6   \n",
              "3        4 2011-01-01       1     0      1     3        0        6   \n",
              "4        5 2011-01-01       1     0      1     4        0        6   \n",
              "\n",
              "   workingday  weathersit  temp   atemp   hum  windspeed  casual  registered  \\\n",
              "0           0           1  0.24  0.2879  0.81        0.0       3          13   \n",
              "1           0           1  0.22  0.2727  0.80        0.0       8          32   \n",
              "2           0           1  0.22  0.2727  0.80        0.0       5          27   \n",
              "3           0           1  0.24  0.2879  0.75        0.0       3          10   \n",
              "4           0           1  0.24  0.2879  0.75        0.0       0           1   \n",
              "\n",
              "   counts  \n",
              "0      16  \n",
              "1      40  \n",
              "2      32  \n",
              "3      13  \n",
              "4       1  "
            ]
          },
          "execution_count": 648,
          "metadata": {},
          "output_type": "execute_result"
        }
      ],
      "source": [
        "hour_df.head()"
      ]
    },
    {
      "cell_type": "code",
      "execution_count": 649,
      "metadata": {
        "colab": {
          "base_uri": "https://localhost:8080/"
        },
        "id": "mdURb4-HXcZq",
        "outputId": "03c9da3e-de2a-4a75-9ac8-a32873ac0a48"
      },
      "outputs": [
        {
          "name": "stdout",
          "output_type": "stream",
          "text": [
            "<class 'pandas.core.frame.DataFrame'>\n",
            "RangeIndex: 17379 entries, 0 to 17378\n",
            "Data columns (total 17 columns):\n",
            " #   Column      Non-Null Count  Dtype         \n",
            "---  ------      --------------  -----         \n",
            " 0   instant     17379 non-null  int64         \n",
            " 1   dteday      17379 non-null  datetime64[ns]\n",
            " 2   season      17379 non-null  int64         \n",
            " 3   year        17379 non-null  int64         \n",
            " 4   month       17379 non-null  int64         \n",
            " 5   hour        17379 non-null  int64         \n",
            " 6   holiday     17379 non-null  int64         \n",
            " 7   weekday     17379 non-null  int64         \n",
            " 8   workingday  17379 non-null  int64         \n",
            " 9   weathersit  17379 non-null  int64         \n",
            " 10  temp        17379 non-null  float64       \n",
            " 11  atemp       17379 non-null  float64       \n",
            " 12  hum         17379 non-null  float64       \n",
            " 13  windspeed   17379 non-null  float64       \n",
            " 14  casual      17379 non-null  int64         \n",
            " 15  registered  17379 non-null  int64         \n",
            " 16  counts      17379 non-null  int64         \n",
            "dtypes: datetime64[ns](1), float64(4), int64(12)\n",
            "memory usage: 2.3 MB\n"
          ]
        }
      ],
      "source": [
        "hour_df.info()"
      ]
    },
    {
      "cell_type": "code",
      "execution_count": 650,
      "metadata": {
        "id": "8kCKtvN9VpAH"
      },
      "outputs": [
        {
          "data": {
            "text/html": [
              "<div>\n",
              "<style scoped>\n",
              "    .dataframe tbody tr th:only-of-type {\n",
              "        vertical-align: middle;\n",
              "    }\n",
              "\n",
              "    .dataframe tbody tr th {\n",
              "        vertical-align: top;\n",
              "    }\n",
              "\n",
              "    .dataframe thead th {\n",
              "        text-align: right;\n",
              "    }\n",
              "</style>\n",
              "<table border=\"1\" class=\"dataframe\">\n",
              "  <thead>\n",
              "    <tr style=\"text-align: right;\">\n",
              "      <th></th>\n",
              "      <th>instant</th>\n",
              "      <th>dteday</th>\n",
              "      <th>year</th>\n",
              "      <th>month</th>\n",
              "      <th>hour</th>\n",
              "      <th>holiday</th>\n",
              "      <th>weekday</th>\n",
              "      <th>workingday</th>\n",
              "      <th>weathersit</th>\n",
              "      <th>temp</th>\n",
              "      <th>atemp</th>\n",
              "      <th>hum</th>\n",
              "      <th>windspeed</th>\n",
              "      <th>casual</th>\n",
              "      <th>registered</th>\n",
              "      <th>counts</th>\n",
              "      <th>season_1</th>\n",
              "      <th>season_2</th>\n",
              "      <th>season_3</th>\n",
              "      <th>season_4</th>\n",
              "    </tr>\n",
              "  </thead>\n",
              "  <tbody>\n",
              "    <tr>\n",
              "      <th>0</th>\n",
              "      <td>1</td>\n",
              "      <td>2011-01-01</td>\n",
              "      <td>0</td>\n",
              "      <td>1</td>\n",
              "      <td>0</td>\n",
              "      <td>0</td>\n",
              "      <td>6</td>\n",
              "      <td>0</td>\n",
              "      <td>1</td>\n",
              "      <td>0.24</td>\n",
              "      <td>0.2879</td>\n",
              "      <td>0.81</td>\n",
              "      <td>0.0</td>\n",
              "      <td>3</td>\n",
              "      <td>13</td>\n",
              "      <td>16</td>\n",
              "      <td>1</td>\n",
              "      <td>0</td>\n",
              "      <td>0</td>\n",
              "      <td>0</td>\n",
              "    </tr>\n",
              "    <tr>\n",
              "      <th>1</th>\n",
              "      <td>2</td>\n",
              "      <td>2011-01-01</td>\n",
              "      <td>0</td>\n",
              "      <td>1</td>\n",
              "      <td>1</td>\n",
              "      <td>0</td>\n",
              "      <td>6</td>\n",
              "      <td>0</td>\n",
              "      <td>1</td>\n",
              "      <td>0.22</td>\n",
              "      <td>0.2727</td>\n",
              "      <td>0.80</td>\n",
              "      <td>0.0</td>\n",
              "      <td>8</td>\n",
              "      <td>32</td>\n",
              "      <td>40</td>\n",
              "      <td>1</td>\n",
              "      <td>0</td>\n",
              "      <td>0</td>\n",
              "      <td>0</td>\n",
              "    </tr>\n",
              "    <tr>\n",
              "      <th>2</th>\n",
              "      <td>3</td>\n",
              "      <td>2011-01-01</td>\n",
              "      <td>0</td>\n",
              "      <td>1</td>\n",
              "      <td>2</td>\n",
              "      <td>0</td>\n",
              "      <td>6</td>\n",
              "      <td>0</td>\n",
              "      <td>1</td>\n",
              "      <td>0.22</td>\n",
              "      <td>0.2727</td>\n",
              "      <td>0.80</td>\n",
              "      <td>0.0</td>\n",
              "      <td>5</td>\n",
              "      <td>27</td>\n",
              "      <td>32</td>\n",
              "      <td>1</td>\n",
              "      <td>0</td>\n",
              "      <td>0</td>\n",
              "      <td>0</td>\n",
              "    </tr>\n",
              "    <tr>\n",
              "      <th>3</th>\n",
              "      <td>4</td>\n",
              "      <td>2011-01-01</td>\n",
              "      <td>0</td>\n",
              "      <td>1</td>\n",
              "      <td>3</td>\n",
              "      <td>0</td>\n",
              "      <td>6</td>\n",
              "      <td>0</td>\n",
              "      <td>1</td>\n",
              "      <td>0.24</td>\n",
              "      <td>0.2879</td>\n",
              "      <td>0.75</td>\n",
              "      <td>0.0</td>\n",
              "      <td>3</td>\n",
              "      <td>10</td>\n",
              "      <td>13</td>\n",
              "      <td>1</td>\n",
              "      <td>0</td>\n",
              "      <td>0</td>\n",
              "      <td>0</td>\n",
              "    </tr>\n",
              "    <tr>\n",
              "      <th>4</th>\n",
              "      <td>5</td>\n",
              "      <td>2011-01-01</td>\n",
              "      <td>0</td>\n",
              "      <td>1</td>\n",
              "      <td>4</td>\n",
              "      <td>0</td>\n",
              "      <td>6</td>\n",
              "      <td>0</td>\n",
              "      <td>1</td>\n",
              "      <td>0.24</td>\n",
              "      <td>0.2879</td>\n",
              "      <td>0.75</td>\n",
              "      <td>0.0</td>\n",
              "      <td>0</td>\n",
              "      <td>1</td>\n",
              "      <td>1</td>\n",
              "      <td>1</td>\n",
              "      <td>0</td>\n",
              "      <td>0</td>\n",
              "      <td>0</td>\n",
              "    </tr>\n",
              "  </tbody>\n",
              "</table>\n",
              "</div>"
            ],
            "text/plain": [
              "   instant     dteday  year  month  hour  holiday  weekday  workingday  \\\n",
              "0        1 2011-01-01     0      1     0        0        6           0   \n",
              "1        2 2011-01-01     0      1     1        0        6           0   \n",
              "2        3 2011-01-01     0      1     2        0        6           0   \n",
              "3        4 2011-01-01     0      1     3        0        6           0   \n",
              "4        5 2011-01-01     0      1     4        0        6           0   \n",
              "\n",
              "   weathersit  temp   atemp   hum  windspeed  casual  registered  counts  \\\n",
              "0           1  0.24  0.2879  0.81        0.0       3          13      16   \n",
              "1           1  0.22  0.2727  0.80        0.0       8          32      40   \n",
              "2           1  0.22  0.2727  0.80        0.0       5          27      32   \n",
              "3           1  0.24  0.2879  0.75        0.0       3          10      13   \n",
              "4           1  0.24  0.2879  0.75        0.0       0           1       1   \n",
              "\n",
              "   season_1  season_2  season_3  season_4  \n",
              "0         1         0         0         0  \n",
              "1         1         0         0         0  \n",
              "2         1         0         0         0  \n",
              "3         1         0         0         0  \n",
              "4         1         0         0         0  "
            ]
          },
          "execution_count": 650,
          "metadata": {},
          "output_type": "execute_result"
        }
      ],
      "source": [
        "hour_df = pd.get_dummies(hour_df, columns=['season'], dtype=int)\n",
        "hour_df.head()"
      ]
    },
    {
      "cell_type": "code",
      "execution_count": 651,
      "metadata": {
        "colab": {
          "base_uri": "https://localhost:8080/",
          "height": 320
        },
        "id": "ksdZAn5gVEAY",
        "outputId": "257ed231-542e-4913-d878-584fbc84570d"
      },
      "outputs": [
        {
          "data": {
            "text/html": [
              "<div>\n",
              "<style scoped>\n",
              "    .dataframe tbody tr th:only-of-type {\n",
              "        vertical-align: middle;\n",
              "    }\n",
              "\n",
              "    .dataframe tbody tr th {\n",
              "        vertical-align: top;\n",
              "    }\n",
              "\n",
              "    .dataframe thead th {\n",
              "        text-align: right;\n",
              "    }\n",
              "</style>\n",
              "<table border=\"1\" class=\"dataframe\">\n",
              "  <thead>\n",
              "    <tr style=\"text-align: right;\">\n",
              "      <th></th>\n",
              "      <th>instant</th>\n",
              "      <th>year</th>\n",
              "      <th>month</th>\n",
              "      <th>hour</th>\n",
              "      <th>holiday</th>\n",
              "      <th>weekday</th>\n",
              "      <th>workingday</th>\n",
              "      <th>weathersit</th>\n",
              "      <th>temp</th>\n",
              "      <th>atemp</th>\n",
              "      <th>hum</th>\n",
              "      <th>windspeed</th>\n",
              "      <th>casual</th>\n",
              "      <th>registered</th>\n",
              "      <th>counts</th>\n",
              "      <th>season_1</th>\n",
              "      <th>season_2</th>\n",
              "      <th>season_3</th>\n",
              "      <th>season_4</th>\n",
              "    </tr>\n",
              "  </thead>\n",
              "  <tbody>\n",
              "    <tr>\n",
              "      <th>count</th>\n",
              "      <td>17379.0000</td>\n",
              "      <td>17379.000000</td>\n",
              "      <td>17379.000000</td>\n",
              "      <td>17379.000000</td>\n",
              "      <td>17379.000000</td>\n",
              "      <td>17379.000000</td>\n",
              "      <td>17379.000000</td>\n",
              "      <td>17379.000000</td>\n",
              "      <td>17379.000000</td>\n",
              "      <td>17379.000000</td>\n",
              "      <td>17379.000000</td>\n",
              "      <td>17379.000000</td>\n",
              "      <td>17379.000000</td>\n",
              "      <td>17379.000000</td>\n",
              "      <td>17379.000000</td>\n",
              "      <td>17379.000000</td>\n",
              "      <td>17379.000000</td>\n",
              "      <td>17379.000000</td>\n",
              "      <td>17379.000000</td>\n",
              "    </tr>\n",
              "    <tr>\n",
              "      <th>mean</th>\n",
              "      <td>8690.0000</td>\n",
              "      <td>0.502561</td>\n",
              "      <td>6.537775</td>\n",
              "      <td>11.546752</td>\n",
              "      <td>0.028770</td>\n",
              "      <td>3.003683</td>\n",
              "      <td>0.682721</td>\n",
              "      <td>1.425283</td>\n",
              "      <td>0.496987</td>\n",
              "      <td>0.475775</td>\n",
              "      <td>0.627229</td>\n",
              "      <td>0.190098</td>\n",
              "      <td>35.676218</td>\n",
              "      <td>153.786869</td>\n",
              "      <td>189.463088</td>\n",
              "      <td>0.244088</td>\n",
              "      <td>0.253697</td>\n",
              "      <td>0.258703</td>\n",
              "      <td>0.243512</td>\n",
              "    </tr>\n",
              "    <tr>\n",
              "      <th>std</th>\n",
              "      <td>5017.0295</td>\n",
              "      <td>0.500008</td>\n",
              "      <td>3.438776</td>\n",
              "      <td>6.914405</td>\n",
              "      <td>0.167165</td>\n",
              "      <td>2.005771</td>\n",
              "      <td>0.465431</td>\n",
              "      <td>0.639357</td>\n",
              "      <td>0.192556</td>\n",
              "      <td>0.171850</td>\n",
              "      <td>0.192930</td>\n",
              "      <td>0.122340</td>\n",
              "      <td>49.305030</td>\n",
              "      <td>151.357286</td>\n",
              "      <td>181.387599</td>\n",
              "      <td>0.429557</td>\n",
              "      <td>0.435139</td>\n",
              "      <td>0.437935</td>\n",
              "      <td>0.429214</td>\n",
              "    </tr>\n",
              "    <tr>\n",
              "      <th>min</th>\n",
              "      <td>1.0000</td>\n",
              "      <td>0.000000</td>\n",
              "      <td>1.000000</td>\n",
              "      <td>0.000000</td>\n",
              "      <td>0.000000</td>\n",
              "      <td>0.000000</td>\n",
              "      <td>0.000000</td>\n",
              "      <td>1.000000</td>\n",
              "      <td>0.020000</td>\n",
              "      <td>0.000000</td>\n",
              "      <td>0.000000</td>\n",
              "      <td>0.000000</td>\n",
              "      <td>0.000000</td>\n",
              "      <td>0.000000</td>\n",
              "      <td>1.000000</td>\n",
              "      <td>0.000000</td>\n",
              "      <td>0.000000</td>\n",
              "      <td>0.000000</td>\n",
              "      <td>0.000000</td>\n",
              "    </tr>\n",
              "    <tr>\n",
              "      <th>25%</th>\n",
              "      <td>4345.5000</td>\n",
              "      <td>0.000000</td>\n",
              "      <td>4.000000</td>\n",
              "      <td>6.000000</td>\n",
              "      <td>0.000000</td>\n",
              "      <td>1.000000</td>\n",
              "      <td>0.000000</td>\n",
              "      <td>1.000000</td>\n",
              "      <td>0.340000</td>\n",
              "      <td>0.333300</td>\n",
              "      <td>0.480000</td>\n",
              "      <td>0.104500</td>\n",
              "      <td>4.000000</td>\n",
              "      <td>34.000000</td>\n",
              "      <td>40.000000</td>\n",
              "      <td>0.000000</td>\n",
              "      <td>0.000000</td>\n",
              "      <td>0.000000</td>\n",
              "      <td>0.000000</td>\n",
              "    </tr>\n",
              "    <tr>\n",
              "      <th>50%</th>\n",
              "      <td>8690.0000</td>\n",
              "      <td>1.000000</td>\n",
              "      <td>7.000000</td>\n",
              "      <td>12.000000</td>\n",
              "      <td>0.000000</td>\n",
              "      <td>3.000000</td>\n",
              "      <td>1.000000</td>\n",
              "      <td>1.000000</td>\n",
              "      <td>0.500000</td>\n",
              "      <td>0.484800</td>\n",
              "      <td>0.630000</td>\n",
              "      <td>0.194000</td>\n",
              "      <td>17.000000</td>\n",
              "      <td>115.000000</td>\n",
              "      <td>142.000000</td>\n",
              "      <td>0.000000</td>\n",
              "      <td>0.000000</td>\n",
              "      <td>0.000000</td>\n",
              "      <td>0.000000</td>\n",
              "    </tr>\n",
              "    <tr>\n",
              "      <th>75%</th>\n",
              "      <td>13034.5000</td>\n",
              "      <td>1.000000</td>\n",
              "      <td>10.000000</td>\n",
              "      <td>18.000000</td>\n",
              "      <td>0.000000</td>\n",
              "      <td>5.000000</td>\n",
              "      <td>1.000000</td>\n",
              "      <td>2.000000</td>\n",
              "      <td>0.660000</td>\n",
              "      <td>0.621200</td>\n",
              "      <td>0.780000</td>\n",
              "      <td>0.253700</td>\n",
              "      <td>48.000000</td>\n",
              "      <td>220.000000</td>\n",
              "      <td>281.000000</td>\n",
              "      <td>0.000000</td>\n",
              "      <td>1.000000</td>\n",
              "      <td>1.000000</td>\n",
              "      <td>0.000000</td>\n",
              "    </tr>\n",
              "    <tr>\n",
              "      <th>max</th>\n",
              "      <td>17379.0000</td>\n",
              "      <td>1.000000</td>\n",
              "      <td>12.000000</td>\n",
              "      <td>23.000000</td>\n",
              "      <td>1.000000</td>\n",
              "      <td>6.000000</td>\n",
              "      <td>1.000000</td>\n",
              "      <td>4.000000</td>\n",
              "      <td>1.000000</td>\n",
              "      <td>1.000000</td>\n",
              "      <td>1.000000</td>\n",
              "      <td>0.850700</td>\n",
              "      <td>367.000000</td>\n",
              "      <td>886.000000</td>\n",
              "      <td>977.000000</td>\n",
              "      <td>1.000000</td>\n",
              "      <td>1.000000</td>\n",
              "      <td>1.000000</td>\n",
              "      <td>1.000000</td>\n",
              "    </tr>\n",
              "  </tbody>\n",
              "</table>\n",
              "</div>"
            ],
            "text/plain": [
              "          instant          year         month          hour       holiday  \\\n",
              "count  17379.0000  17379.000000  17379.000000  17379.000000  17379.000000   \n",
              "mean    8690.0000      0.502561      6.537775     11.546752      0.028770   \n",
              "std     5017.0295      0.500008      3.438776      6.914405      0.167165   \n",
              "min        1.0000      0.000000      1.000000      0.000000      0.000000   \n",
              "25%     4345.5000      0.000000      4.000000      6.000000      0.000000   \n",
              "50%     8690.0000      1.000000      7.000000     12.000000      0.000000   \n",
              "75%    13034.5000      1.000000     10.000000     18.000000      0.000000   \n",
              "max    17379.0000      1.000000     12.000000     23.000000      1.000000   \n",
              "\n",
              "            weekday    workingday    weathersit          temp         atemp  \\\n",
              "count  17379.000000  17379.000000  17379.000000  17379.000000  17379.000000   \n",
              "mean       3.003683      0.682721      1.425283      0.496987      0.475775   \n",
              "std        2.005771      0.465431      0.639357      0.192556      0.171850   \n",
              "min        0.000000      0.000000      1.000000      0.020000      0.000000   \n",
              "25%        1.000000      0.000000      1.000000      0.340000      0.333300   \n",
              "50%        3.000000      1.000000      1.000000      0.500000      0.484800   \n",
              "75%        5.000000      1.000000      2.000000      0.660000      0.621200   \n",
              "max        6.000000      1.000000      4.000000      1.000000      1.000000   \n",
              "\n",
              "                hum     windspeed        casual    registered        counts  \\\n",
              "count  17379.000000  17379.000000  17379.000000  17379.000000  17379.000000   \n",
              "mean       0.627229      0.190098     35.676218    153.786869    189.463088   \n",
              "std        0.192930      0.122340     49.305030    151.357286    181.387599   \n",
              "min        0.000000      0.000000      0.000000      0.000000      1.000000   \n",
              "25%        0.480000      0.104500      4.000000     34.000000     40.000000   \n",
              "50%        0.630000      0.194000     17.000000    115.000000    142.000000   \n",
              "75%        0.780000      0.253700     48.000000    220.000000    281.000000   \n",
              "max        1.000000      0.850700    367.000000    886.000000    977.000000   \n",
              "\n",
              "           season_1      season_2      season_3      season_4  \n",
              "count  17379.000000  17379.000000  17379.000000  17379.000000  \n",
              "mean       0.244088      0.253697      0.258703      0.243512  \n",
              "std        0.429557      0.435139      0.437935      0.429214  \n",
              "min        0.000000      0.000000      0.000000      0.000000  \n",
              "25%        0.000000      0.000000      0.000000      0.000000  \n",
              "50%        0.000000      0.000000      0.000000      0.000000  \n",
              "75%        0.000000      1.000000      1.000000      0.000000  \n",
              "max        1.000000      1.000000      1.000000      1.000000  "
            ]
          },
          "execution_count": 651,
          "metadata": {},
          "output_type": "execute_result"
        }
      ],
      "source": [
        "hour_df.describe()"
      ]
    },
    {
      "cell_type": "markdown",
      "metadata": {
        "id": "gp-Y6wU38DC1"
      },
      "source": [
        "## Exploratory Data Analysis (EDA)"
      ]
    },
    {
      "cell_type": "markdown",
      "metadata": {
        "id": "MW7WF2kr8DC1"
      },
      "source": [
        "### Explore Day_df"
      ]
    },
    {
      "cell_type": "code",
      "execution_count": 652,
      "metadata": {
        "id": "QpstFlNFiUeH"
      },
      "outputs": [],
      "source": [
        "# Menghapus kolom instan karena hanya untuk indeks\n",
        "day_df = day_df.drop(columns=['instant'])"
      ]
    },
    {
      "cell_type": "code",
      "execution_count": 653,
      "metadata": {
        "colab": {
          "base_uri": "https://localhost:8080/"
        },
        "id": "RHKm3mRgigBs",
        "outputId": "302cb69a-f3ee-46a4-939e-6b78d9c8a0af"
      },
      "outputs": [
        {
          "name": "stdout",
          "output_type": "stream",
          "text": [
            "\n",
            "dteday\n",
            "731\n",
            "2012-02-14    1\n",
            "2011-04-25    1\n",
            "2012-08-16    1\n",
            "2011-06-26    1\n",
            "2012-02-23    1\n",
            "             ..\n",
            "2012-06-02    1\n",
            "2011-04-12    1\n",
            "2012-12-15    1\n",
            "2011-06-13    1\n",
            "2011-12-14    1\n",
            "Name: dteday, Length: 731, dtype: int64\n",
            "\n",
            "year\n",
            "2\n",
            "2012    366\n",
            "2011    365\n",
            "Name: year, dtype: int64\n",
            "\n",
            "month\n",
            "12\n",
            "Oct      62\n",
            "March    62\n",
            "July     62\n",
            "Aug      62\n",
            "Dec      62\n",
            "May      62\n",
            "Jan      62\n",
            "June     60\n",
            "Nov      60\n",
            "April    60\n",
            "Sept     60\n",
            "Feb      57\n",
            "Name: month, dtype: int64\n",
            "\n",
            "weekday\n",
            "7\n",
            "Tuesday      105\n",
            "Monday       105\n",
            "Sunday       105\n",
            "Wednesday    104\n",
            "Saturday     104\n",
            "Friday       104\n",
            "Thursday     104\n",
            "Name: weekday, dtype: int64\n",
            "\n",
            "workingday\n",
            "2\n",
            "Hari Libur    500\n",
            "Hari Kerja    231\n",
            "Name: workingday, dtype: int64\n",
            "\n",
            "holiday\n",
            "2\n",
            "0    710\n",
            "1     21\n",
            "Name: holiday, dtype: int64\n",
            "\n",
            "weathersit\n",
            "3\n",
            "Clear        463\n",
            "Cloudy       247\n",
            "Snow/Rain     21\n",
            "Name: weathersit, dtype: int64\n",
            "\n",
            "season\n",
            "4\n",
            "fall      188\n",
            "summer    184\n",
            "spring    181\n",
            "winter    178\n",
            "Name: season, dtype: int64\n"
          ]
        }
      ],
      "source": [
        "# Memeriksa kolom dteday\n",
        "print('\\ndteday')\n",
        "print(day_df.dteday.nunique())  # Menampilkan jumlah nilai unik dalam kolom 'dteday'\n",
        "print(day_df.dteday.value_counts())  # Menampilkan distribusi nilai dalam kolom 'dteday'\n",
        "\n",
        "# Memeriksa kolom year\n",
        "print('\\nyear')\n",
        "print(day_df.year.nunique())  # Menampilkan jumlah nilai unik dalam kolom 'year'\n",
        "print(day_df.year.value_counts())  # Menampilkan distribusi nilai dalam kolom 'year'\n",
        "\n",
        "# Memeriksa kolom month\n",
        "print('\\nmonth')\n",
        "print(day_df.month.nunique())  # Menampilkan jumlah nilai unik dalam kolom 'month'\n",
        "print(day_df.month.value_counts())  # Menampilkan distribusi nilai dalam kolom 'month'\n",
        "\n",
        "# Memeriksa kolom weekday\n",
        "print('\\nweekday')\n",
        "print(day_df.weekday.nunique())  # Menampilkan jumlah nilai unik dalam kolom 'weekday'\n",
        "print(day_df.weekday.value_counts())  # Menampilkan distribusi nilai dalam kolom 'weekday'\n",
        "\n",
        "# Memeriksa kolom working day\n",
        "print('\\nworkingday')\n",
        "print(day_df.workingday.nunique())  # Menampilkan jumlah nilai unik dalam kolom 'workingday'\n",
        "print(day_df.workingday.value_counts())  # Menampilkan distribusi nilai dalam kolom 'workingday'\n",
        "\n",
        "# Memeriksa kolom holiday\n",
        "print('\\nholiday')\n",
        "print(day_df.holiday.nunique())  # Menampilkan jumlah nilai unik dalam kolom 'holiday'\n",
        "print(day_df.holiday.value_counts())  # Menampilkan distribusi nilai dalam kolom 'holiday'\n",
        "\n",
        "# Memeriksa kolom weathersit\n",
        "print('\\nweathersit')\n",
        "print(day_df.weathersit.nunique())  # Menampilkan jumlah nilai unik dalam kolom 'weathersit'\n",
        "print(day_df.weathersit.value_counts())  # Menampilkan distribusi nilai dalam kolom 'weathersit'\n",
        "\n",
        "# Memeriksa kolom season\n",
        "print('\\nseason')\n",
        "print(day_df.season.nunique())  # Menampilkan jumlah nilai unik dalam kolom 'season'\n",
        "print(day_df.season.value_counts())  # Menampilkan distribusi nilai dalam kolom 'season'\n"
      ]
    },
    {
      "cell_type": "code",
      "execution_count": 654,
      "metadata": {
        "id": "bYXMQIs1ikcD"
      },
      "outputs": [],
      "source": [
        "# Membagi variabel dalam dataset menjadi dua kelompok berdasarkan jenisnya\n",
        "\n",
        "# variabel kategorikal\n",
        "cat_vars = ['season', 'year', 'month', 'weekday', 'workingday', 'weathersit']\n",
        "\n",
        "# variabel numerik\n",
        "num_vars = ['temp', 'atemp', 'hum', 'windspeed', 'casual', 'registered', 'counts']"
      ]
    },
    {
      "cell_type": "code",
      "execution_count": 655,
      "metadata": {
        "colab": {
          "base_uri": "https://localhost:8080/",
          "height": 206
        },
        "id": "UEx8XPGQi0Fi",
        "outputId": "fd408dd9-0dc9-48c1-9188-dd4d2238ede0"
      },
      "outputs": [
        {
          "data": {
            "text/html": [
              "<div>\n",
              "<style scoped>\n",
              "    .dataframe tbody tr th:only-of-type {\n",
              "        vertical-align: middle;\n",
              "    }\n",
              "\n",
              "    .dataframe tbody tr th {\n",
              "        vertical-align: top;\n",
              "    }\n",
              "\n",
              "    .dataframe thead th {\n",
              "        text-align: right;\n",
              "    }\n",
              "</style>\n",
              "<table border=\"1\" class=\"dataframe\">\n",
              "  <thead>\n",
              "    <tr style=\"text-align: right;\">\n",
              "      <th></th>\n",
              "      <th>dteday</th>\n",
              "      <th>season</th>\n",
              "      <th>year</th>\n",
              "      <th>month</th>\n",
              "      <th>holiday</th>\n",
              "      <th>weekday</th>\n",
              "      <th>workingday</th>\n",
              "      <th>weathersit</th>\n",
              "      <th>temp</th>\n",
              "      <th>atemp</th>\n",
              "      <th>hum</th>\n",
              "      <th>windspeed</th>\n",
              "      <th>casual</th>\n",
              "      <th>registered</th>\n",
              "      <th>counts</th>\n",
              "    </tr>\n",
              "  </thead>\n",
              "  <tbody>\n",
              "    <tr>\n",
              "      <th>0</th>\n",
              "      <td>2011-01-01</td>\n",
              "      <td>spring</td>\n",
              "      <td>2011</td>\n",
              "      <td>Jan</td>\n",
              "      <td>0</td>\n",
              "      <td>Sunday</td>\n",
              "      <td>Hari Kerja</td>\n",
              "      <td>Cloudy</td>\n",
              "      <td>0.344167</td>\n",
              "      <td>0.363625</td>\n",
              "      <td>0.805833</td>\n",
              "      <td>0.160446</td>\n",
              "      <td>331</td>\n",
              "      <td>654</td>\n",
              "      <td>985</td>\n",
              "    </tr>\n",
              "    <tr>\n",
              "      <th>1</th>\n",
              "      <td>2011-01-02</td>\n",
              "      <td>spring</td>\n",
              "      <td>2011</td>\n",
              "      <td>Jan</td>\n",
              "      <td>0</td>\n",
              "      <td>Monday</td>\n",
              "      <td>Hari Kerja</td>\n",
              "      <td>Cloudy</td>\n",
              "      <td>0.363478</td>\n",
              "      <td>0.353739</td>\n",
              "      <td>0.696087</td>\n",
              "      <td>0.248539</td>\n",
              "      <td>131</td>\n",
              "      <td>670</td>\n",
              "      <td>801</td>\n",
              "    </tr>\n",
              "    <tr>\n",
              "      <th>2</th>\n",
              "      <td>2011-01-03</td>\n",
              "      <td>spring</td>\n",
              "      <td>2011</td>\n",
              "      <td>Jan</td>\n",
              "      <td>0</td>\n",
              "      <td>Tuesday</td>\n",
              "      <td>Hari Libur</td>\n",
              "      <td>Clear</td>\n",
              "      <td>0.196364</td>\n",
              "      <td>0.189405</td>\n",
              "      <td>0.437273</td>\n",
              "      <td>0.248309</td>\n",
              "      <td>120</td>\n",
              "      <td>1229</td>\n",
              "      <td>1349</td>\n",
              "    </tr>\n",
              "    <tr>\n",
              "      <th>3</th>\n",
              "      <td>2011-01-04</td>\n",
              "      <td>spring</td>\n",
              "      <td>2011</td>\n",
              "      <td>Jan</td>\n",
              "      <td>0</td>\n",
              "      <td>Wednesday</td>\n",
              "      <td>Hari Libur</td>\n",
              "      <td>Clear</td>\n",
              "      <td>0.200000</td>\n",
              "      <td>0.212122</td>\n",
              "      <td>0.590435</td>\n",
              "      <td>0.160296</td>\n",
              "      <td>108</td>\n",
              "      <td>1454</td>\n",
              "      <td>1562</td>\n",
              "    </tr>\n",
              "    <tr>\n",
              "      <th>4</th>\n",
              "      <td>2011-01-05</td>\n",
              "      <td>spring</td>\n",
              "      <td>2011</td>\n",
              "      <td>Jan</td>\n",
              "      <td>0</td>\n",
              "      <td>Thursday</td>\n",
              "      <td>Hari Libur</td>\n",
              "      <td>Clear</td>\n",
              "      <td>0.226957</td>\n",
              "      <td>0.229270</td>\n",
              "      <td>0.436957</td>\n",
              "      <td>0.186900</td>\n",
              "      <td>82</td>\n",
              "      <td>1518</td>\n",
              "      <td>1600</td>\n",
              "    </tr>\n",
              "  </tbody>\n",
              "</table>\n",
              "</div>"
            ],
            "text/plain": [
              "      dteday  season  year month  holiday    weekday  workingday weathersit  \\\n",
              "0 2011-01-01  spring  2011   Jan        0     Sunday  Hari Kerja     Cloudy   \n",
              "1 2011-01-02  spring  2011   Jan        0     Monday  Hari Kerja     Cloudy   \n",
              "2 2011-01-03  spring  2011   Jan        0    Tuesday  Hari Libur      Clear   \n",
              "3 2011-01-04  spring  2011   Jan        0  Wednesday  Hari Libur      Clear   \n",
              "4 2011-01-05  spring  2011   Jan        0   Thursday  Hari Libur      Clear   \n",
              "\n",
              "       temp     atemp       hum  windspeed  casual  registered  counts  \n",
              "0  0.344167  0.363625  0.805833   0.160446     331         654     985  \n",
              "1  0.363478  0.353739  0.696087   0.248539     131         670     801  \n",
              "2  0.196364  0.189405  0.437273   0.248309     120        1229    1349  \n",
              "3  0.200000  0.212122  0.590435   0.160296     108        1454    1562  \n",
              "4  0.226957  0.229270  0.436957   0.186900      82        1518    1600  "
            ]
          },
          "execution_count": 655,
          "metadata": {},
          "output_type": "execute_result"
        }
      ],
      "source": [
        "day_df.head()"
      ]
    },
    {
      "cell_type": "code",
      "execution_count": 656,
      "metadata": {
        "colab": {
          "base_uri": "https://localhost:8080/"
        },
        "id": "YJnN_fowj4-b",
        "outputId": "b11ef3f9-a915-4bcb-bc1b-989486c1d8a5"
      },
      "outputs": [
        {
          "data": {
            "text/plain": [
              "count    731.000000\n",
              "mean       0.190486\n",
              "std        0.077498\n",
              "min        0.022392\n",
              "25%        0.134950\n",
              "50%        0.180975\n",
              "75%        0.233214\n",
              "max        0.507463\n",
              "Name: windspeed, dtype: float64"
            ]
          },
          "execution_count": 656,
          "metadata": {},
          "output_type": "execute_result"
        }
      ],
      "source": [
        "day_df.windspeed.describe()"
      ]
    },
    {
      "cell_type": "code",
      "execution_count": 657,
      "metadata": {
        "colab": {
          "base_uri": "https://localhost:8080/"
        },
        "id": "ZFXeP-tZj46U",
        "outputId": "45181812-7512-4513-947b-1c04d60f598c"
      },
      "outputs": [
        {
          "data": {
            "text/plain": [
              "count    731.000000\n",
              "mean       0.495385\n",
              "std        0.183051\n",
              "min        0.059130\n",
              "25%        0.337083\n",
              "50%        0.498333\n",
              "75%        0.655417\n",
              "max        0.861667\n",
              "Name: temp, dtype: float64"
            ]
          },
          "execution_count": 657,
          "metadata": {},
          "output_type": "execute_result"
        }
      ],
      "source": [
        "day_df.temp.describe()"
      ]
    },
    {
      "cell_type": "code",
      "execution_count": 658,
      "metadata": {
        "colab": {
          "base_uri": "https://localhost:8080/"
        },
        "id": "O2Up0LUKj410",
        "outputId": "bce4d9b2-d6a6-4b7c-ded7-529d039068a7"
      },
      "outputs": [
        {
          "data": {
            "text/plain": [
              "count    731.000000\n",
              "mean       0.474354\n",
              "std        0.162961\n",
              "min        0.079070\n",
              "25%        0.337842\n",
              "50%        0.486733\n",
              "75%        0.608602\n",
              "max        0.840896\n",
              "Name: atemp, dtype: float64"
            ]
          },
          "execution_count": 658,
          "metadata": {},
          "output_type": "execute_result"
        }
      ],
      "source": [
        "day_df.atemp.describe()"
      ]
    },
    {
      "cell_type": "code",
      "execution_count": 659,
      "metadata": {
        "colab": {
          "base_uri": "https://localhost:8080/"
        },
        "id": "CT2m1l0cj4yD",
        "outputId": "932d025c-a21d-41d1-d4b2-5e7c9a0e904c"
      },
      "outputs": [
        {
          "data": {
            "text/plain": [
              "count    731.000000\n",
              "mean       0.627894\n",
              "std        0.142429\n",
              "min        0.000000\n",
              "25%        0.520000\n",
              "50%        0.626667\n",
              "75%        0.730209\n",
              "max        0.972500\n",
              "Name: hum, dtype: float64"
            ]
          },
          "execution_count": 659,
          "metadata": {},
          "output_type": "execute_result"
        }
      ],
      "source": [
        "day_df.hum.describe()"
      ]
    },
    {
      "cell_type": "code",
      "execution_count": 660,
      "metadata": {
        "colab": {
          "base_uri": "https://localhost:8080/"
        },
        "id": "ckVF50DMkHZF",
        "outputId": "03dd0e25-d43c-4ea7-ffd5-fd6e95e3c9ab"
      },
      "outputs": [
        {
          "data": {
            "text/plain": [
              "count     731.000000\n",
              "mean     4504.348837\n",
              "std      1937.211452\n",
              "min        22.000000\n",
              "25%      3152.000000\n",
              "50%      4548.000000\n",
              "75%      5956.000000\n",
              "max      8714.000000\n",
              "Name: counts, dtype: float64"
            ]
          },
          "execution_count": 660,
          "metadata": {},
          "output_type": "execute_result"
        }
      ],
      "source": [
        "day_df.counts.describe()"
      ]
    },
    {
      "cell_type": "code",
      "execution_count": 661,
      "metadata": {
        "colab": {
          "base_uri": "https://localhost:8080/"
        },
        "id": "qGaZuACtkHV8",
        "outputId": "c69c7977-6cfe-4502-d0b7-9a7c4bbccd45"
      },
      "outputs": [
        {
          "data": {
            "text/plain": [
              "count     731.000000\n",
              "mean      848.176471\n",
              "std       686.622488\n",
              "min         2.000000\n",
              "25%       315.500000\n",
              "50%       713.000000\n",
              "75%      1096.000000\n",
              "max      3410.000000\n",
              "Name: casual, dtype: float64"
            ]
          },
          "execution_count": 661,
          "metadata": {},
          "output_type": "execute_result"
        }
      ],
      "source": [
        "day_df.casual.describe()"
      ]
    },
    {
      "cell_type": "code",
      "execution_count": 662,
      "metadata": {
        "colab": {
          "base_uri": "https://localhost:8080/"
        },
        "id": "GvDKfqGnkHSD",
        "outputId": "c52d46cc-7e2f-4112-c715-ff9d98bf9edc"
      },
      "outputs": [
        {
          "data": {
            "text/plain": [
              "count     731.000000\n",
              "mean     3656.172367\n",
              "std      1560.256377\n",
              "min        20.000000\n",
              "25%      2497.000000\n",
              "50%      3662.000000\n",
              "75%      4776.500000\n",
              "max      6946.000000\n",
              "Name: registered, dtype: float64"
            ]
          },
          "execution_count": 662,
          "metadata": {},
          "output_type": "execute_result"
        }
      ],
      "source": [
        "day_df.registered.describe()"
      ]
    },
    {
      "cell_type": "markdown",
      "metadata": {
        "id": "fODe-OuwaDkr"
      },
      "source": [
        "### Explore Hour_df"
      ]
    },
    {
      "cell_type": "code",
      "execution_count": 663,
      "metadata": {},
      "outputs": [],
      "source": [
        "# Menghapus kolom instan karena hanya untuk indeks\n",
        "hour_df = hour_df.drop(columns=['instant'])"
      ]
    },
    {
      "cell_type": "code",
      "execution_count": 664,
      "metadata": {
        "colab": {
          "base_uri": "https://localhost:8080/",
          "height": 320
        },
        "id": "e9CQCZjk8DC2",
        "outputId": "c59882c3-a162-4f89-b5d9-6a2519bcc3d5"
      },
      "outputs": [
        {
          "data": {
            "text/html": [
              "<div>\n",
              "<style scoped>\n",
              "    .dataframe tbody tr th:only-of-type {\n",
              "        vertical-align: middle;\n",
              "    }\n",
              "\n",
              "    .dataframe tbody tr th {\n",
              "        vertical-align: top;\n",
              "    }\n",
              "\n",
              "    .dataframe thead th {\n",
              "        text-align: right;\n",
              "    }\n",
              "</style>\n",
              "<table border=\"1\" class=\"dataframe\">\n",
              "  <thead>\n",
              "    <tr style=\"text-align: right;\">\n",
              "      <th></th>\n",
              "      <th>year</th>\n",
              "      <th>month</th>\n",
              "      <th>hour</th>\n",
              "      <th>holiday</th>\n",
              "      <th>weekday</th>\n",
              "      <th>workingday</th>\n",
              "      <th>weathersit</th>\n",
              "      <th>temp</th>\n",
              "      <th>atemp</th>\n",
              "      <th>hum</th>\n",
              "      <th>windspeed</th>\n",
              "      <th>casual</th>\n",
              "      <th>registered</th>\n",
              "      <th>counts</th>\n",
              "      <th>season_1</th>\n",
              "      <th>season_2</th>\n",
              "      <th>season_3</th>\n",
              "      <th>season_4</th>\n",
              "    </tr>\n",
              "  </thead>\n",
              "  <tbody>\n",
              "    <tr>\n",
              "      <th>count</th>\n",
              "      <td>17379.000000</td>\n",
              "      <td>17379.000000</td>\n",
              "      <td>17379.000000</td>\n",
              "      <td>17379.000000</td>\n",
              "      <td>17379.000000</td>\n",
              "      <td>17379.000000</td>\n",
              "      <td>17379.000000</td>\n",
              "      <td>17379.000000</td>\n",
              "      <td>17379.000000</td>\n",
              "      <td>17379.000000</td>\n",
              "      <td>17379.000000</td>\n",
              "      <td>17379.000000</td>\n",
              "      <td>17379.000000</td>\n",
              "      <td>17379.000000</td>\n",
              "      <td>17379.000000</td>\n",
              "      <td>17379.000000</td>\n",
              "      <td>17379.000000</td>\n",
              "      <td>17379.000000</td>\n",
              "    </tr>\n",
              "    <tr>\n",
              "      <th>mean</th>\n",
              "      <td>0.502561</td>\n",
              "      <td>6.537775</td>\n",
              "      <td>11.546752</td>\n",
              "      <td>0.028770</td>\n",
              "      <td>3.003683</td>\n",
              "      <td>0.682721</td>\n",
              "      <td>1.425283</td>\n",
              "      <td>0.496987</td>\n",
              "      <td>0.475775</td>\n",
              "      <td>0.627229</td>\n",
              "      <td>0.190098</td>\n",
              "      <td>35.676218</td>\n",
              "      <td>153.786869</td>\n",
              "      <td>189.463088</td>\n",
              "      <td>0.244088</td>\n",
              "      <td>0.253697</td>\n",
              "      <td>0.258703</td>\n",
              "      <td>0.243512</td>\n",
              "    </tr>\n",
              "    <tr>\n",
              "      <th>std</th>\n",
              "      <td>0.500008</td>\n",
              "      <td>3.438776</td>\n",
              "      <td>6.914405</td>\n",
              "      <td>0.167165</td>\n",
              "      <td>2.005771</td>\n",
              "      <td>0.465431</td>\n",
              "      <td>0.639357</td>\n",
              "      <td>0.192556</td>\n",
              "      <td>0.171850</td>\n",
              "      <td>0.192930</td>\n",
              "      <td>0.122340</td>\n",
              "      <td>49.305030</td>\n",
              "      <td>151.357286</td>\n",
              "      <td>181.387599</td>\n",
              "      <td>0.429557</td>\n",
              "      <td>0.435139</td>\n",
              "      <td>0.437935</td>\n",
              "      <td>0.429214</td>\n",
              "    </tr>\n",
              "    <tr>\n",
              "      <th>min</th>\n",
              "      <td>0.000000</td>\n",
              "      <td>1.000000</td>\n",
              "      <td>0.000000</td>\n",
              "      <td>0.000000</td>\n",
              "      <td>0.000000</td>\n",
              "      <td>0.000000</td>\n",
              "      <td>1.000000</td>\n",
              "      <td>0.020000</td>\n",
              "      <td>0.000000</td>\n",
              "      <td>0.000000</td>\n",
              "      <td>0.000000</td>\n",
              "      <td>0.000000</td>\n",
              "      <td>0.000000</td>\n",
              "      <td>1.000000</td>\n",
              "      <td>0.000000</td>\n",
              "      <td>0.000000</td>\n",
              "      <td>0.000000</td>\n",
              "      <td>0.000000</td>\n",
              "    </tr>\n",
              "    <tr>\n",
              "      <th>25%</th>\n",
              "      <td>0.000000</td>\n",
              "      <td>4.000000</td>\n",
              "      <td>6.000000</td>\n",
              "      <td>0.000000</td>\n",
              "      <td>1.000000</td>\n",
              "      <td>0.000000</td>\n",
              "      <td>1.000000</td>\n",
              "      <td>0.340000</td>\n",
              "      <td>0.333300</td>\n",
              "      <td>0.480000</td>\n",
              "      <td>0.104500</td>\n",
              "      <td>4.000000</td>\n",
              "      <td>34.000000</td>\n",
              "      <td>40.000000</td>\n",
              "      <td>0.000000</td>\n",
              "      <td>0.000000</td>\n",
              "      <td>0.000000</td>\n",
              "      <td>0.000000</td>\n",
              "    </tr>\n",
              "    <tr>\n",
              "      <th>50%</th>\n",
              "      <td>1.000000</td>\n",
              "      <td>7.000000</td>\n",
              "      <td>12.000000</td>\n",
              "      <td>0.000000</td>\n",
              "      <td>3.000000</td>\n",
              "      <td>1.000000</td>\n",
              "      <td>1.000000</td>\n",
              "      <td>0.500000</td>\n",
              "      <td>0.484800</td>\n",
              "      <td>0.630000</td>\n",
              "      <td>0.194000</td>\n",
              "      <td>17.000000</td>\n",
              "      <td>115.000000</td>\n",
              "      <td>142.000000</td>\n",
              "      <td>0.000000</td>\n",
              "      <td>0.000000</td>\n",
              "      <td>0.000000</td>\n",
              "      <td>0.000000</td>\n",
              "    </tr>\n",
              "    <tr>\n",
              "      <th>75%</th>\n",
              "      <td>1.000000</td>\n",
              "      <td>10.000000</td>\n",
              "      <td>18.000000</td>\n",
              "      <td>0.000000</td>\n",
              "      <td>5.000000</td>\n",
              "      <td>1.000000</td>\n",
              "      <td>2.000000</td>\n",
              "      <td>0.660000</td>\n",
              "      <td>0.621200</td>\n",
              "      <td>0.780000</td>\n",
              "      <td>0.253700</td>\n",
              "      <td>48.000000</td>\n",
              "      <td>220.000000</td>\n",
              "      <td>281.000000</td>\n",
              "      <td>0.000000</td>\n",
              "      <td>1.000000</td>\n",
              "      <td>1.000000</td>\n",
              "      <td>0.000000</td>\n",
              "    </tr>\n",
              "    <tr>\n",
              "      <th>max</th>\n",
              "      <td>1.000000</td>\n",
              "      <td>12.000000</td>\n",
              "      <td>23.000000</td>\n",
              "      <td>1.000000</td>\n",
              "      <td>6.000000</td>\n",
              "      <td>1.000000</td>\n",
              "      <td>4.000000</td>\n",
              "      <td>1.000000</td>\n",
              "      <td>1.000000</td>\n",
              "      <td>1.000000</td>\n",
              "      <td>0.850700</td>\n",
              "      <td>367.000000</td>\n",
              "      <td>886.000000</td>\n",
              "      <td>977.000000</td>\n",
              "      <td>1.000000</td>\n",
              "      <td>1.000000</td>\n",
              "      <td>1.000000</td>\n",
              "      <td>1.000000</td>\n",
              "    </tr>\n",
              "  </tbody>\n",
              "</table>\n",
              "</div>"
            ],
            "text/plain": [
              "               year         month          hour       holiday       weekday  \\\n",
              "count  17379.000000  17379.000000  17379.000000  17379.000000  17379.000000   \n",
              "mean       0.502561      6.537775     11.546752      0.028770      3.003683   \n",
              "std        0.500008      3.438776      6.914405      0.167165      2.005771   \n",
              "min        0.000000      1.000000      0.000000      0.000000      0.000000   \n",
              "25%        0.000000      4.000000      6.000000      0.000000      1.000000   \n",
              "50%        1.000000      7.000000     12.000000      0.000000      3.000000   \n",
              "75%        1.000000     10.000000     18.000000      0.000000      5.000000   \n",
              "max        1.000000     12.000000     23.000000      1.000000      6.000000   \n",
              "\n",
              "         workingday    weathersit          temp         atemp           hum  \\\n",
              "count  17379.000000  17379.000000  17379.000000  17379.000000  17379.000000   \n",
              "mean       0.682721      1.425283      0.496987      0.475775      0.627229   \n",
              "std        0.465431      0.639357      0.192556      0.171850      0.192930   \n",
              "min        0.000000      1.000000      0.020000      0.000000      0.000000   \n",
              "25%        0.000000      1.000000      0.340000      0.333300      0.480000   \n",
              "50%        1.000000      1.000000      0.500000      0.484800      0.630000   \n",
              "75%        1.000000      2.000000      0.660000      0.621200      0.780000   \n",
              "max        1.000000      4.000000      1.000000      1.000000      1.000000   \n",
              "\n",
              "          windspeed        casual    registered        counts      season_1  \\\n",
              "count  17379.000000  17379.000000  17379.000000  17379.000000  17379.000000   \n",
              "mean       0.190098     35.676218    153.786869    189.463088      0.244088   \n",
              "std        0.122340     49.305030    151.357286    181.387599      0.429557   \n",
              "min        0.000000      0.000000      0.000000      1.000000      0.000000   \n",
              "25%        0.104500      4.000000     34.000000     40.000000      0.000000   \n",
              "50%        0.194000     17.000000    115.000000    142.000000      0.000000   \n",
              "75%        0.253700     48.000000    220.000000    281.000000      0.000000   \n",
              "max        0.850700    367.000000    886.000000    977.000000      1.000000   \n",
              "\n",
              "           season_2      season_3      season_4  \n",
              "count  17379.000000  17379.000000  17379.000000  \n",
              "mean       0.253697      0.258703      0.243512  \n",
              "std        0.435139      0.437935      0.429214  \n",
              "min        0.000000      0.000000      0.000000  \n",
              "25%        0.000000      0.000000      0.000000  \n",
              "50%        0.000000      0.000000      0.000000  \n",
              "75%        1.000000      1.000000      0.000000  \n",
              "max        1.000000      1.000000      1.000000  "
            ]
          },
          "execution_count": 664,
          "metadata": {},
          "output_type": "execute_result"
        }
      ],
      "source": [
        "hour_df.describe()"
      ]
    },
    {
      "cell_type": "code",
      "execution_count": 665,
      "metadata": {
        "colab": {
          "base_uri": "https://localhost:8080/"
        },
        "id": "oIvMbzbmjloU",
        "outputId": "a8604273-82c8-4c51-b898-16db82710876"
      },
      "outputs": [
        {
          "name": "stdout",
          "output_type": "stream",
          "text": [
            "<class 'pandas.core.frame.DataFrame'>\n",
            "RangeIndex: 17379 entries, 0 to 17378\n",
            "Data columns (total 19 columns):\n",
            " #   Column      Non-Null Count  Dtype         \n",
            "---  ------      --------------  -----         \n",
            " 0   dteday      17379 non-null  datetime64[ns]\n",
            " 1   year        17379 non-null  int64         \n",
            " 2   month       17379 non-null  int64         \n",
            " 3   hour        17379 non-null  int64         \n",
            " 4   holiday     17379 non-null  int64         \n",
            " 5   weekday     17379 non-null  int64         \n",
            " 6   workingday  17379 non-null  int64         \n",
            " 7   weathersit  17379 non-null  int64         \n",
            " 8   temp        17379 non-null  float64       \n",
            " 9   atemp       17379 non-null  float64       \n",
            " 10  hum         17379 non-null  float64       \n",
            " 11  windspeed   17379 non-null  float64       \n",
            " 12  casual      17379 non-null  int64         \n",
            " 13  registered  17379 non-null  int64         \n",
            " 14  counts      17379 non-null  int64         \n",
            " 15  season_1    17379 non-null  int32         \n",
            " 16  season_2    17379 non-null  int32         \n",
            " 17  season_3    17379 non-null  int32         \n",
            " 18  season_4    17379 non-null  int32         \n",
            "dtypes: datetime64[ns](1), float64(4), int32(4), int64(10)\n",
            "memory usage: 2.3 MB\n",
            "None\n"
          ]
        }
      ],
      "source": [
        "print(hour_df.info())"
      ]
    },
    {
      "cell_type": "code",
      "execution_count": 666,
      "metadata": {
        "colab": {
          "base_uri": "https://localhost:8080/"
        },
        "id": "oPn3FH6tSo7U",
        "outputId": "5e089199-b82a-4551-c8fa-db65681668a9"
      },
      "outputs": [
        {
          "name": "stdout",
          "output_type": "stream",
          "text": [
            "Perbandingan kategori pada hari kerja (workingday):\n",
            "workingday\n",
            "0    181.405332\n",
            "1    193.207754\n",
            "Name: counts, dtype: float64\n"
          ]
        }
      ],
      "source": [
        "# Perbandingan kategori pada hari kerja (workingday)\n",
        "print(\"Perbandingan kategori pada hari kerja (workingday):\")\n",
        "print(hour_df.groupby('workingday')['counts'].mean())"
      ]
    },
    {
      "cell_type": "code",
      "execution_count": 667,
      "metadata": {
        "colab": {
          "base_uri": "https://localhost:8080/"
        },
        "id": "06vszTP_UEik",
        "outputId": "aeaf66f6-2bee-497f-d170-718ec7f9600a"
      },
      "outputs": [
        {
          "name": "stdout",
          "output_type": "stream",
          "text": [
            "Distribusi variabel numerik:\n",
            "               temp         atemp           hum     windspeed        casual  \\\n",
            "count  17379.000000  17379.000000  17379.000000  17379.000000  17379.000000   \n",
            "mean       0.496987      0.475775      0.627229      0.190098     35.676218   \n",
            "std        0.192556      0.171850      0.192930      0.122340     49.305030   \n",
            "min        0.020000      0.000000      0.000000      0.000000      0.000000   \n",
            "25%        0.340000      0.333300      0.480000      0.104500      4.000000   \n",
            "50%        0.500000      0.484800      0.630000      0.194000     17.000000   \n",
            "75%        0.660000      0.621200      0.780000      0.253700     48.000000   \n",
            "max        1.000000      1.000000      1.000000      0.850700    367.000000   \n",
            "\n",
            "         registered        counts  \n",
            "count  17379.000000  17379.000000  \n",
            "mean     153.786869    189.463088  \n",
            "std      151.357286    181.387599  \n",
            "min        0.000000      1.000000  \n",
            "25%       34.000000     40.000000  \n",
            "50%      115.000000    142.000000  \n",
            "75%      220.000000    281.000000  \n",
            "max      886.000000    977.000000  \n",
            "Distribusi variabel kategorikal:\n",
            "season_1  season_2  season_3  season_4\n",
            "0         0         1         0           4496\n",
            "          1         0         0           4409\n",
            "1         0         0         0           4242\n",
            "0         0         0         1           4232\n",
            "dtype: int64\n"
          ]
        }
      ],
      "source": [
        "print(\"Distribusi variabel numerik:\")\n",
        "print(hour_df[['temp', 'atemp', 'hum', 'windspeed', 'casual', 'registered', 'counts']].describe())\n",
        "\n",
        "print(\"Distribusi variabel kategorikal:\")\n",
        "print(hour_df[['season_1','season_2','season_3','season_4']].value_counts())\n"
      ]
    },
    {
      "cell_type": "code",
      "execution_count": 668,
      "metadata": {
        "colab": {
          "base_uri": "https://localhost:8080/"
        },
        "id": "3uKB6F8yUfxH",
        "outputId": "6754e8b9-02da-4678-d3d4-f1a88c4366ba"
      },
      "outputs": [
        {
          "name": "stdout",
          "output_type": "stream",
          "text": [
            "Korelasi matriks:\n",
            "                year     month      hour   holiday   weekday  workingday  \\\n",
            "year        1.000000 -0.010473 -0.003867  0.006692 -0.004485   -0.002196   \n",
            "month      -0.010473  1.000000 -0.005772  0.018430  0.010400   -0.003477   \n",
            "hour       -0.003867 -0.005772  1.000000  0.000479 -0.003498    0.002285   \n",
            "holiday     0.006692  0.018430  0.000479  1.000000 -0.102088   -0.252471   \n",
            "weekday    -0.004485  0.010400 -0.003498 -0.102088  1.000000    0.035955   \n",
            "workingday -0.002196 -0.003477  0.002285 -0.252471  0.035955    1.000000   \n",
            "weathersit -0.019157  0.005400 -0.020203 -0.017036  0.003311    0.044672   \n",
            "temp        0.040913  0.201691  0.137603 -0.027340 -0.001795    0.055390   \n",
            "atemp       0.039222  0.208096  0.133750 -0.030973 -0.008821    0.054667   \n",
            "hum        -0.083546  0.164411 -0.276498 -0.010588 -0.037158    0.015688   \n",
            "windspeed  -0.008740 -0.135386  0.137252  0.003988  0.011502   -0.011830   \n",
            "casual      0.142779  0.068457  0.301202  0.031564  0.032721   -0.300942   \n",
            "registered  0.253684  0.122273  0.374141 -0.047345  0.021578    0.134326   \n",
            "counts      0.250495  0.120638  0.394071 -0.030927  0.026900    0.030284   \n",
            "season_1    0.011290 -0.564834  0.008363  0.033622  0.001428   -0.029387   \n",
            "season_2   -0.002589 -0.319382 -0.002919 -0.024404 -0.003510    0.015879   \n",
            "season_3   -0.000923  0.197900 -0.003348 -0.026216  0.008676    0.020182   \n",
            "season_4   -0.007732  0.687155 -0.001994  0.017840 -0.006723   -0.007280   \n",
            "\n",
            "            weathersit      temp     atemp       hum  windspeed    casual  \\\n",
            "year         -0.019157  0.040913  0.039222 -0.083546  -0.008740  0.142779   \n",
            "month         0.005400  0.201691  0.208096  0.164411  -0.135386  0.068457   \n",
            "hour         -0.020203  0.137603  0.133750 -0.276498   0.137252  0.301202   \n",
            "holiday      -0.017036 -0.027340 -0.030973 -0.010588   0.003988  0.031564   \n",
            "weekday       0.003311 -0.001795 -0.008821 -0.037158   0.011502  0.032721   \n",
            "workingday    0.044672  0.055390  0.054667  0.015688  -0.011830 -0.300942   \n",
            "weathersit    1.000000 -0.102640 -0.105563  0.418130   0.026226 -0.152628   \n",
            "temp         -0.102640  1.000000  0.987672 -0.069881  -0.023125  0.459616   \n",
            "atemp        -0.105563  0.987672  1.000000 -0.051918  -0.062336  0.454080   \n",
            "hum           0.418130 -0.069881 -0.051918  1.000000  -0.290105 -0.347028   \n",
            "windspeed     0.026226 -0.023125 -0.062336 -0.290105   1.000000  0.090287   \n",
            "casual       -0.152628  0.459616  0.454080 -0.347028   0.090287  1.000000   \n",
            "registered   -0.120966  0.335361  0.332559 -0.273933   0.082321  0.506618   \n",
            "counts       -0.142426  0.404772  0.400929 -0.322911   0.093234  0.694564   \n",
            "season_1      0.030999 -0.583859 -0.587470 -0.135138   0.116168 -0.246476   \n",
            "season_2      0.016738  0.144363  0.151903 -0.000625   0.063447  0.123983   \n",
            "season_3     -0.087771  0.642516  0.619570  0.018184  -0.089358  0.175067   \n",
            "season_4      0.041561 -0.217601 -0.198218  0.117326  -0.089410 -0.057646   \n",
            "\n",
            "            registered    counts  season_1  season_2  season_3  season_4  \n",
            "year          0.253684  0.250495  0.011290 -0.002589 -0.000923 -0.007732  \n",
            "month         0.122273  0.120638 -0.564834 -0.319382  0.197900  0.687155  \n",
            "hour          0.374141  0.394071  0.008363 -0.002919 -0.003348 -0.001994  \n",
            "holiday      -0.047345 -0.030927  0.033622 -0.024404 -0.026216  0.017840  \n",
            "weekday       0.021578  0.026900  0.001428 -0.003510  0.008676 -0.006723  \n",
            "workingday    0.134326  0.030284 -0.029387  0.015879  0.020182 -0.007280  \n",
            "weathersit   -0.120966 -0.142426  0.030999  0.016738 -0.087771  0.041561  \n",
            "temp          0.335361  0.404772 -0.583859  0.144363  0.642516 -0.217601  \n",
            "atemp         0.332559  0.400929 -0.587470  0.151903  0.619570 -0.198218  \n",
            "hum          -0.273933 -0.322911 -0.135138 -0.000625  0.018184  0.117326  \n",
            "windspeed     0.082321  0.093234  0.116168  0.063447 -0.089358 -0.089410  \n",
            "casual        0.506618  0.694564 -0.246476  0.123983  0.175067 -0.057646  \n",
            "registered    1.000000  0.972151 -0.213866  0.032345  0.124675  0.054037  \n",
            "counts        0.972151  1.000000 -0.245456  0.060692  0.151621  0.029421  \n",
            "season_1     -0.213866 -0.245456  1.000000 -0.331312 -0.335693 -0.322401  \n",
            "season_2      0.032345  0.060692 -0.331312  1.000000 -0.344433 -0.330795  \n",
            "season_3      0.124675  0.151621 -0.335693 -0.344433  1.000000 -0.335169  \n",
            "season_4      0.054037  0.029421 -0.322401 -0.330795 -0.335169  1.000000  \n"
          ]
        }
      ],
      "source": [
        "# Korelasi Antara Variabel\n",
        "correlation_matrix = hour_df.corr()\n",
        "print(\"Korelasi matriks:\")\n",
        "print(correlation_matrix)"
      ]
    },
    {
      "cell_type": "code",
      "execution_count": 669,
      "metadata": {},
      "outputs": [
        {
          "data": {
            "text/plain": [
              "3292679"
            ]
          },
          "execution_count": 669,
          "metadata": {},
          "output_type": "execute_result"
        }
      ],
      "source": [
        "hour_df['counts'].sum()"
      ]
    },
    {
      "cell_type": "markdown",
      "metadata": {},
      "source": [
        "### Explore All-df"
      ]
    },
    {
      "cell_type": "code",
      "execution_count": 709,
      "metadata": {},
      "outputs": [
        {
          "name": "stdout",
          "output_type": "stream",
          "text": [
            "0\n",
            "0\n"
          ]
        }
      ],
      "source": [
        "# Pastikan tidak ada data yang duplicate sebelum di merge\n",
        "print(day_df.duplicated('dteday').sum())\n",
        "print(hour_df.duplicated('dteday').sum())"
      ]
    },
    {
      "cell_type": "code",
      "execution_count": 711,
      "metadata": {},
      "outputs": [],
      "source": [
        "# Jika ada maka hapus duplikasi hingga 0\n",
        "day_df = day_df.drop_duplicates('dteday')\n",
        "hour_df = hour_df.drop_duplicates('dteday')"
      ]
    },
    {
      "cell_type": "code",
      "execution_count": 707,
      "metadata": {},
      "outputs": [],
      "source": [
        "# Merge DataFrame dengan memastikan kolom 'dteday' dan 'hour' unik\n",
        "all_df = pd.merge(day_df, hour_df[['dteday', 'hour', 'season_1', 'season_2', 'season_3', 'season_4']], how='inner', on='dteday')\n",
        "\n",
        "# Berikan sufiks yang berbeda untuk kolom yang memiliki nama yang sama\n",
        "all_df['hour'] = hour_df['hour']"
      ]
    },
    {
      "cell_type": "code",
      "execution_count": 698,
      "metadata": {},
      "outputs": [
        {
          "data": {
            "text/html": [
              "<div>\n",
              "<style scoped>\n",
              "    .dataframe tbody tr th:only-of-type {\n",
              "        vertical-align: middle;\n",
              "    }\n",
              "\n",
              "    .dataframe tbody tr th {\n",
              "        vertical-align: top;\n",
              "    }\n",
              "\n",
              "    .dataframe thead th {\n",
              "        text-align: right;\n",
              "    }\n",
              "</style>\n",
              "<table border=\"1\" class=\"dataframe\">\n",
              "  <thead>\n",
              "    <tr style=\"text-align: right;\">\n",
              "      <th></th>\n",
              "      <th>holiday</th>\n",
              "      <th>temp</th>\n",
              "      <th>atemp</th>\n",
              "      <th>hum</th>\n",
              "      <th>windspeed</th>\n",
              "      <th>casual</th>\n",
              "      <th>registered</th>\n",
              "      <th>counts</th>\n",
              "      <th>hour</th>\n",
              "      <th>season_1</th>\n",
              "      <th>season_2</th>\n",
              "      <th>season_3</th>\n",
              "      <th>season_4</th>\n",
              "    </tr>\n",
              "  </thead>\n",
              "  <tbody>\n",
              "    <tr>\n",
              "      <th>count</th>\n",
              "      <td>17379.000000</td>\n",
              "      <td>17379.000000</td>\n",
              "      <td>17379.000000</td>\n",
              "      <td>17379.000000</td>\n",
              "      <td>17379.000000</td>\n",
              "      <td>17379.000000</td>\n",
              "      <td>17379.000000</td>\n",
              "      <td>17379.000000</td>\n",
              "      <td>17379.000000</td>\n",
              "      <td>17379.000000</td>\n",
              "      <td>17379.000000</td>\n",
              "      <td>17379.000000</td>\n",
              "      <td>17379.000000</td>\n",
              "    </tr>\n",
              "    <tr>\n",
              "      <th>mean</th>\n",
              "      <td>0.028770</td>\n",
              "      <td>0.496987</td>\n",
              "      <td>0.475775</td>\n",
              "      <td>0.627229</td>\n",
              "      <td>0.190098</td>\n",
              "      <td>854.339720</td>\n",
              "      <td>3679.353242</td>\n",
              "      <td>4533.692963</td>\n",
              "      <td>11.546752</td>\n",
              "      <td>0.244088</td>\n",
              "      <td>0.253697</td>\n",
              "      <td>0.258703</td>\n",
              "      <td>0.243512</td>\n",
              "    </tr>\n",
              "    <tr>\n",
              "      <th>std</th>\n",
              "      <td>0.167165</td>\n",
              "      <td>0.182445</td>\n",
              "      <td>0.162426</td>\n",
              "      <td>0.141779</td>\n",
              "      <td>0.077204</td>\n",
              "      <td>685.686754</td>\n",
              "      <td>1544.953518</td>\n",
              "      <td>1917.376947</td>\n",
              "      <td>6.914405</td>\n",
              "      <td>0.429557</td>\n",
              "      <td>0.435139</td>\n",
              "      <td>0.437935</td>\n",
              "      <td>0.429214</td>\n",
              "    </tr>\n",
              "    <tr>\n",
              "      <th>min</th>\n",
              "      <td>0.000000</td>\n",
              "      <td>0.059130</td>\n",
              "      <td>0.079070</td>\n",
              "      <td>0.000000</td>\n",
              "      <td>0.022392</td>\n",
              "      <td>2.000000</td>\n",
              "      <td>20.000000</td>\n",
              "      <td>22.000000</td>\n",
              "      <td>0.000000</td>\n",
              "      <td>0.000000</td>\n",
              "      <td>0.000000</td>\n",
              "      <td>0.000000</td>\n",
              "      <td>0.000000</td>\n",
              "    </tr>\n",
              "    <tr>\n",
              "      <th>25%</th>\n",
              "      <td>0.000000</td>\n",
              "      <td>0.340000</td>\n",
              "      <td>0.338363</td>\n",
              "      <td>0.520000</td>\n",
              "      <td>0.134950</td>\n",
              "      <td>318.000000</td>\n",
              "      <td>2545.000000</td>\n",
              "      <td>3214.000000</td>\n",
              "      <td>6.000000</td>\n",
              "      <td>0.000000</td>\n",
              "      <td>0.000000</td>\n",
              "      <td>0.000000</td>\n",
              "      <td>0.000000</td>\n",
              "    </tr>\n",
              "    <tr>\n",
              "      <th>50%</th>\n",
              "      <td>0.000000</td>\n",
              "      <td>0.502500</td>\n",
              "      <td>0.490122</td>\n",
              "      <td>0.625833</td>\n",
              "      <td>0.180967</td>\n",
              "      <td>724.000000</td>\n",
              "      <td>3681.000000</td>\n",
              "      <td>4563.000000</td>\n",
              "      <td>12.000000</td>\n",
              "      <td>0.000000</td>\n",
              "      <td>0.000000</td>\n",
              "      <td>0.000000</td>\n",
              "      <td>0.000000</td>\n",
              "    </tr>\n",
              "    <tr>\n",
              "      <th>75%</th>\n",
              "      <td>0.000000</td>\n",
              "      <td>0.655833</td>\n",
              "      <td>0.610488</td>\n",
              "      <td>0.729583</td>\n",
              "      <td>0.233204</td>\n",
              "      <td>1100.000000</td>\n",
              "      <td>4801.000000</td>\n",
              "      <td>5986.000000</td>\n",
              "      <td>18.000000</td>\n",
              "      <td>0.000000</td>\n",
              "      <td>1.000000</td>\n",
              "      <td>1.000000</td>\n",
              "      <td>0.000000</td>\n",
              "    </tr>\n",
              "    <tr>\n",
              "      <th>max</th>\n",
              "      <td>1.000000</td>\n",
              "      <td>0.861667</td>\n",
              "      <td>0.840896</td>\n",
              "      <td>0.972500</td>\n",
              "      <td>0.507463</td>\n",
              "      <td>3410.000000</td>\n",
              "      <td>6946.000000</td>\n",
              "      <td>8714.000000</td>\n",
              "      <td>23.000000</td>\n",
              "      <td>1.000000</td>\n",
              "      <td>1.000000</td>\n",
              "      <td>1.000000</td>\n",
              "      <td>1.000000</td>\n",
              "    </tr>\n",
              "  </tbody>\n",
              "</table>\n",
              "</div>"
            ],
            "text/plain": [
              "            holiday          temp         atemp           hum     windspeed  \\\n",
              "count  17379.000000  17379.000000  17379.000000  17379.000000  17379.000000   \n",
              "mean       0.028770      0.496987      0.475775      0.627229      0.190098   \n",
              "std        0.167165      0.182445      0.162426      0.141779      0.077204   \n",
              "min        0.000000      0.059130      0.079070      0.000000      0.022392   \n",
              "25%        0.000000      0.340000      0.338363      0.520000      0.134950   \n",
              "50%        0.000000      0.502500      0.490122      0.625833      0.180967   \n",
              "75%        0.000000      0.655833      0.610488      0.729583      0.233204   \n",
              "max        1.000000      0.861667      0.840896      0.972500      0.507463   \n",
              "\n",
              "             casual    registered        counts          hour      season_1  \\\n",
              "count  17379.000000  17379.000000  17379.000000  17379.000000  17379.000000   \n",
              "mean     854.339720   3679.353242   4533.692963     11.546752      0.244088   \n",
              "std      685.686754   1544.953518   1917.376947      6.914405      0.429557   \n",
              "min        2.000000     20.000000     22.000000      0.000000      0.000000   \n",
              "25%      318.000000   2545.000000   3214.000000      6.000000      0.000000   \n",
              "50%      724.000000   3681.000000   4563.000000     12.000000      0.000000   \n",
              "75%     1100.000000   4801.000000   5986.000000     18.000000      0.000000   \n",
              "max     3410.000000   6946.000000   8714.000000     23.000000      1.000000   \n",
              "\n",
              "           season_2      season_3      season_4  \n",
              "count  17379.000000  17379.000000  17379.000000  \n",
              "mean       0.253697      0.258703      0.243512  \n",
              "std        0.435139      0.437935      0.429214  \n",
              "min        0.000000      0.000000      0.000000  \n",
              "25%        0.000000      0.000000      0.000000  \n",
              "50%        0.000000      0.000000      0.000000  \n",
              "75%        1.000000      1.000000      0.000000  \n",
              "max        1.000000      1.000000      1.000000  "
            ]
          },
          "execution_count": 698,
          "metadata": {},
          "output_type": "execute_result"
        }
      ],
      "source": [
        "all_df.describe()"
      ]
    },
    {
      "cell_type": "code",
      "execution_count": 699,
      "metadata": {},
      "outputs": [
        {
          "name": "stdout",
          "output_type": "stream",
          "text": [
            "<class 'pandas.core.frame.DataFrame'>\n",
            "Int64Index: 17379 entries, 0 to 17378\n",
            "Data columns (total 20 columns):\n",
            " #   Column      Non-Null Count  Dtype         \n",
            "---  ------      --------------  -----         \n",
            " 0   dteday      17379 non-null  datetime64[ns]\n",
            " 1   season      17379 non-null  object        \n",
            " 2   year        17379 non-null  object        \n",
            " 3   month       17379 non-null  object        \n",
            " 4   holiday     17379 non-null  int64         \n",
            " 5   weekday     17379 non-null  object        \n",
            " 6   workingday  17379 non-null  object        \n",
            " 7   weathersit  17379 non-null  object        \n",
            " 8   temp        17379 non-null  float64       \n",
            " 9   atemp       17379 non-null  float64       \n",
            " 10  hum         17379 non-null  float64       \n",
            " 11  windspeed   17379 non-null  float64       \n",
            " 12  casual      17379 non-null  int64         \n",
            " 13  registered  17379 non-null  int64         \n",
            " 14  counts      17379 non-null  int64         \n",
            " 15  hour        17379 non-null  int64         \n",
            " 16  season_1    17379 non-null  int32         \n",
            " 17  season_2    17379 non-null  int32         \n",
            " 18  season_3    17379 non-null  int32         \n",
            " 19  season_4    17379 non-null  int32         \n",
            "dtypes: datetime64[ns](1), float64(4), int32(4), int64(5), object(6)\n",
            "memory usage: 2.5+ MB\n"
          ]
        }
      ],
      "source": [
        "all_df.info()"
      ]
    },
    {
      "cell_type": "code",
      "execution_count": 708,
      "metadata": {},
      "outputs": [
        {
          "data": {
            "text/plain": [
              "3292679"
            ]
          },
          "execution_count": 708,
          "metadata": {},
          "output_type": "execute_result"
        }
      ],
      "source": [
        "all_df['counts'].sum()"
      ]
    },
    {
      "cell_type": "code",
      "execution_count": 674,
      "metadata": {},
      "outputs": [
        {
          "name": "stdout",
          "output_type": "stream",
          "text": [
            "Unique values in 'counts': 696\n"
          ]
        }
      ],
      "source": [
        "print(\"Unique values in 'counts':\", len(all_df['counts'].unique()))"
      ]
    },
    {
      "cell_type": "code",
      "execution_count": 675,
      "metadata": {},
      "outputs": [
        {
          "name": "stdout",
          "output_type": "stream",
          "text": [
            "<class 'pandas.core.frame.DataFrame'>\n",
            "Int64Index: 17379 entries, 0 to 17378\n",
            "Data columns (total 20 columns):\n",
            " #   Column      Non-Null Count  Dtype         \n",
            "---  ------      --------------  -----         \n",
            " 0   dteday      17379 non-null  datetime64[ns]\n",
            " 1   season      17379 non-null  object        \n",
            " 2   year        17379 non-null  object        \n",
            " 3   month       17379 non-null  object        \n",
            " 4   holiday     17379 non-null  int64         \n",
            " 5   weekday     17379 non-null  object        \n",
            " 6   workingday  17379 non-null  object        \n",
            " 7   weathersit  17379 non-null  object        \n",
            " 8   temp        17379 non-null  float64       \n",
            " 9   atemp       17379 non-null  float64       \n",
            " 10  hum         17379 non-null  float64       \n",
            " 11  windspeed   17379 non-null  float64       \n",
            " 12  casual      17379 non-null  int64         \n",
            " 13  registered  17379 non-null  int64         \n",
            " 14  counts      17379 non-null  int64         \n",
            " 15  hour        17379 non-null  int64         \n",
            " 16  season_1    17379 non-null  int32         \n",
            " 17  season_2    17379 non-null  int32         \n",
            " 18  season_3    17379 non-null  int32         \n",
            " 19  season_4    17379 non-null  int32         \n",
            "dtypes: datetime64[ns](1), float64(4), int32(4), int64(5), object(6)\n",
            "memory usage: 2.5+ MB\n"
          ]
        }
      ],
      "source": [
        "all_df.info()"
      ]
    },
    {
      "cell_type": "code",
      "execution_count": 676,
      "metadata": {},
      "outputs": [
        {
          "data": {
            "text/html": [
              "<div>\n",
              "<style scoped>\n",
              "    .dataframe tbody tr th:only-of-type {\n",
              "        vertical-align: middle;\n",
              "    }\n",
              "\n",
              "    .dataframe tbody tr th {\n",
              "        vertical-align: top;\n",
              "    }\n",
              "\n",
              "    .dataframe thead th {\n",
              "        text-align: right;\n",
              "    }\n",
              "</style>\n",
              "<table border=\"1\" class=\"dataframe\">\n",
              "  <thead>\n",
              "    <tr style=\"text-align: right;\">\n",
              "      <th></th>\n",
              "      <th></th>\n",
              "      <th>temp</th>\n",
              "      <th>atemp</th>\n",
              "      <th>hum</th>\n",
              "      <th>counts</th>\n",
              "    </tr>\n",
              "    <tr>\n",
              "      <th>dteday</th>\n",
              "      <th>season</th>\n",
              "      <th></th>\n",
              "      <th></th>\n",
              "      <th></th>\n",
              "      <th></th>\n",
              "    </tr>\n",
              "  </thead>\n",
              "  <tbody>\n",
              "    <tr>\n",
              "      <th>2011-01-01</th>\n",
              "      <th>spring</th>\n",
              "      <td>0.344167</td>\n",
              "      <td>0.363625</td>\n",
              "      <td>0.805833</td>\n",
              "      <td>23640</td>\n",
              "    </tr>\n",
              "    <tr>\n",
              "      <th>2011-01-02</th>\n",
              "      <th>spring</th>\n",
              "      <td>0.363478</td>\n",
              "      <td>0.353739</td>\n",
              "      <td>0.696087</td>\n",
              "      <td>18423</td>\n",
              "    </tr>\n",
              "    <tr>\n",
              "      <th>2011-01-03</th>\n",
              "      <th>spring</th>\n",
              "      <td>0.196364</td>\n",
              "      <td>0.189405</td>\n",
              "      <td>0.437273</td>\n",
              "      <td>29678</td>\n",
              "    </tr>\n",
              "    <tr>\n",
              "      <th>2011-01-04</th>\n",
              "      <th>spring</th>\n",
              "      <td>0.200000</td>\n",
              "      <td>0.212122</td>\n",
              "      <td>0.590435</td>\n",
              "      <td>35926</td>\n",
              "    </tr>\n",
              "    <tr>\n",
              "      <th>2011-01-05</th>\n",
              "      <th>spring</th>\n",
              "      <td>0.226957</td>\n",
              "      <td>0.229270</td>\n",
              "      <td>0.436957</td>\n",
              "      <td>36800</td>\n",
              "    </tr>\n",
              "    <tr>\n",
              "      <th>...</th>\n",
              "      <th>...</th>\n",
              "      <td>...</td>\n",
              "      <td>...</td>\n",
              "      <td>...</td>\n",
              "      <td>...</td>\n",
              "    </tr>\n",
              "    <tr>\n",
              "      <th>2012-12-27</th>\n",
              "      <th>spring</th>\n",
              "      <td>0.254167</td>\n",
              "      <td>0.226642</td>\n",
              "      <td>0.652917</td>\n",
              "      <td>50736</td>\n",
              "    </tr>\n",
              "    <tr>\n",
              "      <th>2012-12-28</th>\n",
              "      <th>spring</th>\n",
              "      <td>0.253333</td>\n",
              "      <td>0.255046</td>\n",
              "      <td>0.590000</td>\n",
              "      <td>74280</td>\n",
              "    </tr>\n",
              "    <tr>\n",
              "      <th>2012-12-29</th>\n",
              "      <th>spring</th>\n",
              "      <td>0.253333</td>\n",
              "      <td>0.242400</td>\n",
              "      <td>0.752917</td>\n",
              "      <td>32184</td>\n",
              "    </tr>\n",
              "    <tr>\n",
              "      <th>2012-12-30</th>\n",
              "      <th>spring</th>\n",
              "      <td>0.255833</td>\n",
              "      <td>0.231700</td>\n",
              "      <td>0.483333</td>\n",
              "      <td>43104</td>\n",
              "    </tr>\n",
              "    <tr>\n",
              "      <th>2012-12-31</th>\n",
              "      <th>spring</th>\n",
              "      <td>0.215833</td>\n",
              "      <td>0.223487</td>\n",
              "      <td>0.577500</td>\n",
              "      <td>65496</td>\n",
              "    </tr>\n",
              "  </tbody>\n",
              "</table>\n",
              "<p>731 rows × 4 columns</p>\n",
              "</div>"
            ],
            "text/plain": [
              "                       temp     atemp       hum  counts\n",
              "dteday     season                                      \n",
              "2011-01-01 spring  0.344167  0.363625  0.805833   23640\n",
              "2011-01-02 spring  0.363478  0.353739  0.696087   18423\n",
              "2011-01-03 spring  0.196364  0.189405  0.437273   29678\n",
              "2011-01-04 spring  0.200000  0.212122  0.590435   35926\n",
              "2011-01-05 spring  0.226957  0.229270  0.436957   36800\n",
              "...                     ...       ...       ...     ...\n",
              "2012-12-27 spring  0.254167  0.226642  0.652917   50736\n",
              "2012-12-28 spring  0.253333  0.255046  0.590000   74280\n",
              "2012-12-29 spring  0.253333  0.242400  0.752917   32184\n",
              "2012-12-30 spring  0.255833  0.231700  0.483333   43104\n",
              "2012-12-31 spring  0.215833  0.223487  0.577500   65496\n",
              "\n",
              "[731 rows x 4 columns]"
            ]
          },
          "execution_count": 676,
          "metadata": {},
          "output_type": "execute_result"
        }
      ],
      "source": [
        "all_df.groupby(by=[\"dteday\", \"season\"]).agg({\n",
        "    \"temp\": \"mean\",\n",
        "    \"atemp\": \"mean\",\n",
        "    \"hum\": \"mean\",\n",
        "    \"counts\": \"sum\"\n",
        "})"
      ]
    },
    {
      "cell_type": "code",
      "execution_count": 677,
      "metadata": {},
      "outputs": [
        {
          "data": {
            "text/html": [
              "<div>\n",
              "<style scoped>\n",
              "    .dataframe tbody tr th:only-of-type {\n",
              "        vertical-align: middle;\n",
              "    }\n",
              "\n",
              "    .dataframe tbody tr th {\n",
              "        vertical-align: top;\n",
              "    }\n",
              "\n",
              "    .dataframe thead th {\n",
              "        text-align: right;\n",
              "    }\n",
              "</style>\n",
              "<table border=\"1\" class=\"dataframe\">\n",
              "  <thead>\n",
              "    <tr style=\"text-align: right;\">\n",
              "      <th></th>\n",
              "      <th>holiday</th>\n",
              "      <th>temp</th>\n",
              "      <th>atemp</th>\n",
              "      <th>hum</th>\n",
              "      <th>windspeed</th>\n",
              "      <th>casual</th>\n",
              "      <th>registered</th>\n",
              "      <th>counts</th>\n",
              "      <th>hour</th>\n",
              "      <th>season_1</th>\n",
              "      <th>season_2</th>\n",
              "      <th>season_3</th>\n",
              "      <th>season_4</th>\n",
              "    </tr>\n",
              "  </thead>\n",
              "  <tbody>\n",
              "    <tr>\n",
              "      <th>count</th>\n",
              "      <td>17379.000000</td>\n",
              "      <td>17379.000000</td>\n",
              "      <td>17379.000000</td>\n",
              "      <td>17379.000000</td>\n",
              "      <td>17379.000000</td>\n",
              "      <td>17379.000000</td>\n",
              "      <td>17379.000000</td>\n",
              "      <td>17379.000000</td>\n",
              "      <td>17379.000000</td>\n",
              "      <td>17379.000000</td>\n",
              "      <td>17379.000000</td>\n",
              "      <td>17379.000000</td>\n",
              "      <td>17379.000000</td>\n",
              "    </tr>\n",
              "    <tr>\n",
              "      <th>mean</th>\n",
              "      <td>0.028770</td>\n",
              "      <td>0.496987</td>\n",
              "      <td>0.475775</td>\n",
              "      <td>0.627229</td>\n",
              "      <td>0.190098</td>\n",
              "      <td>854.339720</td>\n",
              "      <td>3679.353242</td>\n",
              "      <td>4533.692963</td>\n",
              "      <td>11.546752</td>\n",
              "      <td>0.244088</td>\n",
              "      <td>0.253697</td>\n",
              "      <td>0.258703</td>\n",
              "      <td>0.243512</td>\n",
              "    </tr>\n",
              "    <tr>\n",
              "      <th>std</th>\n",
              "      <td>0.167165</td>\n",
              "      <td>0.182445</td>\n",
              "      <td>0.162426</td>\n",
              "      <td>0.141779</td>\n",
              "      <td>0.077204</td>\n",
              "      <td>685.686754</td>\n",
              "      <td>1544.953518</td>\n",
              "      <td>1917.376947</td>\n",
              "      <td>6.914405</td>\n",
              "      <td>0.429557</td>\n",
              "      <td>0.435139</td>\n",
              "      <td>0.437935</td>\n",
              "      <td>0.429214</td>\n",
              "    </tr>\n",
              "    <tr>\n",
              "      <th>min</th>\n",
              "      <td>0.000000</td>\n",
              "      <td>0.059130</td>\n",
              "      <td>0.079070</td>\n",
              "      <td>0.000000</td>\n",
              "      <td>0.022392</td>\n",
              "      <td>2.000000</td>\n",
              "      <td>20.000000</td>\n",
              "      <td>22.000000</td>\n",
              "      <td>0.000000</td>\n",
              "      <td>0.000000</td>\n",
              "      <td>0.000000</td>\n",
              "      <td>0.000000</td>\n",
              "      <td>0.000000</td>\n",
              "    </tr>\n",
              "    <tr>\n",
              "      <th>25%</th>\n",
              "      <td>0.000000</td>\n",
              "      <td>0.340000</td>\n",
              "      <td>0.338363</td>\n",
              "      <td>0.520000</td>\n",
              "      <td>0.134950</td>\n",
              "      <td>318.000000</td>\n",
              "      <td>2545.000000</td>\n",
              "      <td>3214.000000</td>\n",
              "      <td>6.000000</td>\n",
              "      <td>0.000000</td>\n",
              "      <td>0.000000</td>\n",
              "      <td>0.000000</td>\n",
              "      <td>0.000000</td>\n",
              "    </tr>\n",
              "    <tr>\n",
              "      <th>50%</th>\n",
              "      <td>0.000000</td>\n",
              "      <td>0.502500</td>\n",
              "      <td>0.490122</td>\n",
              "      <td>0.625833</td>\n",
              "      <td>0.180967</td>\n",
              "      <td>724.000000</td>\n",
              "      <td>3681.000000</td>\n",
              "      <td>4563.000000</td>\n",
              "      <td>12.000000</td>\n",
              "      <td>0.000000</td>\n",
              "      <td>0.000000</td>\n",
              "      <td>0.000000</td>\n",
              "      <td>0.000000</td>\n",
              "    </tr>\n",
              "    <tr>\n",
              "      <th>75%</th>\n",
              "      <td>0.000000</td>\n",
              "      <td>0.655833</td>\n",
              "      <td>0.610488</td>\n",
              "      <td>0.729583</td>\n",
              "      <td>0.233204</td>\n",
              "      <td>1100.000000</td>\n",
              "      <td>4801.000000</td>\n",
              "      <td>5986.000000</td>\n",
              "      <td>18.000000</td>\n",
              "      <td>0.000000</td>\n",
              "      <td>1.000000</td>\n",
              "      <td>1.000000</td>\n",
              "      <td>0.000000</td>\n",
              "    </tr>\n",
              "    <tr>\n",
              "      <th>max</th>\n",
              "      <td>1.000000</td>\n",
              "      <td>0.861667</td>\n",
              "      <td>0.840896</td>\n",
              "      <td>0.972500</td>\n",
              "      <td>0.507463</td>\n",
              "      <td>3410.000000</td>\n",
              "      <td>6946.000000</td>\n",
              "      <td>8714.000000</td>\n",
              "      <td>23.000000</td>\n",
              "      <td>1.000000</td>\n",
              "      <td>1.000000</td>\n",
              "      <td>1.000000</td>\n",
              "      <td>1.000000</td>\n",
              "    </tr>\n",
              "  </tbody>\n",
              "</table>\n",
              "</div>"
            ],
            "text/plain": [
              "            holiday          temp         atemp           hum     windspeed  \\\n",
              "count  17379.000000  17379.000000  17379.000000  17379.000000  17379.000000   \n",
              "mean       0.028770      0.496987      0.475775      0.627229      0.190098   \n",
              "std        0.167165      0.182445      0.162426      0.141779      0.077204   \n",
              "min        0.000000      0.059130      0.079070      0.000000      0.022392   \n",
              "25%        0.000000      0.340000      0.338363      0.520000      0.134950   \n",
              "50%        0.000000      0.502500      0.490122      0.625833      0.180967   \n",
              "75%        0.000000      0.655833      0.610488      0.729583      0.233204   \n",
              "max        1.000000      0.861667      0.840896      0.972500      0.507463   \n",
              "\n",
              "             casual    registered        counts          hour      season_1  \\\n",
              "count  17379.000000  17379.000000  17379.000000  17379.000000  17379.000000   \n",
              "mean     854.339720   3679.353242   4533.692963     11.546752      0.244088   \n",
              "std      685.686754   1544.953518   1917.376947      6.914405      0.429557   \n",
              "min        2.000000     20.000000     22.000000      0.000000      0.000000   \n",
              "25%      318.000000   2545.000000   3214.000000      6.000000      0.000000   \n",
              "50%      724.000000   3681.000000   4563.000000     12.000000      0.000000   \n",
              "75%     1100.000000   4801.000000   5986.000000     18.000000      0.000000   \n",
              "max     3410.000000   6946.000000   8714.000000     23.000000      1.000000   \n",
              "\n",
              "           season_2      season_3      season_4  \n",
              "count  17379.000000  17379.000000  17379.000000  \n",
              "mean       0.253697      0.258703      0.243512  \n",
              "std        0.435139      0.437935      0.429214  \n",
              "min        0.000000      0.000000      0.000000  \n",
              "25%        0.000000      0.000000      0.000000  \n",
              "50%        0.000000      0.000000      0.000000  \n",
              "75%        1.000000      1.000000      0.000000  \n",
              "max        1.000000      1.000000      1.000000  "
            ]
          },
          "execution_count": 677,
          "metadata": {},
          "output_type": "execute_result"
        }
      ],
      "source": [
        "all_df.describe()"
      ]
    },
    {
      "cell_type": "code",
      "execution_count": 678,
      "metadata": {},
      "outputs": [
        {
          "data": {
            "text/plain": [
              "4098    48\n",
              "4401    48\n",
              "2425    48\n",
              "5409    48\n",
              "6591    48\n",
              "        ..\n",
              "4334    17\n",
              "506     16\n",
              "683     12\n",
              "431      8\n",
              "22       1\n",
              "Name: counts, Length: 696, dtype: int64"
            ]
          },
          "execution_count": 678,
          "metadata": {},
          "output_type": "execute_result"
        }
      ],
      "source": [
        "all_df.counts.value_counts()"
      ]
    },
    {
      "cell_type": "code",
      "execution_count": 679,
      "metadata": {},
      "outputs": [
        {
          "data": {
            "text/plain": [
              "fall      4496\n",
              "summer    4409\n",
              "spring    4242\n",
              "winter    4232\n",
              "Name: season, dtype: int64"
            ]
          },
          "execution_count": 679,
          "metadata": {},
          "output_type": "execute_result"
        }
      ],
      "source": [
        "all_df.season.value_counts()"
      ]
    },
    {
      "cell_type": "code",
      "execution_count": 680,
      "metadata": {},
      "outputs": [
        {
          "data": {
            "text/plain": [
              "78791050"
            ]
          },
          "execution_count": 680,
          "metadata": {},
          "output_type": "execute_result"
        }
      ],
      "source": [
        "all_df.counts.sum()"
      ]
    },
    {
      "cell_type": "code",
      "execution_count": 682,
      "metadata": {},
      "outputs": [
        {
          "name": "stdout",
          "output_type": "stream",
          "text": [
            "<class 'pandas.core.frame.DataFrame'>\n",
            "Int64Index: 17379 entries, 0 to 17378\n",
            "Data columns (total 20 columns):\n",
            " #   Column      Non-Null Count  Dtype         \n",
            "---  ------      --------------  -----         \n",
            " 0   dteday      17379 non-null  datetime64[ns]\n",
            " 1   season      17379 non-null  object        \n",
            " 2   year        17379 non-null  object        \n",
            " 3   month       17379 non-null  object        \n",
            " 4   holiday     17379 non-null  int64         \n",
            " 5   weekday     17379 non-null  object        \n",
            " 6   workingday  17379 non-null  object        \n",
            " 7   weathersit  17379 non-null  object        \n",
            " 8   temp        17379 non-null  float64       \n",
            " 9   atemp       17379 non-null  float64       \n",
            " 10  hum         17379 non-null  float64       \n",
            " 11  windspeed   17379 non-null  float64       \n",
            " 12  casual      17379 non-null  int64         \n",
            " 13  registered  17379 non-null  int64         \n",
            " 14  counts      17379 non-null  int64         \n",
            " 15  hour        17379 non-null  int64         \n",
            " 16  season_1    17379 non-null  int32         \n",
            " 17  season_2    17379 non-null  int32         \n",
            " 18  season_3    17379 non-null  int32         \n",
            " 19  season_4    17379 non-null  int32         \n",
            "dtypes: datetime64[ns](1), float64(4), int32(4), int64(5), object(6)\n",
            "memory usage: 2.5+ MB\n"
          ]
        }
      ],
      "source": [
        "all_df.info()"
      ]
    },
    {
      "cell_type": "code",
      "execution_count": 683,
      "metadata": {},
      "outputs": [
        {
          "name": "stdout",
          "output_type": "stream",
          "text": [
            "Jumlah duplikasi:  0\n"
          ]
        }
      ],
      "source": [
        "print(\"Jumlah duplikasi: \", all_df.duplicated().sum())"
      ]
    },
    {
      "cell_type": "code",
      "execution_count": 681,
      "metadata": {},
      "outputs": [],
      "source": [
        "all_df.to_csv('all_data.csv', index=False)"
      ]
    },
    {
      "cell_type": "markdown",
      "metadata": {
        "id": "zsyZjqak8DC2"
      },
      "source": [
        "## Visualization & Explanatory Analysis"
      ]
    },
    {
      "cell_type": "code",
      "execution_count": 747,
      "metadata": {
        "colab": {
          "base_uri": "https://localhost:8080/",
          "height": 651
        },
        "id": "bs0aIHqjaRmE",
        "outputId": "6ab6d9ce-cdad-4b6e-b2b2-7ab56691bac6"
      },
      "outputs": [
        {
          "data": {
            "image/png": "[encoded data removed]",
            "text/plain": [
              "<Figure size 576x432 with 1 Axes>"
            ]
          },
          "metadata": {
            "needs_background": "light"
          },
          "output_type": "display_data"
        }
      ],
      "source": [
        "# Pola Penggunaan Penyewaan Sepeda pada Hari Kerja vs Hari Libur\n",
        "all_type_counts = all_df['workingday'].value_counts()\n",
        "\n",
        "plt.figure(figsize=(8, 6))\n",
        "sns.barplot(x=all_type_counts.index, y=all_type_counts.values, palette='viridis')\n",
        "\n",
        "plt.xlabel('Hari')\n",
        "plt.ylabel('Jumlah Penyewaan')\n",
        "plt.title('Pola Penggunaan Penyewaan Sepeda pada Hari Kerja vs Hari Libur')\n",
        "plt.show()"
      ]
    },
    {
      "cell_type": "code",
      "execution_count": 713,
      "metadata": {
        "colab": {
          "base_uri": "https://localhost:8080/",
          "height": 632
        },
        "id": "Bdql4x2fVEa_",
        "outputId": "8b0610ee-7842-46d1-c6a6-243f473fb06e"
      },
      "outputs": [
        {
          "name": "stdout",
          "output_type": "stream",
          "text": [
            "\n",
            "Analisis tren dari waktu ke waktu:\n"
          ]
        },
        {
          "data": {
            "text/plain": [
              "<AxesSubplot:title={'center':'Tren Penyewaan Sepeda dari Waktu ke Waktu'}, xlabel='dteday'>"
            ]
          },
          "execution_count": 713,
          "metadata": {},
          "output_type": "execute_result"
        },
        {
          "data": {
            "image/png": "[encoded data removed]",
            "text/plain": [
              "<Figure size 864x432 with 1 Axes>"
            ]
          },
          "metadata": {
            "needs_background": "light"
          },
          "output_type": "display_data"
        }
      ],
      "source": [
        "# Analisis Tren Waktu\n",
        "print(\"\\nAnalisis tren dari waktu ke waktu:\")\n",
        "all_df.set_index('dteday')['counts'].plot(figsize=(12, 6), title='Tren Penyewaan Sepeda dari Waktu ke Waktu')"
      ]
    },
    {
      "cell_type": "code",
      "execution_count": 714,
      "metadata": {
        "colab": {
          "base_uri": "https://localhost:8080/",
          "height": 630
        },
        "id": "EhQNFrR3jqq_",
        "outputId": "94d84bf4-ac14-4d01-d2bd-80ed4fbbf361"
      },
      "outputs": [
        {
          "name": "stderr",
          "output_type": "stream",
          "text": [
            "c:\\Users\\Azhar\\anaconda3\\envs\\tf2\\lib\\site-packages\\seaborn\\_decorators.py:43: FutureWarning: Pass the following variable as a keyword arg: x. From version 0.12, the only valid positional argument will be `data`, and passing other arguments without an explicit keyword will result in an error or misinterpretation.\n",
            "  FutureWarning\n"
          ]
        },
        {
          "data": {
            "image/png": "[encoded data removed]",
            "text/plain": [
              "<Figure size 1440x576 with 2 Axes>"
            ]
          },
          "metadata": {
            "needs_background": "light"
          },
          "output_type": "display_data"
        }
      ],
      "source": [
        "# Visualisasi Distribusi dan Karakteristik Variabel Windspeed\n",
        "plt.figure(figsize=(20,8))\n",
        "\n",
        "plt.subplot(1,2,1)\n",
        "plt.title(\"Plot Distriubsi Kecepatan Angin (Windspeed)\")\n",
        "sns.histplot(all_df.windspeed, color = 'green')\n",
        "\n",
        "plt.subplot(1,2,2)\n",
        "plt.title(\"Boxplot Kecepatan Angin (Windspeed)\")\n",
        "sns.boxplot(all_df.windspeed)\n",
        "\n",
        "plt.show()"
      ]
    },
    {
      "cell_type": "code",
      "execution_count": 715,
      "metadata": {
        "colab": {
          "base_uri": "https://localhost:8080/",
          "height": 627
        },
        "id": "Rp1rKTRVjqoK",
        "outputId": "c834cdb5-bdc3-498d-bde4-44c8ba47b4aa"
      },
      "outputs": [
        {
          "name": "stderr",
          "output_type": "stream",
          "text": [
            "c:\\Users\\Azhar\\anaconda3\\envs\\tf2\\lib\\site-packages\\seaborn\\_decorators.py:43: FutureWarning: Pass the following variable as a keyword arg: x. From version 0.12, the only valid positional argument will be `data`, and passing other arguments without an explicit keyword will result in an error or misinterpretation.\n",
            "  FutureWarning\n"
          ]
        },
        {
          "data": {
            "image/png": "[encoded data removed]",
            "text/plain": [
              "<Figure size 1440x576 with 2 Axes>"
            ]
          },
          "metadata": {
            "needs_background": "light"
          },
          "output_type": "display_data"
        }
      ],
      "source": [
        "# Visualisasi Distribusi dan Karakteristik Variabel Temp\n",
        "plt.figure(figsize=(20,8))\n",
        "\n",
        "plt.subplot(1,2,1)\n",
        "plt.title(\"Plot Distribusi Temperatur (temp)\")\n",
        "sns.histplot(all_df.temp, color='red')\n",
        "\n",
        "plt.subplot(1,2,2)\n",
        "plt.title(\"Boxplot Temperatur (temp)\")\n",
        "sns.boxplot(all_df.temp)\n",
        "\n",
        "plt.show()"
      ]
    },
    {
      "cell_type": "code",
      "execution_count": 717,
      "metadata": {
        "colab": {
          "base_uri": "https://localhost:8080/",
          "height": 630
        },
        "id": "vseVy68zjqlM",
        "outputId": "812c971e-12dd-4a58-b4e7-6826df51fbc4"
      },
      "outputs": [
        {
          "name": "stderr",
          "output_type": "stream",
          "text": [
            "c:\\Users\\Azhar\\anaconda3\\envs\\tf2\\lib\\site-packages\\seaborn\\_decorators.py:43: FutureWarning: Pass the following variable as a keyword arg: x. From version 0.12, the only valid positional argument will be `data`, and passing other arguments without an explicit keyword will result in an error or misinterpretation.\n",
            "  FutureWarning\n"
          ]
        },
        {
          "data": {
            "image/png": "[encoded data removed]",
            "text/plain": [
              "<Figure size 1440x576 with 2 Axes>"
            ]
          },
          "metadata": {
            "needs_background": "light"
          },
          "output_type": "display_data"
        }
      ],
      "source": [
        "# Visualisasi Distribusi dan Karakteristik Variabel Atemp\n",
        "plt.figure(figsize=(20,8))\n",
        "\n",
        "plt.subplot(1,2,1)\n",
        "plt.title(\"Plot Distribusi suhu sebenarnya (atemp)\")\n",
        "sns.histplot(all_df.atemp)\n",
        "\n",
        "plt.subplot(1,2,2)\n",
        "plt.title(\"Boxplot suhu sebenarnya (atemp)\")\n",
        "sns.boxplot(all_df.atemp)\n",
        "\n",
        "plt.show()"
      ]
    },
    {
      "cell_type": "code",
      "execution_count": 718,
      "metadata": {
        "colab": {
          "base_uri": "https://localhost:8080/",
          "height": 630
        },
        "id": "Gh8W0Y16jqaY",
        "outputId": "c103fee1-7d9c-45e2-95cc-21a8abcb9012"
      },
      "outputs": [
        {
          "name": "stderr",
          "output_type": "stream",
          "text": [
            "c:\\Users\\Azhar\\anaconda3\\envs\\tf2\\lib\\site-packages\\seaborn\\_decorators.py:43: FutureWarning: Pass the following variable as a keyword arg: x. From version 0.12, the only valid positional argument will be `data`, and passing other arguments without an explicit keyword will result in an error or misinterpretation.\n",
            "  FutureWarning\n"
          ]
        },
        {
          "data": {
            "image/png": "[encoded data removed]",
            "text/plain": [
              "<Figure size 1440x576 with 2 Axes>"
            ]
          },
          "metadata": {
            "needs_background": "light"
          },
          "output_type": "display_data"
        }
      ],
      "source": [
        "# Visualisasi Distribusi dan Karakteristik Variabel Humidity\n",
        "plt.figure(figsize=(20,8))\n",
        "\n",
        "plt.subplot(1,2,1)\n",
        "plt.title(\"Plot Distribusi Kelembapan (humidity)\")\n",
        "sns.histplot(all_df.hum, color = 'g')\n",
        "\n",
        "plt.subplot(1,2,2)\n",
        "plt.title(\"Boxplot Kelembapan (humidity)\")\n",
        "sns.boxplot(all_df.hum)\n",
        "\n",
        "plt.show()"
      ]
    },
    {
      "cell_type": "code",
      "execution_count": 719,
      "metadata": {
        "colab": {
          "base_uri": "https://localhost:8080/",
          "height": 627
        },
        "id": "A1iE8l-moRe2",
        "outputId": "d12b2fad-7f18-46ae-e9c5-e9de465dd031"
      },
      "outputs": [
        {
          "name": "stderr",
          "output_type": "stream",
          "text": [
            "c:\\Users\\Azhar\\anaconda3\\envs\\tf2\\lib\\site-packages\\seaborn\\_decorators.py:43: FutureWarning: Pass the following variable as a keyword arg: x. From version 0.12, the only valid positional argument will be `data`, and passing other arguments without an explicit keyword will result in an error or misinterpretation.\n",
            "  FutureWarning\n"
          ]
        },
        {
          "data": {
            "image/png": "[encoded data removed]",
            "text/plain": [
              "<Figure size 1440x576 with 2 Axes>"
            ]
          },
          "metadata": {
            "needs_background": "light"
          },
          "output_type": "display_data"
        }
      ],
      "source": [
        "# Visualisasi Distribusi dan Karakteristik Variabel Casual\n",
        "plt.figure(figsize=(20,8))\n",
        "\n",
        "plt.subplot(1,2,1)\n",
        "plt.title(\"Plot distribusi pengguna biasa (casual)\")\n",
        "sns.histplot(all_df.casual, color = 'brown')\n",
        "\n",
        "plt.subplot(1,2,2)\n",
        "plt.title(\"Boxplot pengguna biasa (casual)\")\n",
        "sns.boxplot(all_df.casual)\n",
        "\n",
        "plt.show()"
      ]
    },
    {
      "cell_type": "code",
      "execution_count": 720,
      "metadata": {
        "colab": {
          "base_uri": "https://localhost:8080/",
          "height": 627
        },
        "id": "djIWVUtVoRbr",
        "outputId": "eed902a5-df64-4918-fb31-d4ef29a212eb"
      },
      "outputs": [
        {
          "name": "stderr",
          "output_type": "stream",
          "text": [
            "c:\\Users\\Azhar\\anaconda3\\envs\\tf2\\lib\\site-packages\\seaborn\\_decorators.py:43: FutureWarning: Pass the following variable as a keyword arg: x. From version 0.12, the only valid positional argument will be `data`, and passing other arguments without an explicit keyword will result in an error or misinterpretation.\n",
            "  FutureWarning\n"
          ]
        },
        {
          "data": {
            "image/png": "[encoded data removed]",
            "text/plain": [
              "<Figure size 1440x576 with 2 Axes>"
            ]
          },
          "metadata": {
            "needs_background": "light"
          },
          "output_type": "display_data"
        }
      ],
      "source": [
        "# Visualisasi Distribusi dan Karakteristik Variabel Registered\n",
        "plt.figure(figsize=(20,8))\n",
        "\n",
        "plt.subplot(1,2,1)\n",
        "plt.title(\"Plot distribusi pengguna terdaftar (registered)\")\n",
        "sns.histplot(all_df.registered, color = 'green')\n",
        "\n",
        "plt.subplot(1,2,2)\n",
        "plt.title(\"Boxplot pengguna terdaftar (registered)\")\n",
        "sns.boxplot(all_df.registered)\n",
        "\n",
        "plt.show()"
      ]
    },
    {
      "cell_type": "code",
      "execution_count": 721,
      "metadata": {
        "colab": {
          "base_uri": "https://localhost:8080/",
          "height": 739
        },
        "id": "oWHxqF_2oRYX",
        "outputId": "eb2513d1-c84b-46ed-efe4-5d6215c686c8"
      },
      "outputs": [
        {
          "data": {
            "image/png": "[encoded data removed]",
            "text/plain": [
              "<Figure size 1440x576 with 1 Axes>"
            ]
          },
          "metadata": {
            "needs_background": "light"
          },
          "output_type": "display_data"
        }
      ],
      "source": [
        "# Visualisasi Rata-rata pengguna pertahun\n",
        "plt.figure(figsize=(20,8))\n",
        "plt.subplot(1,2,1)\n",
        "plt.title(\" Rata-rata pengguna Per-tahun\")\n",
        "all_df.groupby('year')['counts'].mean().plot.bar()\n",
        "plt.show()"
      ]
    },
    {
      "cell_type": "code",
      "execution_count": 722,
      "metadata": {
        "colab": {
          "base_uri": "https://localhost:8080/",
          "height": 761
        },
        "id": "4fdqp14ToRUb",
        "outputId": "a5b9a7b6-0029-4daf-9563-0b19d94a9766"
      },
      "outputs": [
        {
          "data": {
            "image/png": "[encoded data removed]",
            "text/plain": [
              "<Figure size 1440x576 with 1 Axes>"
            ]
          },
          "metadata": {
            "needs_background": "light"
          },
          "output_type": "display_data"
        }
      ],
      "source": [
        "# Visualisasi Rata-rata pengguna tiap musim (season)\n",
        "plt.figure(figsize=(20,8))\n",
        "plt.subplot(1,2,1)\n",
        "plt.title(\"Rata-rata pengguna tiap musim (season)\")\n",
        "all_df.groupby('season')['counts'].mean().plot.bar()\n",
        "plt.show()"
      ]
    },
    {
      "cell_type": "code",
      "execution_count": 723,
      "metadata": {
        "colab": {
          "base_uri": "https://localhost:8080/",
          "height": 430
        },
        "id": "f6oJXXSlXbrh",
        "outputId": "d8dcf363-9dea-45e5-9373-dbc4203bc3e1"
      },
      "outputs": [
        {
          "data": {
            "image/png": "[encoded data removed]",
            "text/plain": [
              "<Figure size 432x288 with 1 Axes>"
            ]
          },
          "metadata": {
            "needs_background": "light"
          },
          "output_type": "display_data"
        }
      ],
      "source": [
        "# Distribusi dan kecenderungan pengguna terkait cuaca\n",
        "all_df.groupby('weathersit').size().plot(kind='barh', color=sns.palettes.mpl_palette('Dark2'))\n",
        "plt.gca().spines['top'].set_visible(False)\n",
        "plt.gca().spines['right'].set_visible(False)"
      ]
    },
    {
      "cell_type": "code",
      "execution_count": 748,
      "metadata": {
        "colab": {
          "base_uri": "https://localhost:8080/",
          "height": 581
        },
        "id": "86HiSd96rcE2",
        "outputId": "32875d96-d19d-4ca2-ad22-92224802ebff"
      },
      "outputs": [
        {
          "data": {
            "text/plain": [
              "Text(0.5, 1.0, 'Distribusi sewa sepeda V/S hari dalam seminggu')"
            ]
          },
          "execution_count": 748,
          "metadata": {},
          "output_type": "execute_result"
        },
        {
          "data": {
            "image/png": "[encoded data removed]",
            "text/plain": [
              "<Figure size 864x432 with 1 Axes>"
            ]
          },
          "metadata": {
            "needs_background": "light"
          },
          "output_type": "display_data"
        }
      ],
      "source": [
        "# Dsitribusi sewa perhari\n",
        "plt.figure(figsize=(12,6))\n",
        "sns.boxplot(x='weekday', y='counts', data=all_df)\n",
        "plt.title('Distribusi sewa sepeda V/S hari dalam seminggu')"
      ]
    },
    {
      "cell_type": "code",
      "execution_count": 725,
      "metadata": {
        "colab": {
          "base_uri": "https://localhost:8080/",
          "height": 564
        },
        "id": "zlzJUsQsOuTK",
        "outputId": "7d8d216f-fe2b-4a8e-cca7-89b30a4918a3"
      },
      "outputs": [
        {
          "data": {
            "image/png": "[encoded data removed]",
            "text/plain": [
              "<Figure size 864x432 with 1 Axes>"
            ]
          },
          "metadata": {
            "needs_background": "light"
          },
          "output_type": "display_data"
        }
      ],
      "source": [
        "# Distribusi sewa sepeda perbulan\n",
        "plt.figure(figsize=(12,6))\n",
        "sns.boxplot(x='month', y='counts', data=all_df)\n",
        "plt.title('Distribusi sewa sepeda V/S dalam sebulan')\n",
        "plt.show()"
      ]
    },
    {
      "cell_type": "code",
      "execution_count": 726,
      "metadata": {
        "colab": {
          "base_uri": "https://localhost:8080/",
          "height": 564
        },
        "id": "FwlkfmhPPpRB",
        "outputId": "64a8f72e-7139-4d42-f3f4-d0c075e690b8"
      },
      "outputs": [
        {
          "data": {
            "image/png": "[encoded data removed]",
            "text/plain": [
              "<Figure size 864x432 with 1 Axes>"
            ]
          },
          "metadata": {
            "needs_background": "light"
          },
          "output_type": "display_data"
        }
      ],
      "source": [
        "# Distribusi sewa sepeda permusim\n",
        "hour_df['season'] = hour_df[['season_1', 'season_2', 'season_3', 'season_4']].idxmax(axis=1)\n",
        "hour_df['season'] = hour_df['season'].map({'season_1': 'spring', 'season_2': 'summer', 'season_3': 'fall', 'season_4': 'winter'})\n",
        "plt.figure(figsize=(12,6))\n",
        "sns.boxplot(x='season', y='counts', data=all_df)\n",
        "plt.title('Distribusi sewa sepeda V/S seasons')\n",
        "plt.show()"
      ]
    },
    {
      "cell_type": "code",
      "execution_count": 727,
      "metadata": {
        "colab": {
          "base_uri": "https://localhost:8080/",
          "height": 564
        },
        "id": "a-RFBUZNQTq6",
        "outputId": "9740cbaa-e386-4852-cc4f-5a2e55c62f4e"
      },
      "outputs": [
        {
          "data": {
            "image/png": "[encoded data removed]",
            "text/plain": [
              "<Figure size 864x432 with 1 Axes>"
            ]
          },
          "metadata": {
            "needs_background": "light"
          },
          "output_type": "display_data"
        }
      ],
      "source": [
        "# Hubungan antara kondisi cuaca dengan persewaan sepeda\n",
        "plt.figure(figsize=(12,6))\n",
        "sns.boxplot(x='weathersit', y='counts', data=all_df)\n",
        "plt.title('Hubungan antara kondisi cuaca  V/S persewaan sepeda')\n",
        "plt.show()"
      ]
    },
    {
      "cell_type": "code",
      "execution_count": 733,
      "metadata": {
        "colab": {
          "base_uri": "https://localhost:8080/",
          "height": 490
        },
        "id": "3tV8o-IXQXGi",
        "outputId": "ddd8e901-3520-448f-ba07-b23376da06cd"
      },
      "outputs": [
        {
          "data": {
            "image/png": "[encoded data removed]",
            "text/plain": [
              "<Figure size 1440x432 with 1 Axes>"
            ]
          },
          "metadata": {
            "needs_background": "light"
          },
          "output_type": "display_data"
        }
      ],
      "source": [
        "# Hubungan antara kondisi suhu pada persewaan sepeda\n",
        "plt.figure(figsize=(20,6))\n",
        "sns.boxplot(x='temp', y='counts', data=all_df)\n",
        "plt.title('Hubungan antara kondisi suhu V/S persewaan sepeda')\n",
        "plt.show()"
      ]
    },
    {
      "cell_type": "code",
      "execution_count": 729,
      "metadata": {
        "colab": {
          "base_uri": "https://localhost:8080/",
          "height": 490
        },
        "id": "qkntq9cWQs0-",
        "outputId": "4c4009a5-c11e-47af-b9dd-faaa2d348332"
      },
      "outputs": [
        {
          "data": {
            "image/png": "[encoded data removed]",
            "text/plain": [
              "<Figure size 1440x432 with 1 Axes>"
            ]
          },
          "metadata": {
            "needs_background": "light"
          },
          "output_type": "display_data"
        }
      ],
      "source": [
        "# Hubungan antara kondisi suhu sebenarnya pada persewaan sepeda \n",
        "plt.figure(figsize=(20,6))\n",
        "sns.boxplot(x='atemp', y='counts', data=hour_df)\n",
        "plt.title('Hubungan antara kondisi suhu sebenarnya V/S persewaan sepeda')\n",
        "plt.show()"
      ]
    },
    {
      "cell_type": "code",
      "execution_count": 734,
      "metadata": {
        "colab": {
          "base_uri": "https://localhost:8080/",
          "height": 490
        },
        "id": "DkR9fqYUQ5vy",
        "outputId": "bff6be36-d9cc-45b3-e330-1c29aee2d704"
      },
      "outputs": [
        {
          "data": {
            "image/png": "[encoded data removed]",
            "text/plain": [
              "<Figure size 1440x432 with 1 Axes>"
            ]
          },
          "metadata": {
            "needs_background": "light"
          },
          "output_type": "display_data"
        }
      ],
      "source": [
        "# Hubungan antara kondisi kelembaban pada persewaan sepeda\n",
        "plt.figure(figsize=(20,6))\n",
        "sns.boxplot(x='hum', y='counts', data=all_df)\n",
        "plt.title('Hubungan antara kondisi kelembaban V/S persewaan sepeda')\n",
        "plt.show()"
      ]
    },
    {
      "cell_type": "code",
      "execution_count": 735,
      "metadata": {
        "colab": {
          "base_uri": "https://localhost:8080/",
          "height": 490
        },
        "id": "VMqF94VkRHYX",
        "outputId": "c419fc2d-50ba-41a2-db41-4b9372455e58"
      },
      "outputs": [
        {
          "data": {
            "image/png": "[encoded data removed]",
            "text/plain": [
              "<Figure size 1440x432 with 1 Axes>"
            ]
          },
          "metadata": {
            "needs_background": "light"
          },
          "output_type": "display_data"
        }
      ],
      "source": [
        "# Hubungan antara kecepatan angin pada persewaan sepeda\n",
        "plt.figure(figsize=(20,6))\n",
        "sns.boxplot(x='windspeed', y='counts', data=all_df)\n",
        "plt.title('Hubungan antara kecepatan angin V/S persewaan sepeda')\n",
        "plt.show()"
      ]
    },
    {
      "cell_type": "code",
      "execution_count": 746,
      "metadata": {
        "colab": {
          "base_uri": "https://localhost:8080/",
          "height": 376
        },
        "id": "RGELgyALryIC",
        "outputId": "a2fa2618-d834-47e5-b96a-09ea7f337a37"
      },
      "outputs": [
        {
          "data": {
            "image/png": "[encoded data removed]",
            "text/plain": [
              "<Figure size 864x432 with 1 Axes>"
            ]
          },
          "metadata": {
            "needs_background": "light"
          },
          "output_type": "display_data"
        }
      ],
      "source": [
        "# Tren harian peminjaman sepeda tergantung pada hari kerja (workingday)\n",
        "plt.figure(figsize=(12, 6))\n",
        "\n",
        "sns.barplot(x='hour', y='counts', hue='workingday', data=all_df, palette='viridis')\n",
        "\n",
        "plt.title('Tren Harian Peminjaman Sepeda tergantung pada Hari Kerja')\n",
        "plt.xlabel('Jam')\n",
        "plt.ylabel('Jumlah Penyewaan')\n",
        "\n",
        "# Tampilkan legenda\n",
        "plt.legend(title='Hari Kerja', loc='upper right')\n",
        "\n",
        "plt.show()"
      ]
    },
    {
      "cell_type": "code",
      "execution_count": 737,
      "metadata": {
        "colab": {
          "base_uri": "https://localhost:8080/",
          "height": 589
        },
        "id": "qSI1ndferyFn",
        "outputId": "af15b7fb-7f84-45b0-8800-73954b147172"
      },
      "outputs": [
        {
          "name": "stdout",
          "output_type": "stream",
          "text": [
            "\n",
            "Analisis tren dari waktu ke waktu:\n"
          ]
        },
        {
          "data": {
            "text/plain": [
              "<AxesSubplot:title={'center':'Tren Penyewaan Sepeda dari Waktu ke Waktu'}, xlabel='dteday'>"
            ]
          },
          "execution_count": 737,
          "metadata": {},
          "output_type": "execute_result"
        },
        {
          "data": {
            "image/png": "[encoded data removed]",
            "text/plain": [
              "<Figure size 864x432 with 1 Axes>"
            ]
          },
          "metadata": {
            "needs_background": "light"
          },
          "output_type": "display_data"
        }
      ],
      "source": [
        "# Analisis Tren Waktu\n",
        "print(\"\\nAnalisis tren dari waktu ke waktu:\")\n",
        "all_df.set_index('dteday')['counts'].plot(figsize=(12, 6), title='Tren Penyewaan Sepeda dari Waktu ke Waktu')\n"
      ]
    },
    {
      "cell_type": "markdown",
      "metadata": {
        "id": "z66Ddw26iqRm"
      },
      "source": [
        "## Analysis Lanjutan menggunakan K-Means Clustering"
      ]
    },
    {
      "cell_type": "code",
      "execution_count": 738,
      "metadata": {
        "colab": {
          "base_uri": "https://localhost:8080/",
          "height": 472
        },
        "id": "Q7VTqp-Gf9dw",
        "outputId": "3473d9cb-2815-424b-b114-b30c45f78ffd"
      },
      "outputs": [
        {
          "data": {
            "image/png": "[encoded data removed]",
            "text/plain": [
              "<Figure size 432x288 with 1 Axes>"
            ]
          },
          "metadata": {
            "needs_background": "light"
          },
          "output_type": "display_data"
        }
      ],
      "source": [
        "# Mengelompokkan data ke dalam beberapa cluster berdasarkan kemiripan fitur menggunakan K-Means CLustering\n",
        "X = all_df[['temp', 'hum']]\n",
        "\n",
        "# Normalisasi fitur\n",
        "X_normalized = (X - X.mean()) / X.std()\n",
        "\n",
        "# Menentukan jumlah cluster (k)\n",
        "k = 3\n",
        "\n",
        "# Inisialisasi centroid secara acak\n",
        "np.random.seed(42)\n",
        "centroids = X_normalized.sample(k).to_numpy()\n",
        "\n",
        "# Melakukan iterasi hingga konvergensi\n",
        "max_iter = 100\n",
        "for _ in range(max_iter):\n",
        "\n",
        "    # Menghitung jarak antara setiap titik dan centroid\n",
        "    distances = np.linalg.norm(X_normalized.values[:, np.newaxis] - centroids, axis=2)\n",
        "\n",
        "    # Menentukan cluster untuk setiap titik berdasarkan jarak terdekat\n",
        "    labels = np.argmin(distances, axis=1)\n",
        "\n",
        "    # Memperbarui centroid berdasarkan rata-rata titik dalam setiap cluster\n",
        "    new_centroids = np.array([X_normalized[labels == i].mean(axis=0) for i in range(k)])\n",
        "\n",
        "    # Memeriksa konvergensi\n",
        "    if np.all(centroids == new_centroids):\n",
        "        break\n",
        "\n",
        "    centroids = new_centroids\n",
        "\n",
        "# Menambahkan kolom cluster ke dataframe\n",
        "day_df['cluster'] = labels\n",
        "\n",
        "# Visualisasi\n",
        "plt.scatter(X_normalized['temp'], X_normalized['hum'], c=day_df['cluster'], cmap='viridis')\n",
        "plt.scatter(centroids[:, 0], centroids[:, 1], s=300, c='red', marker='X', label='Centroids')\n",
        "plt.xlabel('Normalized Temperature')\n",
        "plt.ylabel('Normalized Humidity')\n",
        "plt.title('K-Means Clustering on day_df')\n",
        "plt.legend()\n",
        "plt.show()"
      ]
    },
    {
      "cell_type": "markdown",
      "metadata": {
        "id": "EpFBRqX1i3KH"
      },
      "source": [
        "## Pertanyaan"
      ]
    },
    {
      "cell_type": "markdown",
      "metadata": {
        "id": "HZxOiQ6n8DC2"
      },
      "source": [
        "### Pertanyaan 1: Bagaimana pola penggunaan penyewaan sepeda pada hari kerja dibandingkan dengan hari libur?"
      ]
    },
    {
      "cell_type": "code",
      "execution_count": 739,
      "metadata": {
        "colab": {
          "base_uri": "https://localhost:8080/",
          "height": 651
        },
        "id": "1swJUdAD8DC2",
        "outputId": "863dec74-36fa-4738-e690-744a056999ca"
      },
      "outputs": [
        {
          "data": {
            "image/png": "[encoded data removed]",
            "text/plain": [
              "<Figure size 576x432 with 1 Axes>"
            ]
          },
          "metadata": {
            "needs_background": "light"
          },
          "output_type": "display_data"
        }
      ],
      "source": [
        "# Bagaimana pola penggunaan penyewaan sepeda pada hari kerja dibandingkan dengan hari libur?\n",
        "day_type_counts = all_df['workingday'].value_counts()\n",
        "\n",
        "plt.figure(figsize=(8, 6))\n",
        "sns.barplot(x=day_type_counts.index, y=day_type_counts.values, palette='viridis')\n",
        "\n",
        "plt.xlabel('Hari')\n",
        "plt.ylabel('Jumlah Penyewaan')\n",
        "plt.title('Pola Penggunaan Penyewaan Sepeda pada Hari Kerja vs Hari Libur')\n",
        "\n",
        "plt.show()"
      ]
    },
    {
      "cell_type": "markdown",
      "metadata": {
        "id": "DgHI7CiU8DC2"
      },
      "source": [
        "### Pertanyaan 2: Apakah penggunaan meningkat saat cuaca cerah atau menurun saat hujan?"
      ]
    },
    {
      "cell_type": "code",
      "execution_count": 741,
      "metadata": {
        "colab": {
          "base_uri": "https://localhost:8080/",
          "height": 430
        },
        "id": "Go0lCsvO8DC2",
        "outputId": "43198107-3125-4e45-bbda-38387c07701f"
      },
      "outputs": [
        {
          "data": {
            "image/png": "[encoded data removed]",
            "text/plain": [
              "<Figure size 432x288 with 1 Axes>"
            ]
          },
          "metadata": {
            "needs_background": "light"
          },
          "output_type": "display_data"
        }
      ],
      "source": [
        "# Apakah penggunaan meningkat saat cuaca cerah atau menurun saat hujan?\n",
        "\n",
        "all_df.groupby('weathersit').size().sort_values(ascending=True).plot(kind='barh', color=sns.palettes.mpl_palette('Dark2'))\n",
        "plt.gca().spines['top'].set_visible(False)\n",
        "plt.gca().spines['right'].set_visible(False)"
      ]
    },
    {
      "cell_type": "markdown",
      "metadata": {
        "id": "_WeHlCeX8DC2"
      },
      "source": [
        "## Conclusion/Kesimpulan"
      ]
    },
    {
      "cell_type": "markdown",
      "metadata": {
        "id": "ZTcyR48Y8DC2"
      },
      "source": [
        "- Pada Hari Libur terdapat peningkatan penggunaan/penyewaan sepeda, sedangkan pada Hari Kerja mengalami penurunan.\n",
        "- Ya, ada penurunan penggunaan/penyewaan pada saat hujan, hal tersebut bisa terlihat pada diagram batang pada visualisasi data diatas."
      ]
    }
  ],
  "metadata": {
    "colab": {
      "provenance": []
    },
    "kernelspec": {
      "display_name": "Python 3",
      "language": "python",
      "name": "python3"
    },
    "language_info": {
      "codemirror_mode": {
        "name": "ipython",
        "version": 3
      },
      "file_extension": ".py",
      "mimetype": "text/x-python",
      "name": "python",
      "nbconvert_exporter": "python",
      "pygments_lexer": "ipython3",
      "version": "3.6.13"
    },
    "orig_nbformat": 4,
    "vscode": {
      "interpreter": {
        "hash": "972b3bf27e332e87b5379f2791f6ef9dfc79c71018c370b0d7423235e20fe4d7"
      }
    }
  },
  "nbformat": 4,
  "nbformat_minor": 0
}
